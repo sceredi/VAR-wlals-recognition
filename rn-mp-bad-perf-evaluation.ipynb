{
 "cells": [
  {
   "metadata": {
    "ExecuteTime": {
     "end_time": "2025-03-12T16:19:53.601062Z",
     "start_time": "2025-03-12T16:19:53.598400Z"
    }
   },
   "cell_type": "code",
   "source": "import numpy as np",
   "outputs": [],
   "execution_count": 24
  },
  {
   "metadata": {
    "ExecuteTime": {
     "end_time": "2025-03-12T16:19:53.618138Z",
     "start_time": "2025-03-12T16:19:53.616264Z"
    }
   },
   "cell_type": "code",
   "source": [
    "from wlasl_mediapipe.app.mp.models.globals import FilteredLabels\n",
    "glosses = FilteredLabels.get_labels()"
   ],
   "outputs": [],
   "execution_count": 25
  },
  {
   "metadata": {
    "ExecuteTime": {
     "end_time": "2025-03-12T16:19:53.670515Z",
     "start_time": "2025-03-12T16:19:53.660035Z"
    }
   },
   "cell_type": "code",
   "source": "labels_dict = np.load(\"data/labels.npz\", allow_pickle=True)",
   "outputs": [],
   "execution_count": 26
  },
  {
   "metadata": {
    "ExecuteTime": {
     "end_time": "2025-03-12T16:19:53.753898Z",
     "start_time": "2025-03-12T16:19:53.706879Z"
    }
   },
   "cell_type": "code",
   "source": "Y_labels = [labels_dict[gloss] for gloss in glosses]",
   "outputs": [],
   "execution_count": 27
  },
  {
   "metadata": {
    "ExecuteTime": {
     "end_time": "2025-03-12T16:19:53.766260Z",
     "start_time": "2025-03-12T16:19:53.764277Z"
    }
   },
   "cell_type": "code",
   "source": "print(len(Y_labels))",
   "outputs": [
    {
     "name": "stdout",
     "output_type": "stream",
     "text": [
      "351\n"
     ]
    }
   ],
   "execution_count": 28
  },
  {
   "metadata": {
    "ExecuteTime": {
     "end_time": "2025-03-12T16:19:53.872114Z",
     "start_time": "2025-03-12T16:19:53.869870Z"
    }
   },
   "cell_type": "code",
   "source": [
    "y_pred = Y_labels[0]\n",
    "y_true = Y_labels[1:]"
   ],
   "outputs": [],
   "execution_count": 29
  },
  {
   "metadata": {
    "ExecuteTime": {
     "end_time": "2025-03-12T16:19:53.919739Z",
     "start_time": "2025-03-12T16:19:53.916599Z"
    }
   },
   "cell_type": "code",
   "source": "correct_class = [np.argmax(y_pred) == np.argmax(y) for y in y_true]",
   "outputs": [],
   "execution_count": 30
  },
  {
   "metadata": {
    "ExecuteTime": {
     "end_time": "2025-03-12T16:19:53.967252Z",
     "start_time": "2025-03-12T16:19:53.964517Z"
    }
   },
   "cell_type": "code",
   "source": [
    "correct_percentage = (sum(correct_class) / len(correct_class)) * 100\n",
    "print(correct_percentage)"
   ],
   "outputs": [
    {
     "name": "stdout",
     "output_type": "stream",
     "text": [
      "42.0\n"
     ]
    }
   ],
   "execution_count": 31
  },
  {
   "metadata": {
    "ExecuteTime": {
     "end_time": "2025-03-12T16:19:54.018481Z",
     "start_time": "2025-03-12T16:19:54.015644Z"
    }
   },
   "cell_type": "code",
   "source": "glosses[0]",
   "outputs": [
    {
     "data": {
      "text/plain": [
       "'give'"
      ]
     },
     "execution_count": 32,
     "metadata": {},
     "output_type": "execute_result"
    }
   ],
   "execution_count": 32
  },
  {
   "metadata": {
    "ExecuteTime": {
     "end_time": "2025-03-12T16:19:54.070955Z",
     "start_time": "2025-03-12T16:19:54.065358Z"
    }
   },
   "cell_type": "code",
   "source": "glosses[1:]",
   "outputs": [
    {
     "data": {
      "text/plain": [
       "['turn',\n",
       " 'way',\n",
       " 'improve',\n",
       " 'hill',\n",
       " 'take',\n",
       " 'my',\n",
       " 'middle',\n",
       " 'rest',\n",
       " 'suggest',\n",
       " 'go',\n",
       " 'no',\n",
       " 'excuse',\n",
       " 'first',\n",
       " 'send',\n",
       " 'end',\n",
       " 'miss',\n",
       " 'there',\n",
       " 'buy',\n",
       " 'suppose',\n",
       " 'yes',\n",
       " 'develop',\n",
       " 'chance',\n",
       " 'prepare',\n",
       " 'answer',\n",
       " 'avoid',\n",
       " 'grateful',\n",
       " 'none',\n",
       " 'offer',\n",
       " 'thing',\n",
       " 'wow',\n",
       " 'break',\n",
       " 'hour',\n",
       " 'invest',\n",
       " 'or',\n",
       " 'start',\n",
       " 'organize',\n",
       " 'bad',\n",
       " 'motivate',\n",
       " 'ride',\n",
       " 'weekend',\n",
       " 'welcome',\n",
       " 'bother',\n",
       " 'east',\n",
       " 'should',\n",
       " 'visualize',\n",
       " 'skip',\n",
       " 'long',\n",
       " 'again',\n",
       " 'we',\n",
       " 'you',\n",
       " 'stretch',\n",
       " 'time',\n",
       " 'make',\n",
       " 'bribe',\n",
       " 'email',\n",
       " 'inspire',\n",
       " 'what',\n",
       " 'learn',\n",
       " 'catch',\n",
       " 'to',\n",
       " 'street',\n",
       " 'identify',\n",
       " 'earn',\n",
       " 'minute',\n",
       " 'guide',\n",
       " 'freeway',\n",
       " 'appreciate',\n",
       " 'only',\n",
       " 'empty',\n",
       " 'kiss',\n",
       " 'around',\n",
       " 'inform',\n",
       " 'mad',\n",
       " 'through',\n",
       " 'dirt',\n",
       " 'in',\n",
       " 'stupid',\n",
       " 'arrive',\n",
       " 'forgive',\n",
       " 'determine',\n",
       " 'borrow',\n",
       " 'zero',\n",
       " 'shame',\n",
       " 'while',\n",
       " 'say',\n",
       " 'establish',\n",
       " 'once',\n",
       " 'postpone',\n",
       " 'disgusted',\n",
       " 'discuss',\n",
       " 'on',\n",
       " 'near',\n",
       " 'save',\n",
       " 'ask',\n",
       " 'but',\n",
       " 'rush',\n",
       " 'sell',\n",
       " 'nothing',\n",
       " 'aim',\n",
       " 'after',\n",
       " 'lend',\n",
       " 'clueless',\n",
       " 'gamble',\n",
       " 'order',\n",
       " 'all',\n",
       " 'manage',\n",
       " 'intersection',\n",
       " 'reason',\n",
       " 'wander',\n",
       " 'place',\n",
       " 'south',\n",
       " 'waste',\n",
       " 'feel',\n",
       " 'within',\n",
       " 'dumb',\n",
       " 'then',\n",
       " 'cost',\n",
       " 'get',\n",
       " 'not',\n",
       " 'address',\n",
       " 'and',\n",
       " 'decide',\n",
       " 'guess',\n",
       " 'pocket',\n",
       " 'explain',\n",
       " 'provide',\n",
       " 'why',\n",
       " 'up',\n",
       " 'road',\n",
       " 'highway',\n",
       " 'push',\n",
       " 'beside',\n",
       " 'sit',\n",
       " 'bridge',\n",
       " 'attract',\n",
       " 'dollar',\n",
       " 'pray',\n",
       " 'solve',\n",
       " 'ahead',\n",
       " 'think',\n",
       " 'wish',\n",
       " 'wait',\n",
       " 'any',\n",
       " 'bus',\n",
       " 'aid',\n",
       " 'when',\n",
       " 'few',\n",
       " 'next',\n",
       " 'kill',\n",
       " 'silly',\n",
       " 'teach',\n",
       " 'bicycle',\n",
       " 'beginning',\n",
       " 'wrong',\n",
       " 'one',\n",
       " 'pay',\n",
       " 'understand',\n",
       " 'quit',\n",
       " 'admit',\n",
       " 'can',\n",
       " 'car',\n",
       " 'mean',\n",
       " 'north',\n",
       " 'walk',\n",
       " 'shout',\n",
       " 'bring',\n",
       " 'benefit',\n",
       " 'right',\n",
       " 'last',\n",
       " 'willing',\n",
       " 'night',\n",
       " 'terrible',\n",
       " 'assist',\n",
       " 'fix',\n",
       " 'will',\n",
       " 'see',\n",
       " 'enough',\n",
       " 'before',\n",
       " 'sad',\n",
       " 'half',\n",
       " 'support',\n",
       " 'know',\n",
       " 'ready',\n",
       " 'since',\n",
       " 'hello',\n",
       " 'this',\n",
       " 'awful',\n",
       " 'lose',\n",
       " 'ignore',\n",
       " 'another',\n",
       " 'pull',\n",
       " 'now',\n",
       " 'find',\n",
       " 'because',\n",
       " 'if',\n",
       " 'behind',\n",
       " 'bye',\n",
       " 'doubt',\n",
       " 'recover',\n",
       " 'bless',\n",
       " 'over',\n",
       " 'finance',\n",
       " 'geography',\n",
       " 'invite',\n",
       " 'wonder',\n",
       " 'either',\n",
       " 'out',\n",
       " 'refuse',\n",
       " 'until',\n",
       " 'later',\n",
       " 'upset',\n",
       " 'wallet',\n",
       " 'warn',\n",
       " 'from',\n",
       " 'work',\n",
       " 'please',\n",
       " 'try',\n",
       " 'build',\n",
       " 't',\n",
       " 'forget',\n",
       " 'pity',\n",
       " 'each',\n",
       " 'name',\n",
       " 'penny',\n",
       " 'without',\n",
       " 'educate',\n",
       " 'maybe',\n",
       " 'somewhere',\n",
       " 'encourage',\n",
       " 'prevent',\n",
       " 'introduce',\n",
       " 'pause',\n",
       " 'angry',\n",
       " 'help',\n",
       " 'hurry',\n",
       " 'scold',\n",
       " 'money',\n",
       " 'able',\n",
       " 'keep',\n",
       " 'misunderstand',\n",
       " 'really',\n",
       " 'here',\n",
       " 'stand',\n",
       " 'front',\n",
       " 'worry',\n",
       " 'away',\n",
       " 'sure',\n",
       " 'down',\n",
       " 'correct',\n",
       " 'agree',\n",
       " 'during',\n",
       " 'hope',\n",
       " 'accomplish',\n",
       " 'busy',\n",
       " 'question',\n",
       " 'put',\n",
       " 'week',\n",
       " 'opposite',\n",
       " 'rude',\n",
       " 'period',\n",
       " 'disagree',\n",
       " 'profit',\n",
       " 'inside',\n",
       " 'motorcycle',\n",
       " 'need',\n",
       " 'promote',\n",
       " 'stuck',\n",
       " 'expensive',\n",
       " 'late',\n",
       " 'traffic',\n",
       " 'dime',\n",
       " 'connect',\n",
       " 'west',\n",
       " 'me',\n",
       " 'vacation',\n",
       " 'gather',\n",
       " 'happy',\n",
       " 'for',\n",
       " 'thankful',\n",
       " 'afraid',\n",
       " 'path',\n",
       " 'year',\n",
       " 'necessary',\n",
       " 'tell',\n",
       " 'left',\n",
       " 'value',\n",
       " 'past',\n",
       " 'month',\n",
       " 'come',\n",
       " 'city',\n",
       " 'tired',\n",
       " 'goodbye',\n",
       " 'off',\n",
       " 'price',\n",
       " 'tomorrow',\n",
       " 'bottom',\n",
       " 'corner',\n",
       " 'outside',\n",
       " 'reduce',\n",
       " 'straight',\n",
       " 'journey',\n",
       " 'travel',\n",
       " 'stop',\n",
       " 'whatever',\n",
       " 'river',\n",
       " 'thank you',\n",
       " 'confused',\n",
       " 'hug',\n",
       " 'sorry',\n",
       " 'much',\n",
       " 'sick',\n",
       " 'leave',\n",
       " 'trip',\n",
       " 'resist',\n",
       " 'assume',\n",
       " 'want',\n",
       " 'scared',\n",
       " 'discover',\n",
       " 'day',\n",
       " 'allow',\n",
       " 'world',\n",
       " 'create',\n",
       " 'recognize',\n",
       " 'let',\n",
       " 'interrupt',\n",
       " 'that',\n",
       " 'back',\n",
       " 'same',\n",
       " 'effort',\n",
       " 'house',\n",
       " 'every',\n",
       " 'continue',\n",
       " 'gone',\n",
       " 'a',\n",
       " 'contribute',\n",
       " 'protect',\n",
       " 'convince',\n",
       " 'ok',\n",
       " 'side',\n",
       " 'across',\n",
       " 'bike',\n",
       " 'town',\n",
       " 'better',\n",
       " 'anyway',\n",
       " 'second',\n",
       " 'truck',\n",
       " 'subway',\n",
       " 'move',\n",
       " 'cheap',\n",
       " 'believe']"
      ]
     },
     "execution_count": 33,
     "metadata": {},
     "output_type": "execute_result"
    }
   ],
   "execution_count": 33
  },
  {
   "metadata": {
    "ExecuteTime": {
     "end_time": "2025-03-12T16:19:54.121250Z",
     "start_time": "2025-03-12T16:19:54.118464Z"
    }
   },
   "cell_type": "code",
   "source": "np.argmax(Y_labels[0])",
   "outputs": [
    {
     "data": {
      "text/plain": [
       "244"
      ]
     },
     "execution_count": 34,
     "metadata": {},
     "output_type": "execute_result"
    }
   ],
   "execution_count": 34
  },
  {
   "metadata": {
    "ExecuteTime": {
     "end_time": "2025-03-12T16:19:54.181939Z",
     "start_time": "2025-03-12T16:19:54.178237Z"
    }
   },
   "cell_type": "code",
   "source": "print([np.argmax(y) for y in Y_labels[1:]])",
   "outputs": [
    {
     "name": "stdout",
     "output_type": "stream",
     "text": [
      "[3, 290, 244, 223, 244, 244, 293, 89, 244, 244, 244, 290, 89, 244, 297, 14, 244, 244, 92, 244, 244, 279, 244, 290, 244, 43, 275, 244, 199, 92, 124, 199, 244, 244, 244, 60, 89, 279, 224, 124, 210, 19, 37, 244, 244, 196, 145, 244, 244, 297, 142, 244, 244, 191, 122, 279, 297, 244, 137, 244, 49, 244, 244, 199, 189, 185, 92, 244, 216, 173, 244, 244, 33, 244, 105, 244, 253, 244, 21, 244, 209, 297, 286, 244, 244, 244, 244, 244, 33, 244, 244, 244, 291, 244, 244, 128, 77, 297, 290, 244, 244, 33, 191, 244, 297, 244, 293, 290, 61, 219, 37, 55, 244, 244, 33, 244, 281, 244, 244, 290, 244, 244, 92, 245, 244, 244, 244, 244, 88, 132, 244, 244, 60, 170, 244, 177, 29, 11, 223, 244, 244, 144, 244, 137, 227, 244, 297, 3, 16, 208, 288, 17, 228, 223, 297, 244, 244, 51, 125, 244, 185, 244, 37, 88, 247, 244, 291, 255, 3, 244, 244, 232, 244, 169, 244, 244, 244, 244, 293, 297, 290, 244, 258, 244, 14, 89, 92, 244, 237, 244, 244, 244, 244, 244, 244, 244, 14, 290, 218, 244, 244, 5, 293, 197, 92, 244, 37, 244, 244, 244, 33, 176, 244, 244, 43, 244, 244, 244, 244, 92, 21, 244, 290, 55, 244, 87, 244, 241, 244, 244, 244, 290, 33, 244, 290, 279, 5, 244, 244, 293, 244, 244, 192, 129, 144, 199, 199, 37, 255, 199, 244, 244, 43, 43, 290, 244, 244, 1, 86, 89, 28, 195, 244, 138, 244, 244, 244, 281, 57, 119, 137, 244, 37, 297, 124, 276, 210, 244, 43, 92, 83, 244, 244, 244, 182, 32, 3, 192, 244, 137, 33, 14, 37, 26, 92, 52, 37, 244, 244, 223, 93, 142, 244, 244, 260, 279, 33, 237, 92, 145, 13, 182, 124, 244, 244, 244, 191, 244, 43, 244, 228, 244, 244, 244, 140, 244, 37, 89, 2, 271, 89, 3, 244, 201, 244, 244, 244, 244, 6, 244, 43, 5, 199, 244, 89, 29, 88, 244, 258, 244]\n"
     ]
    }
   ],
   "execution_count": 35
  },
  {
   "metadata": {
    "ExecuteTime": {
     "end_time": "2025-03-12T16:19:54.234479Z",
     "start_time": "2025-03-12T16:19:54.230370Z"
    }
   },
   "cell_type": "code",
   "source": "Y_labels[0]",
   "outputs": [
    {
     "data": {
      "text/plain": [
       "array([-8.56770277e-02, -4.97806519e-02,  6.83017075e-02,  1.13438532e-01,\n",
       "       -1.24575876e-01, -3.02152000e-02, -5.88220125e-03,  1.09264655e-02,\n",
       "        7.91867264e-03, -9.24409740e-03, -8.36379677e-02, -3.56623530e-03,\n",
       "       -1.48696778e-02, -2.85670795e-02, -4.50325757e-03,  1.88987125e-02,\n",
       "        4.86967862e-02, -4.01821081e-03, -4.09151427e-02,  5.33265285e-02,\n",
       "        1.01525132e-02,  1.57665573e-02, -2.16353685e-02, -6.36819005e-02,\n",
       "       -2.11014912e-01, -5.21272495e-02,  4.36724685e-02,  5.32883070e-02,\n",
       "       -5.31861298e-02,  7.93344062e-03, -1.11003771e-01, -8.41115117e-02,\n",
       "        5.28290682e-02, -3.29091474e-02,  1.58490967e-02,  9.50225862e-04,\n",
       "       -9.83925983e-02, -1.97131839e-02, -3.60623002e-02, -1.13575412e-02,\n",
       "        3.33574787e-02,  2.80371048e-02, -4.70795482e-02,  8.33675563e-02,\n",
       "        4.70524095e-02,  1.62058756e-01,  1.22823147e-02, -2.08384097e-02,\n",
       "        2.23360732e-02,  4.27321112e-03, -2.27502286e-02, -8.10402445e-03,\n",
       "       -5.61779961e-02, -2.27041226e-02, -1.73655115e-02,  5.92823997e-02,\n",
       "        3.54325175e-02,  8.00405592e-02, -6.71366602e-02, -9.48131830e-02,\n",
       "        8.50404799e-02, -4.84402329e-02, -4.26666401e-02, -1.44516928e-02,\n",
       "       -8.26702826e-03, -5.58228884e-03, -3.30065489e-02, -1.10560283e-02,\n",
       "        7.01519623e-02,  1.06055588e-02, -6.58777058e-02,  8.99782777e-02,\n",
       "        3.36691588e-02, -1.46531165e-02,  2.76228897e-02, -1.79772601e-02,\n",
       "       -3.87300402e-02,  1.48665234e-01,  1.03184119e-01,  7.59218931e-02,\n",
       "        5.24662361e-02,  3.32511663e-02, -5.33108637e-02,  3.09874043e-02,\n",
       "        1.65696651e-01, -2.83902208e-03, -1.20905442e-02,  7.01853260e-02,\n",
       "       -2.89922059e-02, -4.74484786e-02, -8.04019719e-02,  1.53471678e-02,\n",
       "        1.16352074e-01, -5.53019345e-02,  1.66265443e-02,  4.33819704e-02,\n",
       "        8.21534544e-02,  6.23442046e-02,  6.92658573e-02, -4.35743853e-02,\n",
       "        4.20743302e-02, -1.03207957e-03, -1.27465529e-02, -3.22151184e-03,\n",
       "       -5.36137968e-02, -9.06184018e-02,  4.07837145e-02, -1.37058401e-03,\n",
       "       -4.63285595e-02,  8.18168186e-03,  9.98137295e-02,  3.25384662e-02,\n",
       "       -2.90520769e-02,  7.19219893e-02, -2.13951357e-02, -3.13324593e-02,\n",
       "        1.51018053e-02, -1.89734139e-02,  4.92089912e-02, -2.41760761e-02,\n",
       "        2.54916307e-02, -3.61672528e-02, -3.29306386e-02,  1.90028809e-02,\n",
       "        1.96190621e-03,  6.59870654e-02, -3.41953859e-02,  2.17004623e-02,\n",
       "       -9.39295907e-03,  1.39391422e-01, -3.14329891e-03, -3.34500298e-02,\n",
       "       -4.22370946e-03,  1.09114364e-01,  7.10579455e-02, -2.70174854e-02,\n",
       "       -7.51980320e-02, -8.55956972e-03, -1.44084506e-02, -9.98943001e-02,\n",
       "       -8.39053988e-02,  4.33261395e-02,  7.73983300e-02,  2.43972684e-03,\n",
       "        5.75403124e-02, -7.15987980e-02, -1.53857008e-01,  1.43365143e-02,\n",
       "       -1.62833426e-02, -6.21333048e-02, -7.37107173e-02,  5.15833944e-02,\n",
       "        6.02193102e-02,  4.92474288e-02, -9.36407000e-02,  2.07636575e-03,\n",
       "        3.60338129e-02,  1.33562740e-02,  6.08255491e-02,  6.19690716e-02,\n",
       "        1.93498321e-02,  1.49284266e-02,  3.98464426e-02, -2.59433538e-02,\n",
       "       -1.77065656e-02, -3.23383957e-02,  1.81346275e-02, -7.86927901e-03,\n",
       "        6.70488402e-02,  2.42782831e-02,  1.27628278e-02, -4.83555272e-02,\n",
       "       -8.50308035e-03,  1.23253157e-02, -6.09450638e-02, -4.97756712e-02,\n",
       "        1.81304174e-03, -8.18011910e-02,  1.99320950e-02, -7.47750923e-02,\n",
       "        2.64923871e-02, -1.30333109e-02,  7.59821683e-02, -6.23572767e-02,\n",
       "        3.09593529e-02, -2.99670957e-02,  1.27166566e-02,  5.48632070e-02,\n",
       "        1.46504100e-02, -4.76098328e-04, -1.08541304e-03,  7.04305246e-02,\n",
       "        8.82034227e-02, -7.69698899e-03,  1.21234078e-02,  6.19166568e-02,\n",
       "       -7.85167143e-02,  4.58113179e-02,  5.94243854e-02,  9.96600240e-02,\n",
       "       -3.59058045e-02,  1.26229271e-01, -2.14647278e-02,  1.86368097e-02,\n",
       "       -1.74164269e-02,  9.76756960e-02, -6.71320707e-02,  4.90962118e-02,\n",
       "        2.83595901e-02,  1.20202661e-01,  4.30644155e-02, -2.02272367e-02,\n",
       "        5.81358001e-02, -6.78251404e-03, -2.32407004e-02,  4.97086113e-03,\n",
       "        1.48837073e-02,  8.89976323e-03,  7.62714744e-02,  1.41683504e-01,\n",
       "       -5.02787232e-02,  5.44289500e-03,  6.61540031e-02,  4.44776118e-02,\n",
       "        3.12927328e-02, -2.71243360e-02,  6.81725442e-02, -1.49324350e-02,\n",
       "       -7.23034441e-02, -1.61156058e-02, -2.37329230e-02,  3.56255770e-02,\n",
       "       -9.62051451e-02,  2.03591418e-02,  1.60252117e-02,  7.07646310e-02,\n",
       "       -2.21400216e-04,  9.96772274e-02, -5.56991696e-02,  8.49109795e-03,\n",
       "       -2.76158601e-02,  6.49933666e-02, -3.38485651e-02, -2.00040668e-01,\n",
       "        2.96043664e-01,  8.95420164e-02, -9.92964804e-02,  5.37525266e-02,\n",
       "        8.81178826e-02,  7.03944266e-02,  1.62712783e-02, -1.34834751e-01,\n",
       "        3.79276788e-03, -1.39786471e-02, -6.19333889e-03, -3.56494151e-02,\n",
       "       -1.05253026e-01,  2.90796300e-03,  1.58242524e-01,  9.77836847e-02,\n",
       "       -8.74109007e-03, -6.43299799e-03, -4.80783498e-03,  1.17530070e-01,\n",
       "       -9.62050185e-02,  6.66182116e-02, -3.09707597e-03, -6.30041212e-02,\n",
       "        4.93940674e-02, -1.84979528e-01, -8.70028734e-02, -4.30884724e-03,\n",
       "       -9.05034766e-02,  2.52871774e-02,  1.39260456e-01,  4.01158258e-02,\n",
       "        6.69968501e-02,  9.36978161e-02, -1.98889654e-02,  2.83592194e-01,\n",
       "        1.32541806e-02,  8.02788138e-03, -1.24314368e-01, -1.49912341e-02,\n",
       "       -9.28238034e-02,  9.27849114e-03, -2.35990621e-02, -6.30059838e-02,\n",
       "       -1.24921538e-02, -8.82272646e-02,  1.67722329e-01,  1.34920061e-01,\n",
       "       -8.56430382e-02,  1.07229631e-02,  9.83641949e-03, -3.60571742e-02,\n",
       "        4.74645756e-02, -4.83137369e-03, -1.80907175e-02, -2.49886326e-02],\n",
       "      dtype=float32)"
      ]
     },
     "execution_count": 36,
     "metadata": {},
     "output_type": "execute_result"
    }
   ],
   "execution_count": 36
  }
 ],
 "metadata": {
  "kernelspec": {
   "display_name": ".venv",
   "language": "python",
   "name": "python3"
  },
  "language_info": {
   "codemirror_mode": {
    "name": "ipython",
    "version": 3
   },
   "file_extension": ".py",
   "mimetype": "text/x-python",
   "name": "python",
   "nbconvert_exporter": "python",
   "pygments_lexer": "ipython3",
   "version": "3.10.13"
  }
 },
 "nbformat": 4,
 "nbformat_minor": 2
}
