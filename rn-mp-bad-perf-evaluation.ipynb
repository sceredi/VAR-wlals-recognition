{
 "cells": [
  {
   "metadata": {},
   "cell_type": "markdown",
   "source": [
    "# Valutazione prestazioni notebook kaggle\n",
    "Di seguito si mostra come le prestazioni del modello siano state valutate in modo errato."
   ]
  },
  {
   "metadata": {},
   "cell_type": "code",
   "source": "import numpy as np",
   "outputs": [],
   "execution_count": null
  },
  {
   "metadata": {},
   "cell_type": "code",
   "source": [
    "from wlasl_mediapipe.app.mp.models.globals import FilteredLabels\n",
    "glosses = FilteredLabels.get_labels()"
   ],
   "outputs": [],
   "execution_count": null
  },
  {
   "metadata": {},
   "cell_type": "markdown",
   "source": [
    "## Caricamento etichette\n",
    "Vengono caricate le etichette filtrate del dataset."
   ]
  },
  {
   "metadata": {},
   "cell_type": "code",
   "source": "labels_dict = np.load(\"data/labels.npz\", allow_pickle=True)",
   "outputs": [],
   "execution_count": null
  },
  {
   "metadata": {},
   "cell_type": "code",
   "source": "Y_labels = [labels_dict[gloss] for gloss in glosses]",
   "outputs": [],
   "execution_count": null
  },
  {
   "metadata": {},
   "cell_type": "code",
   "source": "print(len(Y_labels))",
   "outputs": [],
   "execution_count": null
  },
  {
   "metadata": {},
   "cell_type": "markdown",
   "source": [
    "## Calcolo accuratezza\n",
    "Per dimostrare che le prestazioni del modello sono state valutate in modo errato, si suppone che la prima etichetta sia quella predetta dal modello e le altre etichette siano reali."
   ]
  },
  {
   "metadata": {},
   "cell_type": "code",
   "source": [
    "y_pred = Y_labels[0]\n",
    "y_true = Y_labels[1:]"
   ],
   "outputs": [],
   "execution_count": null
  },
  {
   "metadata": {},
   "cell_type": "code",
   "source": "glosses[0] # predetta",
   "outputs": [],
   "execution_count": null
  },
  {
   "metadata": {},
   "cell_type": "code",
   "source": "glosses[1:] # reali",
   "outputs": [],
   "execution_count": null
  },
  {
   "metadata": {},
   "cell_type": "markdown",
   "source": [
    "### Calcolo accuracy\n",
    "Si calcola l'accuratezza del modello, come effettuato con la metrica di `accuracy` di `keras`."
   ]
  },
  {
   "metadata": {},
   "cell_type": "code",
   "source": "correct_class = [np.argmax(y_pred) == np.argmax(y) for y in y_true]",
   "outputs": [],
   "execution_count": null
  },
  {
   "metadata": {},
   "cell_type": "markdown",
   "source": [
    "### Stampa accuratezza\n",
    "Si stampa l'accuratezza del modello, questa è pari al 42%, che è molto simile al 44.6% riportato nel notebook kaggle."
   ]
  },
  {
   "metadata": {},
   "cell_type": "code",
   "source": [
    "correct_percentage = (sum(correct_class) / len(correct_class)) * 100\n",
    "print(correct_percentage)"
   ],
   "outputs": [],
   "execution_count": null
  },
  {
   "metadata": {},
   "cell_type": "code",
   "source": "np.argmax(Y_labels[0]) # predetta",
   "outputs": [],
   "execution_count": null
  },
  {
   "metadata": {},
   "cell_type": "code",
   "source": "print([np.argmax(y) for y in Y_labels[1:]]) # reali",
   "outputs": [],
   "execution_count": null
  },
  {
   "metadata": {},
   "cell_type": "markdown",
   "source": [
    "# Conclusioni\n",
    "Con questi risultati è stato possibile osservare come il modello non sia in stato in grado di generalizzare correttamente, ma ripropone semplicemente la stessa etichetta per quasi ogni video."
   ]
  }
 ],
 "metadata": {
  "kernelspec": {
   "display_name": ".venv",
   "language": "python",
   "name": "python3"
  },
  "language_info": {
   "codemirror_mode": {
    "name": "ipython",
    "version": 3
   },
   "file_extension": ".py",
   "mimetype": "text/x-python",
   "name": "python",
   "nbconvert_exporter": "python",
   "pygments_lexer": "ipython3",
   "version": "3.10.13"
  }
 },
 "nbformat": 4,
 "nbformat_minor": 2
}
