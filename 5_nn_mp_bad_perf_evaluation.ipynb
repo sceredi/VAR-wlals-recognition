{
 "cells": [
  {
   "metadata": {},
   "cell_type": "markdown",
   "source": [
    "# Valutazione prestazioni notebook kaggle\n",
    "Di seguito si mostra come le prestazioni del modello siano state valutate in modo errato."
   ]
  },
  {
   "metadata": {
    "ExecuteTime": {
     "end_time": "2025-06-06T19:54:04.587368Z",
     "start_time": "2025-06-06T19:54:04.331105Z"
    }
   },
   "cell_type": "code",
   "source": "import numpy as np",
   "outputs": [],
   "execution_count": 1
  },
  {
   "metadata": {
    "ExecuteTime": {
     "end_time": "2025-06-06T19:54:04.949530Z",
     "start_time": "2025-06-06T19:54:04.938524Z"
    }
   },
   "cell_type": "code",
   "source": [
    "from wlasl_mediapipe.app.mp.models.globals import FilteredLabels\n",
    "glosses = FilteredLabels.get_labels()"
   ],
   "outputs": [],
   "execution_count": 2
  },
  {
   "metadata": {},
   "cell_type": "markdown",
   "source": [
    "## Caricamento etichette\n",
    "Vengono caricate le etichette filtrate del dataset."
   ]
  },
  {
   "metadata": {
    "ExecuteTime": {
     "end_time": "2025-06-06T19:54:05.087960Z",
     "start_time": "2025-06-06T19:54:05.034852Z"
    }
   },
   "cell_type": "code",
   "source": "labels_dict = np.load(\"data/labels.npz\", allow_pickle=True)",
   "outputs": [],
   "execution_count": 3
  },
  {
   "metadata": {
    "ExecuteTime": {
     "end_time": "2025-06-06T19:54:05.478070Z",
     "start_time": "2025-06-06T19:54:05.233182Z"
    }
   },
   "cell_type": "code",
   "source": "Y_labels = [labels_dict[gloss] for gloss in glosses]",
   "outputs": [],
   "execution_count": 4
  },
  {
   "metadata": {
    "ExecuteTime": {
     "end_time": "2025-06-06T19:54:05.526623Z",
     "start_time": "2025-06-06T19:54:05.518357Z"
    }
   },
   "cell_type": "code",
   "source": "print(len(Y_labels))",
   "outputs": [
    {
     "name": "stdout",
     "output_type": "stream",
     "text": [
      "351\n"
     ]
    }
   ],
   "execution_count": 5
  },
  {
   "metadata": {},
   "cell_type": "markdown",
   "source": [
    "## Calcolo accuratezza\n",
    "Per dimostrare che le prestazioni del modello sono state valutate in modo errato, si suppone che la prima etichetta sia quella predetta dal modello e le altre etichette siano reali."
   ]
  },
  {
   "metadata": {
    "ExecuteTime": {
     "end_time": "2025-06-06T19:54:05.879063Z",
     "start_time": "2025-06-06T19:54:05.870373Z"
    }
   },
   "cell_type": "code",
   "source": [
    "y_pred = Y_labels[0]\n",
    "y_true = Y_labels[1:]"
   ],
   "outputs": [],
   "execution_count": 6
  },
  {
   "metadata": {
    "ExecuteTime": {
     "end_time": "2025-06-06T19:54:06.038753Z",
     "start_time": "2025-06-06T19:54:06.017756Z"
    }
   },
   "cell_type": "code",
   "source": "glosses[0] # predetta",
   "outputs": [
    {
     "data": {
      "text/plain": [
       "'give'"
      ]
     },
     "execution_count": 7,
     "metadata": {},
     "output_type": "execute_result"
    }
   ],
   "execution_count": 7
  },
  {
   "metadata": {
    "ExecuteTime": {
     "end_time": "2025-06-06T19:54:06.236496Z",
     "start_time": "2025-06-06T19:54:06.208886Z"
    }
   },
   "cell_type": "code",
   "source": "glosses[1:] # reali",
   "outputs": [
    {
     "data": {
      "text/plain": [
       "['turn',\n",
       " 'way',\n",
       " 'improve',\n",
       " 'hill',\n",
       " 'take',\n",
       " 'my',\n",
       " 'middle',\n",
       " 'rest',\n",
       " 'suggest',\n",
       " 'go',\n",
       " 'no',\n",
       " 'excuse',\n",
       " 'first',\n",
       " 'send',\n",
       " 'end',\n",
       " 'miss',\n",
       " 'there',\n",
       " 'buy',\n",
       " 'suppose',\n",
       " 'yes',\n",
       " 'develop',\n",
       " 'chance',\n",
       " 'prepare',\n",
       " 'answer',\n",
       " 'avoid',\n",
       " 'grateful',\n",
       " 'none',\n",
       " 'offer',\n",
       " 'thing',\n",
       " 'wow',\n",
       " 'break',\n",
       " 'hour',\n",
       " 'invest',\n",
       " 'or',\n",
       " 'start',\n",
       " 'organize',\n",
       " 'bad',\n",
       " 'motivate',\n",
       " 'ride',\n",
       " 'weekend',\n",
       " 'welcome',\n",
       " 'bother',\n",
       " 'east',\n",
       " 'should',\n",
       " 'visualize',\n",
       " 'skip',\n",
       " 'long',\n",
       " 'again',\n",
       " 'we',\n",
       " 'you',\n",
       " 'stretch',\n",
       " 'time',\n",
       " 'make',\n",
       " 'bribe',\n",
       " 'email',\n",
       " 'inspire',\n",
       " 'what',\n",
       " 'learn',\n",
       " 'catch',\n",
       " 'to',\n",
       " 'street',\n",
       " 'identify',\n",
       " 'earn',\n",
       " 'minute',\n",
       " 'guide',\n",
       " 'freeway',\n",
       " 'appreciate',\n",
       " 'only',\n",
       " 'empty',\n",
       " 'kiss',\n",
       " 'around',\n",
       " 'inform',\n",
       " 'mad',\n",
       " 'through',\n",
       " 'dirt',\n",
       " 'in',\n",
       " 'stupid',\n",
       " 'arrive',\n",
       " 'forgive',\n",
       " 'determine',\n",
       " 'borrow',\n",
       " 'zero',\n",
       " 'shame',\n",
       " 'while',\n",
       " 'say',\n",
       " 'establish',\n",
       " 'once',\n",
       " 'postpone',\n",
       " 'disgusted',\n",
       " 'discuss',\n",
       " 'on',\n",
       " 'near',\n",
       " 'save',\n",
       " 'ask',\n",
       " 'but',\n",
       " 'rush',\n",
       " 'sell',\n",
       " 'nothing',\n",
       " 'aim',\n",
       " 'after',\n",
       " 'lend',\n",
       " 'clueless',\n",
       " 'gamble',\n",
       " 'order',\n",
       " 'all',\n",
       " 'manage',\n",
       " 'intersection',\n",
       " 'reason',\n",
       " 'wander',\n",
       " 'place',\n",
       " 'south',\n",
       " 'waste',\n",
       " 'feel',\n",
       " 'within',\n",
       " 'dumb',\n",
       " 'then',\n",
       " 'cost',\n",
       " 'get',\n",
       " 'not',\n",
       " 'address',\n",
       " 'and',\n",
       " 'decide',\n",
       " 'guess',\n",
       " 'pocket',\n",
       " 'explain',\n",
       " 'provide',\n",
       " 'why',\n",
       " 'up',\n",
       " 'road',\n",
       " 'highway',\n",
       " 'push',\n",
       " 'beside',\n",
       " 'sit',\n",
       " 'bridge',\n",
       " 'attract',\n",
       " 'dollar',\n",
       " 'pray',\n",
       " 'solve',\n",
       " 'ahead',\n",
       " 'think',\n",
       " 'wish',\n",
       " 'wait',\n",
       " 'any',\n",
       " 'bus',\n",
       " 'aid',\n",
       " 'when',\n",
       " 'few',\n",
       " 'next',\n",
       " 'kill',\n",
       " 'silly',\n",
       " 'teach',\n",
       " 'bicycle',\n",
       " 'beginning',\n",
       " 'wrong',\n",
       " 'one',\n",
       " 'pay',\n",
       " 'understand',\n",
       " 'quit',\n",
       " 'admit',\n",
       " 'can',\n",
       " 'car',\n",
       " 'mean',\n",
       " 'north',\n",
       " 'walk',\n",
       " 'shout',\n",
       " 'bring',\n",
       " 'benefit',\n",
       " 'right',\n",
       " 'last',\n",
       " 'willing',\n",
       " 'night',\n",
       " 'terrible',\n",
       " 'assist',\n",
       " 'fix',\n",
       " 'will',\n",
       " 'see',\n",
       " 'enough',\n",
       " 'before',\n",
       " 'sad',\n",
       " 'half',\n",
       " 'support',\n",
       " 'know',\n",
       " 'ready',\n",
       " 'since',\n",
       " 'hello',\n",
       " 'this',\n",
       " 'awful',\n",
       " 'lose',\n",
       " 'ignore',\n",
       " 'another',\n",
       " 'pull',\n",
       " 'now',\n",
       " 'find',\n",
       " 'because',\n",
       " 'if',\n",
       " 'behind',\n",
       " 'bye',\n",
       " 'doubt',\n",
       " 'recover',\n",
       " 'bless',\n",
       " 'over',\n",
       " 'finance',\n",
       " 'geography',\n",
       " 'invite',\n",
       " 'wonder',\n",
       " 'either',\n",
       " 'out',\n",
       " 'refuse',\n",
       " 'until',\n",
       " 'later',\n",
       " 'upset',\n",
       " 'wallet',\n",
       " 'warn',\n",
       " 'from',\n",
       " 'work',\n",
       " 'please',\n",
       " 'try',\n",
       " 'build',\n",
       " 't',\n",
       " 'forget',\n",
       " 'pity',\n",
       " 'each',\n",
       " 'name',\n",
       " 'penny',\n",
       " 'without',\n",
       " 'educate',\n",
       " 'maybe',\n",
       " 'somewhere',\n",
       " 'encourage',\n",
       " 'prevent',\n",
       " 'introduce',\n",
       " 'pause',\n",
       " 'angry',\n",
       " 'help',\n",
       " 'hurry',\n",
       " 'scold',\n",
       " 'money',\n",
       " 'able',\n",
       " 'keep',\n",
       " 'misunderstand',\n",
       " 'really',\n",
       " 'here',\n",
       " 'stand',\n",
       " 'front',\n",
       " 'worry',\n",
       " 'away',\n",
       " 'sure',\n",
       " 'down',\n",
       " 'correct',\n",
       " 'agree',\n",
       " 'during',\n",
       " 'hope',\n",
       " 'accomplish',\n",
       " 'busy',\n",
       " 'question',\n",
       " 'put',\n",
       " 'week',\n",
       " 'opposite',\n",
       " 'rude',\n",
       " 'period',\n",
       " 'disagree',\n",
       " 'profit',\n",
       " 'inside',\n",
       " 'motorcycle',\n",
       " 'need',\n",
       " 'promote',\n",
       " 'stuck',\n",
       " 'expensive',\n",
       " 'late',\n",
       " 'traffic',\n",
       " 'dime',\n",
       " 'connect',\n",
       " 'west',\n",
       " 'me',\n",
       " 'vacation',\n",
       " 'gather',\n",
       " 'happy',\n",
       " 'for',\n",
       " 'thankful',\n",
       " 'afraid',\n",
       " 'path',\n",
       " 'year',\n",
       " 'necessary',\n",
       " 'tell',\n",
       " 'left',\n",
       " 'value',\n",
       " 'past',\n",
       " 'month',\n",
       " 'come',\n",
       " 'city',\n",
       " 'tired',\n",
       " 'goodbye',\n",
       " 'off',\n",
       " 'price',\n",
       " 'tomorrow',\n",
       " 'bottom',\n",
       " 'corner',\n",
       " 'outside',\n",
       " 'reduce',\n",
       " 'straight',\n",
       " 'journey',\n",
       " 'travel',\n",
       " 'stop',\n",
       " 'whatever',\n",
       " 'river',\n",
       " 'thank you',\n",
       " 'confused',\n",
       " 'hug',\n",
       " 'sorry',\n",
       " 'much',\n",
       " 'sick',\n",
       " 'leave',\n",
       " 'trip',\n",
       " 'resist',\n",
       " 'assume',\n",
       " 'want',\n",
       " 'scared',\n",
       " 'discover',\n",
       " 'day',\n",
       " 'allow',\n",
       " 'world',\n",
       " 'create',\n",
       " 'recognize',\n",
       " 'let',\n",
       " 'interrupt',\n",
       " 'that',\n",
       " 'back',\n",
       " 'same',\n",
       " 'effort',\n",
       " 'house',\n",
       " 'every',\n",
       " 'continue',\n",
       " 'gone',\n",
       " 'a',\n",
       " 'contribute',\n",
       " 'protect',\n",
       " 'convince',\n",
       " 'ok',\n",
       " 'side',\n",
       " 'across',\n",
       " 'bike',\n",
       " 'town',\n",
       " 'better',\n",
       " 'anyway',\n",
       " 'second',\n",
       " 'truck',\n",
       " 'subway',\n",
       " 'move',\n",
       " 'cheap',\n",
       " 'believe']"
      ]
     },
     "execution_count": 8,
     "metadata": {},
     "output_type": "execute_result"
    }
   ],
   "execution_count": 8
  },
  {
   "metadata": {},
   "cell_type": "markdown",
   "source": [
    "### Calcolo accuracy\n",
    "Si calcola l'accuratezza del modello, come effettuato con la metrica di `accuracy` di `keras`."
   ]
  },
  {
   "metadata": {
    "ExecuteTime": {
     "end_time": "2025-06-06T19:54:06.431743Z",
     "start_time": "2025-06-06T19:54:06.417180Z"
    }
   },
   "cell_type": "code",
   "source": "correct_class = [np.argmax(y_pred) == np.argmax(y) for y in y_true]",
   "outputs": [],
   "execution_count": 9
  },
  {
   "metadata": {},
   "cell_type": "markdown",
   "source": [
    "### Stampa accuratezza\n",
    "Si stampa l'accuratezza del modello, questa è pari al 42%, che è molto simile al 44.6% riportato nel notebook kaggle."
   ]
  },
  {
   "metadata": {
    "ExecuteTime": {
     "end_time": "2025-06-06T19:54:06.674091Z",
     "start_time": "2025-06-06T19:54:06.665564Z"
    }
   },
   "cell_type": "code",
   "source": [
    "correct_percentage = (sum(correct_class) / len(correct_class)) * 100\n",
    "print(correct_percentage)"
   ],
   "outputs": [
    {
     "name": "stdout",
     "output_type": "stream",
     "text": [
      "42.0\n"
     ]
    }
   ],
   "execution_count": 10
  },
  {
   "metadata": {
    "ExecuteTime": {
     "end_time": "2025-06-06T19:54:06.961004Z",
     "start_time": "2025-06-06T19:54:06.948677Z"
    }
   },
   "cell_type": "code",
   "source": "np.argmax(Y_labels[0]) # predetta",
   "outputs": [
    {
     "data": {
      "text/plain": [
       "244"
      ]
     },
     "execution_count": 11,
     "metadata": {},
     "output_type": "execute_result"
    }
   ],
   "execution_count": 11
  },
  {
   "metadata": {
    "ExecuteTime": {
     "end_time": "2025-06-06T19:54:07.206227Z",
     "start_time": "2025-06-06T19:54:07.190800Z"
    }
   },
   "cell_type": "code",
   "source": "print([np.argmax(y) for y in Y_labels[1:]]) # reali",
   "outputs": [
    {
     "name": "stdout",
     "output_type": "stream",
     "text": [
      "[3, 290, 244, 223, 244, 244, 293, 89, 244, 244, 244, 290, 89, 244, 297, 14, 244, 244, 92, 244, 244, 279, 244, 290, 244, 43, 275, 244, 199, 92, 124, 199, 244, 244, 244, 60, 89, 279, 224, 124, 210, 19, 37, 244, 244, 196, 145, 244, 244, 297, 142, 244, 244, 191, 122, 279, 297, 244, 137, 244, 49, 244, 244, 199, 189, 185, 92, 244, 216, 173, 244, 244, 33, 244, 105, 244, 253, 244, 21, 244, 209, 297, 286, 244, 244, 244, 244, 244, 33, 244, 244, 244, 291, 244, 244, 128, 77, 297, 290, 244, 244, 33, 191, 244, 297, 244, 293, 290, 61, 219, 37, 55, 244, 244, 33, 244, 281, 244, 244, 290, 244, 244, 92, 245, 244, 244, 244, 244, 88, 132, 244, 244, 60, 170, 244, 177, 29, 11, 223, 244, 244, 144, 244, 137, 227, 244, 297, 3, 16, 208, 288, 17, 228, 223, 297, 244, 244, 51, 125, 244, 185, 244, 37, 88, 247, 244, 291, 255, 3, 244, 244, 232, 244, 169, 244, 244, 244, 244, 293, 297, 290, 244, 258, 244, 14, 89, 92, 244, 237, 244, 244, 244, 244, 244, 244, 244, 14, 290, 218, 244, 244, 5, 293, 197, 92, 244, 37, 244, 244, 244, 33, 176, 244, 244, 43, 244, 244, 244, 244, 92, 21, 244, 290, 55, 244, 87, 244, 241, 244, 244, 244, 290, 33, 244, 290, 279, 5, 244, 244, 293, 244, 244, 192, 129, 144, 199, 199, 37, 255, 199, 244, 244, 43, 43, 290, 244, 244, 1, 86, 89, 28, 195, 244, 138, 244, 244, 244, 281, 57, 119, 137, 244, 37, 297, 124, 276, 210, 244, 43, 92, 83, 244, 244, 244, 182, 32, 3, 192, 244, 137, 33, 14, 37, 26, 92, 52, 37, 244, 244, 223, 93, 142, 244, 244, 260, 279, 33, 237, 92, 145, 13, 182, 124, 244, 244, 244, 191, 244, 43, 244, 228, 244, 244, 244, 140, 244, 37, 89, 2, 271, 89, 3, 244, 201, 244, 244, 244, 244, 6, 244, 43, 5, 199, 244, 89, 29, 88, 244, 258, 244]\n"
     ]
    }
   ],
   "execution_count": 12
  },
  {
   "metadata": {},
   "cell_type": "markdown",
   "source": [
    "# Conclusioni\n",
    "Con questi risultati è stato possibile osservare come il modello non sia in stato in grado di generalizzare correttamente, ma ripropone semplicemente la stessa etichetta per quasi ogni video."
   ]
  }
 ],
 "metadata": {
  "kernelspec": {
   "display_name": ".venv",
   "language": "python",
   "name": "python3"
  },
  "language_info": {
   "codemirror_mode": {
    "name": "ipython",
    "version": 3
   },
   "file_extension": ".py",
   "mimetype": "text/x-python",
   "name": "python",
   "nbconvert_exporter": "python",
   "pygments_lexer": "ipython3",
   "version": "3.10.13"
  }
 },
 "nbformat": 4,
 "nbformat_minor": 2
}
