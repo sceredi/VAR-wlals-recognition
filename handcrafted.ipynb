{
 "cells": [
  {
   "metadata": {},
   "cell_type": "markdown",
   "source": "# Caricamento del dataset",
   "id": "69f751a6cbf572ca"
  },
  {
   "metadata": {
    "jupyter": {
     "is_executing": true
    }
   },
   "cell_type": "code",
   "source": "%run -i handrafted.app.dataset.dataset.py",
   "id": "264f6080c3959756",
   "outputs": [],
   "execution_count": null
  },
  {
   "metadata": {
    "jupyter": {
     "is_executing": true
    }
   },
   "cell_type": "code",
   "source": [
    "import pandas as pd\n",
    "\n",
    "from handcrafted.app.dataset.dataset import Dataset\n",
    "from handcrafted.app.plotter.frames_plotter import plot_roi_frames"
   ],
   "id": "d65c69edf48f6389",
   "outputs": [],
   "execution_count": null
  },
  {
   "metadata": {
    "jupyter": {
     "is_executing": true
    }
   },
   "cell_type": "code",
   "source": [
    "dataset = Dataset(\"data/WLASL_v0.3.json\")\n",
    "# glosses = pd.read_csv(\"data/wlasl_class_list.txt\", sep=\"\\t\", header=None)\n",
    "# glosses = glosses[1].tolist()\n",
    "\n",
    "frames = dataset.videos[0].get_frames()\n",
    "print(len(frames))"
   ],
   "id": "be9c7fc4ee1238cf",
   "outputs": [],
   "execution_count": null
  },
  {
   "metadata": {},
   "cell_type": "markdown",
   "source": "# Handcrafted Features",
   "id": "aeca74aff2ceded6"
  },
  {
   "metadata": {},
   "cell_type": "markdown",
   "source": "## Feature di forma\n",
   "id": "c221c00547d62fb7"
  },
  {
   "metadata": {},
   "cell_type": "markdown",
   "source": "### Edge detector",
   "id": "fe4e1100e5e1442c"
  },
  {
   "metadata": {},
   "cell_type": "code",
   "outputs": [],
   "execution_count": null,
   "source": [
    "edge_detector = EdgeDetector(frames)\n",
    "edge_frames = edge_detector.detect()\n",
    "plot_frames(edge_frames)\n"
   ],
   "id": "f86407fb8aa3c096"
  }
 ],
 "metadata": {},
 "nbformat": 5,
 "nbformat_minor": 9
}
