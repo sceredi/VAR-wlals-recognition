{
 "cells": [
  {
   "cell_type": "code",
   "id": "initial_id",
   "metadata": {
    "collapsed": true,
    "ExecuteTime": {
     "end_time": "2025-03-31T15:30:11.925085Z",
     "start_time": "2025-03-31T15:29:35.682205Z"
    }
   },
   "source": [
    "import os\n",
    "import numpy as np\n",
    "\n",
    "from handcrafted.app.dataset.utils.dataset_creator import DatasetCreator\n",
    "from handcrafted.app.model.model_statistics import ModelStatistics\n",
    "\n",
    "import tensorflow as tf\n",
    "from tensorflow import keras\n",
    "from tensorflow.keras import layers\n",
    "from tensorflow.keras.utils import to_categorical\n",
    "from sklearn.preprocessing import LabelEncoder\n",
    "from handcrafted.app.dataset.dataset_loader import DatasetLoader\n",
    "from handcrafted.app.dataset.utils.frames_splitter import FramesSplitter"
   ],
   "outputs": [
    {
     "name": "stdout",
     "output_type": "stream",
     "text": [
      "WARNING:tensorflow:From C:\\Users\\HP\\Desktop\\UNIBO\\LaureaMagistrale\\2 Anno\\I Semestre\\VisioneArtificialeRiconoscimento\\Progetto\\VAR-wlasl-recognition-new\\.venv\\lib\\site-packages\\keras\\src\\losses.py:2976: The name tf.losses.sparse_softmax_cross_entropy is deprecated. Please use tf.compat.v1.losses.sparse_softmax_cross_entropy instead.\n",
      "\n"
     ]
    }
   ],
   "execution_count": 1
  },
  {
   "metadata": {
    "ExecuteTime": {
     "end_time": "2025-03-31T15:30:13.613813Z",
     "start_time": "2025-03-31T15:30:12.751582Z"
    }
   },
   "cell_type": "code",
   "source": "loader = DatasetLoader(directory=\"./data/frames_no_bg/\")",
   "id": "1f091fd4fd7fd7f8",
   "outputs": [
    {
     "name": "stderr",
     "output_type": "stream",
     "text": [
      "345it [00:00, 409.98it/s]\n"
     ]
    }
   ],
   "execution_count": 2
  },
  {
   "metadata": {
    "ExecuteTime": {
     "end_time": "2025-03-31T15:30:13.646399Z",
     "start_time": "2025-03-31T15:30:13.622503Z"
    }
   },
   "cell_type": "code",
   "source": "splitter = FramesSplitter(loader.signers, val_split=0.3, test_split=0.3, frames_split=0.1, seed=42)",
   "id": "67198a3f4fbcc8c1",
   "outputs": [],
   "execution_count": 3
  },
  {
   "metadata": {
    "ExecuteTime": {
     "end_time": "2025-03-31T15:30:13.708726Z",
     "start_time": "2025-03-31T15:30:13.662195Z"
    }
   },
   "cell_type": "code",
   "source": "X_train, y_train, X_val, y_val, X_test, y_test = splitter.split()",
   "id": "99bffccbd218b30c",
   "outputs": [
    {
     "name": "stderr",
     "output_type": "stream",
     "text": [
      "100%|██████████| 4/4 [00:00<00:00, 216.51it/s]\n"
     ]
    }
   ],
   "execution_count": 4
  },
  {
   "metadata": {
    "ExecuteTime": {
     "end_time": "2025-03-31T15:30:13.756363Z",
     "start_time": "2025-03-31T15:30:13.746247Z"
    }
   },
   "cell_type": "code",
   "source": [
    "# Get the total of different labels\n",
    "num_classes = loader.num_signers\n",
    "print(num_classes)"
   ],
   "id": "107083a87bfe968f",
   "outputs": [
    {
     "name": "stdout",
     "output_type": "stream",
     "text": [
      "4\n"
     ]
    }
   ],
   "execution_count": 5
  },
  {
   "metadata": {
    "ExecuteTime": {
     "end_time": "2025-03-31T15:30:13.804104Z",
     "start_time": "2025-03-31T15:30:13.788266Z"
    }
   },
   "cell_type": "code",
   "source": [
    "label_encoder = LabelEncoder()\n",
    "y_train_encoded = label_encoder.fit_transform(y_train)\n",
    "y_val_encoded = label_encoder.fit_transform(y_val)\n",
    "y_test_encoded = label_encoder.fit_transform(y_test)\n",
    "y_train_onehot = to_categorical(y_train_encoded, num_classes=num_classes)\n",
    "y_val_onehot = to_categorical(y_val_encoded, num_classes=num_classes)\n",
    "y_test_onehot = to_categorical(y_test_encoded, num_classes=num_classes)"
   ],
   "id": "fbe3d8897565f4a7",
   "outputs": [],
   "execution_count": 6
  },
  {
   "metadata": {
    "ExecuteTime": {
     "end_time": "2025-03-31T15:30:16.556122Z",
     "start_time": "2025-03-31T15:30:13.843172Z"
    }
   },
   "cell_type": "code",
   "source": [
    "BATCH_SIZE = 32\n",
    "NUM_AUG = 3\n",
    "\n",
    "dataset_creator = DatasetCreator()\n",
    "train_dataset = dataset_creator.create_dataset(X_train, y_train_onehot, num_aug=NUM_AUG, batch_size=BATCH_SIZE, shuffle=True)\n",
    "val_dataset = dataset_creator.create_dataset(X_val, y_val_onehot, batch_size=BATCH_SIZE, shuffle=False)\n",
    "test_dataset = dataset_creator.create_dataset(X_test, y_test_onehot, batch_size=BATCH_SIZE, shuffle=False)"
   ],
   "id": "931f564da905c84d",
   "outputs": [
    {
     "name": "stdout",
     "output_type": "stream",
     "text": [
      "WARNING:tensorflow:From C:\\Users\\HP\\Desktop\\UNIBO\\LaureaMagistrale\\2 Anno\\I Semestre\\VisioneArtificialeRiconoscimento\\Progetto\\VAR-wlasl-recognition-new\\.venv\\lib\\site-packages\\keras\\src\\backend.py:873: The name tf.get_default_graph is deprecated. Please use tf.compat.v1.get_default_graph instead.\n",
      "\n"
     ]
    }
   ],
   "execution_count": 7
  },
  {
   "metadata": {
    "ExecuteTime": {
     "end_time": "2025-03-31T15:30:16.666032Z",
     "start_time": "2025-03-31T15:30:16.635142Z"
    }
   },
   "cell_type": "code",
   "source": [
    "def build_vggface():\n",
    "    model = keras.Sequential(\n",
    "        [\n",
    "            layers.Input(shape=(224, 224, 3), name='input'),\n",
    "            layers.Conv2D(filters=64, kernel_size=3, padding='same', activation='relu', name='conv1_1-relu1_1'),\n",
    "            layers.Conv2D(filters=64, kernel_size=3, padding='same', activation='relu', name='conv1_2-relu1_2'),\n",
    "            layers.MaxPooling2D(pool_size=2, strides=2, name='pool1'),\n",
    "            layers.Conv2D(filters=128, kernel_size=3, padding='same', activation='relu', name='conv2_1-relu2_1'),\n",
    "            layers.Conv2D(filters=128, kernel_size=3, padding='same', activation='relu', name='conv2_2-relu2_2'),\n",
    "            layers.MaxPooling2D(pool_size=2, strides=2, name='pool2'),\n",
    "            layers.Conv2D(filters=256, kernel_size=3, padding='same', activation='relu', name='conv3_1-relu3_1'),\n",
    "            layers.Conv2D(filters=256, kernel_size=3, padding='same', activation='relu', name='conv3_2-relu3_2'),\n",
    "            layers.Conv2D(filters=256, kernel_size=3, padding='same', activation='relu', name='conv3_3-relu3_3'),\n",
    "            layers.MaxPooling2D(pool_size=2, strides=2, name='pool3'),\n",
    "            layers.Conv2D(filters=512, kernel_size=3, padding='same', activation='relu', name='conv4_1-relu4_1'),\n",
    "            layers.Conv2D(filters=512, kernel_size=3, padding='same', activation='relu', name='conv4_2-relu4_2'),\n",
    "            layers.Conv2D(filters=512, kernel_size=3, padding='same', activation='relu', name='conv4_3-relu4_3'),\n",
    "            layers.MaxPooling2D(pool_size=2, strides=2, name='pool4'),\n",
    "            layers.Conv2D(filters=512, kernel_size=3, padding='same', activation='relu', name='conv5_1-relu5_1'),\n",
    "            layers.Conv2D(filters=512, kernel_size=3, padding='same', activation='relu', name='conv5_2-relu5_2'),\n",
    "            layers.Conv2D(filters=512, kernel_size=3, padding='same', activation='relu', name='conv5_3-relu5_3'),\n",
    "            layers.MaxPooling2D(pool_size=2, strides=2, name='pool5'),\n",
    "            layers.Conv2D(filters=4096, kernel_size=7, activation='relu', name='fc6-relu6'),\n",
    "            layers.Dropout(0.5, name='do6'),\n",
    "            layers.Conv2D(filters=4096, kernel_size=1, activation='relu', name='fc7-relu7'),\n",
    "            layers.Dropout(0.5, name='do7'),\n",
    "            layers.Conv2D(filters=num_classes, kernel_size=1, activation='softmax', name='fc8-prob'),\n",
    "            layers.Flatten(name='flatten'),\n",
    "        ]\n",
    "    )\n",
    "\n",
    "    return model"
   ],
   "id": "4c9aae820035420d",
   "outputs": [],
   "execution_count": 8
  },
  {
   "metadata": {
    "ExecuteTime": {
     "end_time": "2025-03-31T15:30:16.698397Z",
     "start_time": "2025-03-31T15:30:16.677668Z"
    }
   },
   "cell_type": "code",
   "source": [
    "def build_small_cnn(num_classes):\n",
    "    model = keras.Sequential([\n",
    "        layers.Input(shape=(224, 224, 3), name='input'),\n",
    "        # First convolutional block\n",
    "        layers.Conv2D(32, kernel_size=3, padding='same', activation='relu', name='conv1'),\n",
    "        layers.MaxPooling2D(pool_size=2, strides=2, name='pool1'),\n",
    "        # Second convolutional block\n",
    "        layers.Conv2D(64, kernel_size=3, padding='same', activation='relu', name='conv2'),\n",
    "        layers.MaxPooling2D(pool_size=2, strides=2, name='pool2'),\n",
    "        # Third convolutional block\n",
    "        layers.Conv2D(128, kernel_size=3, padding='same', activation='relu', name='conv3'),\n",
    "        layers.MaxPooling2D(pool_size=2, strides=2, name='pool3'),\n",
    "        # Flatten and dense layers\n",
    "        layers.Flatten(name='flatten'),\n",
    "        layers.Dense(128, activation='relu', name='fc1'),\n",
    "        layers.Dropout(0.5, name='dropout'),\n",
    "        layers.Dense(num_classes, activation='softmax', name='predictions')\n",
    "    ])\n",
    "    return model"
   ],
   "id": "a9ea329a5df58654",
   "outputs": [],
   "execution_count": 9
  },
  {
   "metadata": {
    "ExecuteTime": {
     "end_time": "2025-03-31T15:30:16.777859Z",
     "start_time": "2025-03-31T15:30:16.746519Z"
    }
   },
   "cell_type": "code",
   "source": [
    "strategy = tf.distribute.MirroredStrategy()\n",
    "print('Number of available GPU:', strategy.num_replicas_in_sync)"
   ],
   "id": "d9ee184d7e10e992",
   "outputs": [
    {
     "name": "stdout",
     "output_type": "stream",
     "text": [
      "INFO:tensorflow:Using MirroredStrategy with devices ('/job:localhost/replica:0/task:0/device:CPU:0',)\n",
      "Number of available GPU: 1\n"
     ]
    }
   ],
   "execution_count": 10
  },
  {
   "metadata": {
    "ExecuteTime": {
     "end_time": "2025-03-31T15:35:08.178201Z",
     "start_time": "2025-03-31T15:35:07.955716Z"
    }
   },
   "cell_type": "code",
   "source": [
    "with strategy.scope():\n",
    "    model = build_small_cnn(num_classes)\n",
    "    model.compile(\n",
    "        loss=keras.losses.CategoricalCrossentropy(),\n",
    "        optimizer='adam',\n",
    "        metrics=['accuracy']\n",
    "    )\n",
    "\n",
    "model.summary()\n",
    "keras.utils.plot_model(model, show_shapes=True, show_layer_names=True)\n",
    "# model.load_weights('vgg_face_weights.h5')"
   ],
   "id": "a9d512f85aae3b97",
   "outputs": [
    {
     "name": "stdout",
     "output_type": "stream",
     "text": [
      "Model: \"sequential_3\"\n",
      "_________________________________________________________________\n",
      " Layer (type)                Output Shape              Param #   \n",
      "=================================================================\n",
      " conv1 (Conv2D)              (None, 224, 224, 32)      896       \n",
      "                                                                 \n",
      " pool1 (MaxPooling2D)        (None, 112, 112, 32)      0         \n",
      "                                                                 \n",
      " conv2 (Conv2D)              (None, 112, 112, 64)      18496     \n",
      "                                                                 \n",
      " pool2 (MaxPooling2D)        (None, 56, 56, 64)        0         \n",
      "                                                                 \n",
      " conv3 (Conv2D)              (None, 56, 56, 128)       73856     \n",
      "                                                                 \n",
      " pool3 (MaxPooling2D)        (None, 28, 28, 128)       0         \n",
      "                                                                 \n",
      " flatten (Flatten)           (None, 100352)            0         \n",
      "                                                                 \n",
      " fc1 (Dense)                 (None, 128)               12845184  \n",
      "                                                                 \n",
      " dropout (Dropout)           (None, 128)               0         \n",
      "                                                                 \n",
      " predictions (Dense)         (None, 4)                 516       \n",
      "                                                                 \n",
      "=================================================================\n",
      "Total params: 12938948 (49.36 MB)\n",
      "Trainable params: 12938948 (49.36 MB)\n",
      "Non-trainable params: 0 (0.00 Byte)\n",
      "_________________________________________________________________\n",
      "You must install pydot (`pip install pydot`) and install graphviz (see instructions at https://graphviz.gitlab.io/download/) for plot_model to work.\n"
     ]
    }
   ],
   "execution_count": 22
  },
  {
   "metadata": {
    "ExecuteTime": {
     "end_time": "2025-03-31T15:30:17.425315Z",
     "start_time": "2025-03-31T15:30:17.393669Z"
    }
   },
   "cell_type": "code",
   "source": [
    "checkpoint_filepath = \"model.ckpt\"\n",
    "model_checkpoint = keras.callbacks.ModelCheckpoint(\n",
    "    filepath=os.path.join(checkpoint_filepath, 'model_{epoch:02d}.weights.h5'),\n",
    "    save_weights_only=True,\n",
    "    save_best_only=True,\n",
    "    monitor='val_loss',\n",
    "    mode='min',\n",
    ")\n",
    "\n",
    "early_stopping = keras.callbacks.EarlyStopping(\n",
    "    monitor='val_loss',\n",
    "    mode='min',\n",
    "    patience=50,\n",
    "    restore_best_weights=True\n",
    ")"
   ],
   "id": "4924f9c8f78ceeda",
   "outputs": [],
   "execution_count": 12
  },
  {
   "metadata": {
    "ExecuteTime": {
     "end_time": "2025-03-31T15:31:59.824697Z",
     "start_time": "2025-03-31T15:30:17.486150Z"
    }
   },
   "cell_type": "code",
   "source": [
    "history = model.fit(\n",
    "    train_dataset,\n",
    "    # batch_size=128,\n",
    "    epochs=2,\n",
    "    steps_per_epoch=(len(X_train) * NUM_AUG) // BATCH_SIZE,\n",
    "    validation_data=val_dataset,\n",
    "    callbacks=[model_checkpoint, early_stopping],\n",
    "    verbose=1,\n",
    ")"
   ],
   "id": "f062966b7cb4abbc",
   "outputs": [
    {
     "name": "stdout",
     "output_type": "stream",
     "text": [
      "Epoch 1/2\n",
      "WARNING:tensorflow:From C:\\Users\\HP\\Desktop\\UNIBO\\LaureaMagistrale\\2 Anno\\I Semestre\\VisioneArtificialeRiconoscimento\\Progetto\\VAR-wlasl-recognition-new\\.venv\\lib\\site-packages\\keras\\src\\utils\\tf_utils.py:492: The name tf.ragged.RaggedTensorValue is deprecated. Please use tf.compat.v1.ragged.RaggedTensorValue instead.\n",
      "\n",
      "WARNING:tensorflow:From C:\\Users\\HP\\Desktop\\UNIBO\\LaureaMagistrale\\2 Anno\\I Semestre\\VisioneArtificialeRiconoscimento\\Progetto\\VAR-wlasl-recognition-new\\.venv\\lib\\site-packages\\keras\\src\\engine\\base_layer_utils.py:384: The name tf.executing_eagerly_outside_functions is deprecated. Please use tf.compat.v1.executing_eagerly_outside_functions instead.\n",
      "\n",
      "139/139 [==============================] - 97s 637ms/step - loss: 2.5112 - accuracy: 0.7179 - val_loss: 8.3609 - val_accuracy: 0.7162\n",
      "Epoch 2/2\n",
      "  1/139 [..............................] - ETA: 59s - loss: 0.7590 - accuracy: 0.6429WARNING:tensorflow:Your input ran out of data; interrupting training. Make sure that your dataset or generator can generate at least `steps_per_epoch * epochs` batches (in this case, 278 batches). You may need to use the repeat() function when building your dataset.\n",
      "139/139 [==============================] - 5s 36ms/step - loss: 0.7590 - accuracy: 0.6429 - val_loss: 8.2094 - val_accuracy: 0.7162\n"
     ]
    }
   ],
   "execution_count": 13
  },
  {
   "metadata": {
    "ExecuteTime": {
     "end_time": "2025-03-31T15:32:05.604052Z",
     "start_time": "2025-03-31T15:31:59.873787Z"
    }
   },
   "cell_type": "code",
   "source": "test_loss, test_acc = model.evaluate(test_dataset)",
   "id": "7952e24240d784ec",
   "outputs": [
    {
     "name": "stdout",
     "output_type": "stream",
     "text": [
      "31/31 [==============================] - 6s 173ms/step - loss: 8.1599 - accuracy: 0.7202\n"
     ]
    }
   ],
   "execution_count": 14
  },
  {
   "metadata": {
    "ExecuteTime": {
     "end_time": "2025-03-31T15:32:11.786823Z",
     "start_time": "2025-03-31T15:32:05.611751Z"
    }
   },
   "cell_type": "code",
   "source": "y_pred = model.predict(test_dataset)",
   "id": "90350d5cf64ff603",
   "outputs": [
    {
     "name": "stdout",
     "output_type": "stream",
     "text": [
      "31/31 [==============================] - 6s 181ms/step\n"
     ]
    }
   ],
   "execution_count": 15
  },
  {
   "metadata": {
    "ExecuteTime": {
     "end_time": "2025-03-31T15:32:11.859950Z",
     "start_time": "2025-03-31T15:32:11.834675Z"
    }
   },
   "cell_type": "code",
   "source": [
    "y_pred_indices = np.argmax(y_pred, axis=1)\n",
    "y_pred_original = label_encoder.inverse_transform(y_pred_indices)"
   ],
   "id": "b59c595df6b9a427",
   "outputs": [],
   "execution_count": 16
  },
  {
   "metadata": {
    "ExecuteTime": {
     "end_time": "2025-03-31T15:32:11.945619Z",
     "start_time": "2025-03-31T15:32:11.922948Z"
    }
   },
   "cell_type": "code",
   "source": [
    "print(len(y_test))\n",
    "print(len(y_pred_original))"
   ],
   "id": "75ee41bd2c75a27a",
   "outputs": [
    {
     "name": "stdout",
     "output_type": "stream",
     "text": [
      "965\n",
      "965\n"
     ]
    }
   ],
   "execution_count": 17
  },
  {
   "metadata": {
    "ExecuteTime": {
     "end_time": "2025-03-31T15:32:12.056687Z",
     "start_time": "2025-03-31T15:32:12.040567Z"
    }
   },
   "cell_type": "code",
   "source": "stats = ModelStatistics(save_name=f\"svc_signer_test_{len(y_test)}\", save_dir=\"signer/plots\")",
   "id": "78403c8242c77e91",
   "outputs": [],
   "execution_count": 18
  },
  {
   "metadata": {
    "ExecuteTime": {
     "end_time": "2025-03-31T15:32:13.293989Z",
     "start_time": "2025-03-31T15:32:12.142695Z"
    }
   },
   "cell_type": "code",
   "source": "stats.plot_history(history=history)",
   "id": "a559dd0f2e9404d4",
   "outputs": [
    {
     "data": {
      "text/plain": [
       "<Figure size 1200x600 with 2 Axes>"
      ],
      "image/png": "[encoded data removed]"
     },
     "metadata": {},
     "output_type": "display_data"
    }
   ],
   "execution_count": 19
  },
  {
   "metadata": {
    "ExecuteTime": {
     "end_time": "2025-03-31T15:32:13.701386Z",
     "start_time": "2025-03-31T15:32:13.357125Z"
    }
   },
   "cell_type": "code",
   "source": [
    "stats.print_accuracy(y_test, y_pred_original)\n",
    "stats.plot_confusion_matrix(y_test, y_pred_original, save=True, plot=True)"
   ],
   "id": "bb9ba42f17edb776",
   "outputs": [
    {
     "name": "stdout",
     "output_type": "stream",
     "text": [
      "Accuracy: 72.02%\n",
      "Confusion matrix saved at signer/plots\\svc_signer_test_965.png\n"
     ]
    },
    {
     "data": {
      "text/plain": [
       "<Figure size 1000x700 with 2 Axes>"
      ],
      "image/png": "[encoded data removed]"
     },
     "metadata": {},
     "output_type": "display_data"
    }
   ],
   "execution_count": 20
  },
  {
   "metadata": {
    "ExecuteTime": {
     "end_time": "2025-03-31T15:32:13.721086Z",
     "start_time": "2025-03-31T15:32:13.708601Z"
    }
   },
   "cell_type": "code",
   "source": "",
   "id": "a52c72e17a85dcce",
   "outputs": [],
   "execution_count": null
  }
 ],
 "metadata": {
  "kernelspec": {
   "display_name": "Python 3",
   "language": "python",
   "name": "python3"
  },
  "language_info": {
   "codemirror_mode": {
    "name": "ipython",
    "version": 2
   },
   "file_extension": ".py",
   "mimetype": "text/x-python",
   "name": "python",
   "nbconvert_exporter": "python",
   "pygments_lexer": "ipython2",
   "version": "2.7.6"
  }
 },
 "nbformat": 4,
 "nbformat_minor": 5
}
