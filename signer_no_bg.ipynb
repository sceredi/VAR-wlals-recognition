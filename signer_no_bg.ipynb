{
 "cells": [
  {
   "cell_type": "code",
   "id": "initial_id",
   "metadata": {
    "collapsed": true
   },
   "source": [
    "import os\n",
    "import numpy as np\n",
    "\n",
    "from handcrafted.app.dataset.utils.dataset_creator import DatasetCreator\n",
    "from handcrafted.app.model.model_statistics import ModelStatistics\n",
    "\n",
    "from tensorflow import keras\n",
    "from tensorflow.keras import layers\n",
    "from tensorflow.keras.utils import to_categorical\n",
    "from sklearn.preprocessing import LabelEncoder\n",
    "from handcrafted.app.dataset.dataset_loader import DatasetLoader\n",
    "from handcrafted.app.dataset.utils.frames_splitter import FramesSplitter"
   ],
   "outputs": [],
   "execution_count": null
  },
  {
   "metadata": {},
   "cell_type": "code",
   "source": "loader = DatasetLoader(directory=\"./data/frames_no_bg/\")",
   "id": "1f091fd4fd7fd7f8",
   "outputs": [],
   "execution_count": null
  },
  {
   "metadata": {},
   "cell_type": "code",
   "source": "splitter = FramesSplitter(loader.signers, val_split=0.3, test_split=0.3, frames_split=0.1, seed=42)",
   "id": "67198a3f4fbcc8c1",
   "outputs": [],
   "execution_count": null
  },
  {
   "metadata": {},
   "cell_type": "code",
   "source": "X_train, y_train, X_val, y_val, X_test, y_test = splitter.split()",
   "id": "99bffccbd218b30c",
   "outputs": [],
   "execution_count": null
  },
  {
   "metadata": {},
   "cell_type": "code",
   "source": [
    "# Get the total of different labels\n",
    "num_classes = loader.num_signers\n",
    "print(num_classes)"
   ],
   "id": "107083a87bfe968f",
   "outputs": [],
   "execution_count": null
  },
  {
   "metadata": {},
   "cell_type": "code",
   "source": [
    "label_encoder = LabelEncoder()\n",
    "y_train_encoded = label_encoder.fit_transform(y_train)\n",
    "y_val_encoded = label_encoder.fit_transform(y_val)\n",
    "y_test_encoded = label_encoder.fit_transform(y_test)\n",
    "y_train_onehot = to_categorical(y_train_encoded, num_classes=num_classes)\n",
    "y_val_onehot = to_categorical(y_val_encoded, num_classes=num_classes)\n",
    "y_test_onehot = to_categorical(y_test_encoded, num_classes=num_classes)"
   ],
   "id": "fbe3d8897565f4a7",
   "outputs": [],
   "execution_count": null
  },
  {
   "metadata": {},
   "cell_type": "code",
   "source": [
    "BATCH_SIZE = 32\n",
    "dataset_creator = DatasetCreator()\n",
    "train_dataset = dataset_creator.create_dataset(X_train, y_train_onehot, num_aug=3, batch_size=BATCH_SIZE, shuffle=True)\n",
    "val_dataset = dataset_creator.create_dataset(X_val, y_val_onehot, batch_size=BATCH_SIZE, shuffle=False)\n",
    "test_dataset = dataset_creator.create_dataset(X_test, y_test_onehot, batch_size=BATCH_SIZE, shuffle=False)"
   ],
   "id": "931f564da905c84d",
   "outputs": [],
   "execution_count": null
  },
  {
   "metadata": {},
   "cell_type": "code",
   "source": [
    "def build_vggface():\n",
    "    model = keras.Sequential(\n",
    "        [\n",
    "            layers.Input(shape=(224, 224, 3), name='input'),\n",
    "            layers.Conv2D(filters=64, kernel_size=3, padding='same', activation='relu', name='conv1_1-relu1_1'),\n",
    "            layers.Conv2D(filters=64, kernel_size=3, padding='same', activation='relu', name='conv1_2-relu1_2'),\n",
    "            layers.MaxPooling2D(pool_size=2, strides=2, name='pool1'),\n",
    "            layers.Conv2D(filters=128, kernel_size=3, padding='same', activation='relu', name='conv2_1-relu2_1'),\n",
    "            layers.Conv2D(filters=128, kernel_size=3, padding='same', activation='relu', name='conv2_2-relu2_2'),\n",
    "            layers.MaxPooling2D(pool_size=2, strides=2, name='pool2'),\n",
    "            layers.Conv2D(filters=256, kernel_size=3, padding='same', activation='relu', name='conv3_1-relu3_1'),\n",
    "            layers.Conv2D(filters=256, kernel_size=3, padding='same', activation='relu', name='conv3_2-relu3_2'),\n",
    "            layers.Conv2D(filters=256, kernel_size=3, padding='same', activation='relu', name='conv3_3-relu3_3'),\n",
    "            layers.MaxPooling2D(pool_size=2, strides=2, name='pool3'),\n",
    "            layers.Conv2D(filters=512, kernel_size=3, padding='same', activation='relu', name='conv4_1-relu4_1'),\n",
    "            layers.Conv2D(filters=512, kernel_size=3, padding='same', activation='relu', name='conv4_2-relu4_2'),\n",
    "            layers.Conv2D(filters=512, kernel_size=3, padding='same', activation='relu', name='conv4_3-relu4_3'),\n",
    "            layers.MaxPooling2D(pool_size=2, strides=2, name='pool4'),\n",
    "            layers.Conv2D(filters=512, kernel_size=3, padding='same', activation='relu', name='conv5_1-relu5_1'),\n",
    "            layers.Conv2D(filters=512, kernel_size=3, padding='same', activation='relu', name='conv5_2-relu5_2'),\n",
    "            layers.Conv2D(filters=512, kernel_size=3, padding='same', activation='relu', name='conv5_3-relu5_3'),\n",
    "            layers.MaxPooling2D(pool_size=2, strides=2, name='pool5'),\n",
    "            layers.Conv2D(filters=4096, kernel_size=7, activation='relu', name='fc6-relu6'),\n",
    "            layers.Dropout(0.5, name='do6'),\n",
    "            layers.Conv2D(filters=4096, kernel_size=1, activation='relu', name='fc7-relu7'),\n",
    "            layers.Dropout(0.5, name='do7'),\n",
    "            layers.Conv2D(filters=num_classes, kernel_size=1, activation='softmax', name='fc8-prob'),\n",
    "            layers.Flatten(name='flatten'),\n",
    "        ]\n",
    "    )\n",
    "\n",
    "    return model"
   ],
   "id": "4c9aae820035420d",
   "outputs": [],
   "execution_count": null
  },
  {
   "metadata": {},
   "cell_type": "code",
   "source": [
    "def build_small_cnn(num_classes):\n",
    "    model = keras.Sequential([\n",
    "        layers.Input(shape=(224, 224, 3), name='input'),\n",
    "        # First convolutional block\n",
    "        layers.Conv2D(32, kernel_size=3, padding='same', activation='relu', name='conv1'),\n",
    "        layers.MaxPooling2D(pool_size=2, strides=2, name='pool1'),\n",
    "        # Second convolutional block\n",
    "        layers.Conv2D(64, kernel_size=3, padding='same', activation='relu', name='conv2'),\n",
    "        layers.MaxPooling2D(pool_size=2, strides=2, name='pool2'),\n",
    "        # Third convolutional block\n",
    "        layers.Conv2D(128, kernel_size=3, padding='same', activation='relu', name='conv3'),\n",
    "        layers.MaxPooling2D(pool_size=2, strides=2, name='pool3'),\n",
    "        # Flatten and dense layers\n",
    "        layers.Flatten(name='flatten'),\n",
    "        layers.Dense(128, activation='relu', name='fc1'),\n",
    "        layers.Dropout(0.5, name='dropout'),\n",
    "        layers.Dense(num_classes, activation='softmax', name='predictions')\n",
    "    ])\n",
    "    return model"
   ],
   "id": "a9ea329a5df58654",
   "outputs": [],
   "execution_count": null
  },
  {
   "metadata": {},
   "cell_type": "code",
   "source": [
    "model = build_small_cnn(num_classes)\n",
    "model.summary()\n",
    "keras.utils.plot_model(model, show_shapes=True, show_layer_names=True)\n",
    "# model.load_weights('vgg_face_weights.h5')"
   ],
   "id": "461ae9f066862ea1",
   "outputs": [],
   "execution_count": null
  },
  {
   "metadata": {},
   "cell_type": "code",
   "source": [
    "checkpoint_filepath = \"model.ckpt\"\n",
    "model_checkpoint = keras.callbacks.ModelCheckpoint(\n",
    "    filepath=os.path.join(checkpoint_filepath, 'model_{epoch:02d}.weights.h5'),\n",
    "    save_weights_only=True,\n",
    "    save_best_only=True,\n",
    "    monitor='val_loss',\n",
    "    mode='min',\n",
    ")\n",
    "\n",
    "early_stopping = keras.callbacks.EarlyStopping(\n",
    "    monitor='val_loss',\n",
    "    mode='min',\n",
    "    patience=50,\n",
    "    restore_best_weights=True\n",
    ")\n"
   ],
   "id": "4924f9c8f78ceeda",
   "outputs": [],
   "execution_count": null
  },
  {
   "metadata": {},
   "cell_type": "code",
   "source": [
    "model.compile(\n",
    "    loss=keras.losses.CategoricalCrossentropy(),\n",
    "    optimizer='adam',\n",
    "    metrics=['accuracy']\n",
    ")"
   ],
   "id": "41e222a3e2a21e3d",
   "outputs": [],
   "execution_count": null
  },
  {
   "metadata": {},
   "cell_type": "code",
   "source": [
    "model.fit(\n",
    "    train_dataset,\n",
    "    batch_size=128,\n",
    "    epochs=2,\n",
    "    # steps_per_epoch=(len(X_train) * NUM_AUG) // batch_size,\n",
    "    validation_data=val_dataset,\n",
    "    callbacks=[model_checkpoint, early_stopping],\n",
    "    verbose=1,\n",
    ")"
   ],
   "id": "f062966b7cb4abbc",
   "outputs": [],
   "execution_count": null
  },
  {
   "metadata": {},
   "cell_type": "code",
   "source": "test_loss, test_acc = model.evaluate(test_dataset)",
   "id": "7952e24240d784ec",
   "outputs": [],
   "execution_count": null
  },
  {
   "metadata": {},
   "cell_type": "code",
   "source": "y_pred = model.predict(test_dataset)",
   "id": "90350d5cf64ff603",
   "outputs": [],
   "execution_count": null
  },
  {
   "metadata": {},
   "cell_type": "code",
   "source": [
    "y_pred_indices = np.argmax(y_pred, axis=1)\n",
    "y_pred_original = label_encoder.inverse_transform(y_pred_indices)"
   ],
   "id": "b59c595df6b9a427",
   "outputs": [],
   "execution_count": null
  },
  {
   "metadata": {},
   "cell_type": "code",
   "source": [
    "print(len(y_test))\n",
    "print(len(y_pred_original))"
   ],
   "id": "75ee41bd2c75a27a",
   "outputs": [],
   "execution_count": null
  },
  {
   "metadata": {},
   "cell_type": "code",
   "source": [
    "stats = ModelStatistics(save_name=f\"svc_signer_test_{len(y_test)}\", save_dir=\"signer/plots\")\n",
    "stats.print_accuracy(y_test, y_pred_original)\n",
    "stats.plot_confusion_matrix(y_test, y_pred_original, save=True, plot=True)"
   ],
   "id": "bb9ba42f17edb776",
   "outputs": [],
   "execution_count": null
  },
  {
   "metadata": {},
   "cell_type": "code",
   "source": "",
   "id": "a52c72e17a85dcce",
   "outputs": [],
   "execution_count": null
  }
 ],
 "metadata": {
  "kernelspec": {
   "display_name": "Python 3",
   "language": "python",
   "name": "python3"
  },
  "language_info": {
   "codemirror_mode": {
    "name": "ipython",
    "version": 2
   },
   "file_extension": ".py",
   "mimetype": "text/x-python",
   "name": "python",
   "nbconvert_exporter": "python",
   "pygments_lexer": "ipython2",
   "version": "2.7.6"
  }
 },
 "nbformat": 4,
 "nbformat_minor": 5
}
