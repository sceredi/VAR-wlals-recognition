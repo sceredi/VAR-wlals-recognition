{
 "cells": [
  {
   "cell_type": "code",
   "execution_count": 8,
   "metadata": {},
   "outputs": [],
   "source": [
    "# !wget \"https://www.dropbox.com/scl/fi/acun1rm43ge7ljr5qo6p2/wlasl.zip?rlkey=4o90zt8bhip49m7nows9gcsc8&dl=0\"\n",
    "# !pip install gdown\n",
    "# !gdown --id \"1QbuUJbwrq0D3hU8-sEePb4tJ87t2WA8r\""
   ]
  },
  {
   "cell_type": "code",
   "execution_count": 9,
   "metadata": {},
   "outputs": [],
   "source": [
    "# !mv wlasl.zip* /wlasl.zip\n",
    "# !unzip -qq /wlasl.zip -d dw-data\n",
    "# !mv dw-data/data data\n",
    "# !rm -r dw-data\n",
    "# !rm wlasl.zip*\n",
    "# !rm -r sample_data\n",
    "# !git clone -b feature/mediapipe https://github.com/sceredi/VAR-wlals-recognition.git ./code\n",
    "# !mv ./code/* ./\n",
    "# !rm -r code"
   ]
  },
  {
   "cell_type": "code",
   "execution_count": 10,
   "metadata": {},
   "outputs": [],
   "source": [
    "# !pip install -r requirements.txt\n",
    "# !pip install mediapipe==0.10.9\n",
    "# !pip uninstall -y keras\n",
    "# !pip install keras==2.15.0"
   ]
  },
  {
   "cell_type": "code",
   "execution_count": 11,
   "metadata": {},
   "outputs": [],
   "source": [
    "import gc\n",
    "import numpy as np\n",
    "\n",
    "from handcrafted.app.dataset.dataset import Dataset \n",
    "from wlasl_mediapipe.app.mp.mp_video import MediapipeVideo\n",
    "from wlasl_mediapipe.app.mp.augmentation import augment"
   ]
  },
  {
   "cell_type": "code",
   "execution_count": 12,
   "metadata": {},
   "outputs": [],
   "source": [
    "from typing import List\n",
    "\n",
    "\n",
    "def split_data(dataset: Dataset, glosses = List[str]):\n",
    "  train_videos = dataset.get_videos(\n",
    "    lambda video: (video.split == \"train\") and video.gloss in glosses\n",
    "  )\n",
    "  val_videos = dataset.get_videos(\n",
    "    lambda video: (video.split == \"val\") and video.gloss in glosses\n",
    "  )\n",
    "  test_videos = dataset.get_videos(\n",
    "    lambda video: (video.split == \"test\") and video.gloss in glosses\n",
    "  )\n",
    "  train_videos = [MediapipeVideo(video, plot=False, expand_keypoints=False) for video in train_videos]\n",
    "  print(\"Train videos loaded\")\n",
    "  val_videos = [MediapipeVideo(video, plot=False, expand_keypoints=False) for video in val_videos]\n",
    "  print(\"Val videos loaded\")\n",
    "  test_videos = [MediapipeVideo(video, plot=False, expand_keypoints=False) for video in test_videos]\n",
    "  print(\"Test videos loaded\")\n",
    "  return train_videos, val_videos, test_videos, glosses"
   ]
  },
  {
   "cell_type": "code",
   "execution_count": 13,
   "metadata": {},
   "outputs": [
    {
     "name": "stdout",
     "output_type": "stream",
     "text": [
      "Train videos loaded\n",
      "Val videos loaded\n",
      "Test videos loaded\n"
     ]
    }
   ],
   "source": [
    "from wlasl_mediapipe.app.mp.models.globals import FilteredLabels\n",
    "\n",
    "\n",
    "word_number = 5\n",
    "dataset = Dataset('data/WLASL_v0.3.json', only_keypoints=True)\n",
    "# glosses = pd.read_csv(\"data/wlasl_class_list.txt\", sep=\"\\t\", header=None)[1].tolist()\n",
    "glosses = FilteredLabels.get_labels()\n",
    "glosses = glosses[:word_number]\n",
    "if word_number == -1:\n",
    "    word_number = len(glosses)\n",
    "train_videos, val_videos, test_videos, glosses = split_data(dataset, glosses)"
   ]
  },
  {
   "cell_type": "code",
   "execution_count": 14,
   "metadata": {},
   "outputs": [],
   "source": [
    "Y_train = [video.get_base_video().gloss for video in train_videos]\n",
    "Y_val = [video.get_base_video().gloss for video in val_videos]\n",
    "Y_test = [video.get_base_video().gloss for video in test_videos]"
   ]
  },
  {
   "cell_type": "code",
   "execution_count": 15,
   "metadata": {},
   "outputs": [
    {
     "name": "stdout",
     "output_type": "stream",
     "text": [
      "Train Y: 5\n"
     ]
    }
   ],
   "source": [
    "print(f\"Train Y: {len(np.unique(Y_train))}\")"
   ]
  },
  {
   "cell_type": "code",
   "execution_count": 16,
   "metadata": {},
   "outputs": [],
   "source": [
    "labels_dict = np.load('data/labels.npz', allow_pickle=True)"
   ]
  },
  {
   "cell_type": "code",
   "execution_count": 17,
   "metadata": {},
   "outputs": [],
   "source": [
    "Y_train_labels = np.array([labels_dict[label] for label in Y_train])\n",
    "Y_val_labels = np.array([labels_dict[label] for label in Y_val])\n",
    "Y_test_labels = np.array([labels_dict[label] for label in Y_test])"
   ]
  },
  {
   "cell_type": "code",
   "execution_count": null,
   "metadata": {},
   "outputs": [],
   "source": [
    "print(f\"Train Y: {Y_train_labels.shape}\")\n",
    "output_count = Y_train_labels.shape[1]"
   ]
  },
  {
   "cell_type": "code",
   "execution_count": null,
   "metadata": {},
   "outputs": [],
   "source": [
    "max_frames = max([video.sign_model.lh_matrix.shape[0] for video in train_videos + val_videos + test_videos])\n",
    "print(f\"Longest video: {max_frames}\")"
   ]
  },
  {
   "cell_type": "code",
   "execution_count": null,
   "metadata": {},
   "outputs": [],
   "source": [
    "def concatenate_data(video_list):\n",
    "    concatenated_data = []\n",
    "    for video in video_list:\n",
    "        frames_data = []\n",
    "        for i in range(len(video.sign_model.left_hand_list)):\n",
    "            left_hand_data = video.sign_model.lh_matrix[i]\n",
    "            right_hand_data = video.sign_model.rh_matrix[i]\n",
    "            pose_data = video.sign_model.pose_matrix[i]\n",
    "            _face_data = video.sign_model.face_matrix[i]\n",
    "            _face_data = []\n",
    "            # frame_data = np.concatenate((left_hand_data, right_hand_data, pose_data, face_data))\n",
    "            frame_data = np.concatenate((left_hand_data, right_hand_data, pose_data))\n",
    "            frames_data.append(np.array(frame_data))\n",
    "        # frames_data = np.pad(frames_data, ((0, max_frames - len(frames_data)), (0, 0)), 'constant', constant_values=0)\n",
    "        concatenated_data.append(np.array(frames_data))\n",
    "    return concatenated_data"
   ]
  },
  {
   "cell_type": "code",
   "execution_count": null,
   "metadata": {},
   "outputs": [],
   "source": [
    "X_train_concatenated = concatenate_data(train_videos)\n",
    "del train_videos\n",
    "gc.collect()\n",
    "X_val_concatenated = concatenate_data(val_videos)\n",
    "del val_videos\n",
    "gc.collect()\n",
    "X_test_concatenated = concatenate_data(test_videos)\n",
    "del test_videos\n",
    "gc.collect()"
   ]
  },
  {
   "cell_type": "markdown",
   "metadata": {},
   "source": [
    "## Scaling the data using standard scaler"
   ]
  },
  {
   "cell_type": "code",
   "execution_count": null,
   "metadata": {},
   "outputs": [],
   "source": [
    "# from sklearn.preprocessing import StandardScaler\n",
    "# scaler = StandardScaler()\n",
    "# scaler.fit(np.concatenate(X_train_concatenated))\n",
    "# X_train_scaled = [scaler.transform(video) for video in X_train_concatenated]\n",
    "# del X_train_concatenated\n",
    "# gc.collect()\n",
    "# X_val_scaled = [scaler.transform(video) for video in X_val_concatenated]\n",
    "# del X_val_concatenated\n",
    "# gc.collect()\n",
    "# X_test_scaled = [scaler.transform(video) for video in X_test_concatenated]\n",
    "# del X_test_concatenated\n",
    "# gc.collect()"
   ]
  },
  {
   "cell_type": "markdown",
   "metadata": {},
   "source": [
    "# Model definition\n",
    "## Libraries useful for ml"
   ]
  },
  {
   "cell_type": "code",
   "execution_count": null,
   "metadata": {},
   "outputs": [],
   "source": [
    "\n",
    "# from tensorflow import keras\n",
    "import tensorflow as tf\n",
    "\n",
    "from tensorflow.keras import layers"
   ]
  },
  {
   "cell_type": "markdown",
   "metadata": {},
   "source": [
    "## Preparing the data"
   ]
  },
  {
   "cell_type": "code",
   "execution_count": null,
   "metadata": {},
   "outputs": [],
   "source": [
    "# # Convert your concatenated data to RaggedTensors\n",
    "# X_train_ragged = tf.ragged.constant(X_train_scaled, dtype=tf.float32)\n",
    "# del X_train_scaled\n",
    "# gc.collect()\n",
    "# X_val_ragged = tf.ragged.constant(X_val_scaled, dtype=tf.float32)\n",
    "# del X_val_scaled\n",
    "# gc.collect()\n",
    "# X_test_ragged = tf.ragged.constant(X_test_scaled, dtype=tf.float32)\n",
    "# del X_test_scaled\n",
    "# gc.collect()"
   ]
  },
  {
   "cell_type": "code",
   "execution_count": null,
   "metadata": {},
   "outputs": [],
   "source": [
    "# Label preprocessing with StringLookup.\n",
    "# label_processor = keras.layers.StringLookup(\n",
    "#     num_oov_indices=0, vocabulary=np.unique(Y_train), mask_token=None\n",
    "# )\n",
    "# print(label_processor.get_vocabulary())\n",
    "# Y_train_labels = label_processor(Y_train).numpy()\n",
    "# Y_val_labels = label_processor(Y_val).numpy()\n",
    "# Y_test_labels = label_processor(Y_test).numpy()\n",
    "# Y_train_one_hot = to_categorical(Y_train, num_classes=word_number)\n",
    "# Y_val_one_hot = to_categorical(Y_val, num_classes=word_number)\n",
    "# Y_test_one_hot = to_categorical(Y_test, num_classes=word_number)"
   ]
  },
  {
   "cell_type": "code",
   "execution_count": null,
   "metadata": {},
   "outputs": [],
   "source": [
    "# input_shape = (None, len(X_train_ragged[0][0]))"
   ]
  },
  {
   "cell_type": "markdown",
   "metadata": {},
   "source": [
    "### Data Augmentation"
   ]
  },
  {
   "cell_type": "code",
   "execution_count": null,
   "metadata": {},
   "outputs": [],
   "source": [
    "print(len(X_train_concatenated))"
   ]
  },
  {
   "cell_type": "code",
   "execution_count": null,
   "metadata": {},
   "outputs": [],
   "source": [
    "X_train_aug, Y_test_aug = augment(X_train_concatenated, Y_train_labels.tolist(), 8)\n",
    "del X_train_concatenated"
   ]
  },
  {
   "cell_type": "code",
   "execution_count": null,
   "metadata": {},
   "outputs": [],
   "source": [
    "print(len(X_train_aug))"
   ]
  },
  {
   "cell_type": "code",
   "execution_count": null,
   "metadata": {},
   "outputs": [],
   "source": [
    "def flatten_and_pad(data, max_frames):\n",
    "    padded_data = []\n",
    "    for video in data:\n",
    "        video = np.array(video)\n",
    "        video = np.reshape(video, (video.shape[0], -1))\n",
    "        if len(video) < max_frames:\n",
    "            video = np.pad(video, ((0, max_frames - len(video)), (0, 0)), 'constant', constant_values=0)\n",
    "        padded_data.append(video)\n",
    "    return np.array(padded_data)"
   ]
  },
  {
   "cell_type": "code",
   "execution_count": null,
   "metadata": {},
   "outputs": [],
   "source": [
    "X_train_flattened= flatten_and_pad(X_train_aug, max_frames)\n",
    "del X_train_aug\n",
    "X_val_flattened = flatten_and_pad(X_val_concatenated, max_frames)\n",
    "del X_val_concatenated\n",
    "X_test_flattened = flatten_and_pad(X_test_concatenated, max_frames)\n",
    "del X_test_concatenated\n",
    "gc.collect()"
   ]
  },
  {
   "cell_type": "code",
   "execution_count": null,
   "metadata": {},
   "outputs": [],
   "source": [
    "input_shape = (np.array(X_train_flattened).shape[1:])\n",
    "print(input_shape)\n",
    "\n",
    "print(X_train_flattened.shape)\n",
    "print(X_val_flattened.shape)\n",
    "print(X_test_flattened.shape)"
   ]
  },
  {
   "cell_type": "code",
   "execution_count": null,
   "metadata": {},
   "outputs": [],
   "source": [
    "batch_size = 128\n",
    "X_train_dataset = tf.data.Dataset.from_tensor_slices((X_train_flattened, Y_test_aug)).shuffle(buffer_size=X_train_flattened.shape[0]).batch(batch_size)\n",
    "del X_train_flattened\n",
    "gc.collect()\n",
    "X_val_dataset = tf.data.Dataset.from_tensor_slices((X_val_flattened, Y_val_labels)).shuffle(buffer_size=X_val_flattened.shape[0]).batch(batch_size)\n",
    "del X_val_flattened\n",
    "gc.collect()\n",
    "X_test_dataset = tf.data.Dataset.from_tensor_slices((X_test_flattened, Y_test_labels)).batch(batch_size)\n",
    "del X_test_flattened\n",
    "gc.collect()"
   ]
  },
  {
   "cell_type": "markdown",
   "metadata": {},
   "source": [
    "### Defining the model"
   ]
  },
  {
   "cell_type": "code",
   "execution_count": null,
   "metadata": {},
   "outputs": [],
   "source": [
    "def build_rnn_gru(input_shape, gru_units_per_layer=[256, 256], output_count=2000,neuron_count_per_hidden_layer=[128,128],activation='relu'):\n",
    "  model = keras.Sequential()\n",
    "  model.add(layers.Input(shape=input_shape, ragged=True))\n",
    "  for gru_units in gru_units_per_layer[:-1]:\n",
    "    model.add(layers.GRU(units = gru_units, return_sequences=True, activation=activation, dropout=0.2, recurrent_dropout=0.2))\n",
    "  \n",
    "  model.add(layers.GRU(units = gru_units_per_layer[-1], activation=activation, dropout=0.2, recurrent_dropout=0.2))\n",
    "\n",
    "  for n in neuron_count_per_hidden_layer:\n",
    "    model.add(layers.Dense(n,activation=activation))\n",
    "\n",
    "  model.add(layers.Dense(output_count, activation=\"softmax\"))\n",
    "  return model"
   ]
  },
  {
   "cell_type": "code",
   "execution_count": null,
   "metadata": {},
   "outputs": [],
   "source": [
    "def build_rnn_lstm(input_shape, lstm_units_per_layer=[256, 256], output_count=2000, neuron_count_per_hidden_layer=[128, 128], activation='relu'):\n",
    "    model = keras.Sequential()\n",
    "    model.add(layers.Input(shape=input_shape, ragged=True))\n",
    "    \n",
    "    for lstm_units in lstm_units_per_layer[:-1]:\n",
    "        model.add(layers.LSTM(units=lstm_units, return_sequences=True, activation=activation))\n",
    "    \n",
    "    model.add(layers.LSTM(units=lstm_units_per_layer[-1], activation=activation))\n",
    "    \n",
    "    for n in neuron_count_per_hidden_layer:\n",
    "        model.add(layers.Dense(n, activation=activation))\n",
    "    \n",
    "    model.add(layers.Dense(output_count, activation=\"softmax\"))\n",
    "    \n",
    "    return model\n"
   ]
  },
  {
   "cell_type": "code",
   "execution_count": null,
   "metadata": {},
   "outputs": [],
   "source": [
    "class PositionalEmbedding(layers.Layer):\n",
    "    def __init__(self, sequence_length, output_dim, **kwargs):\n",
    "        super().__init__(**kwargs)\n",
    "        self.position_embeddings = layers.Embedding(\n",
    "            input_dim=sequence_length, output_dim=output_dim\n",
    "        )\n",
    "        self.sequence_length = sequence_length\n",
    "        self.output_dim = output_dim\n",
    "\n",
    "    def build(self, input_shape):\n",
    "        self.position_embeddings.build(input_shape)\n",
    "\n",
    "    def call(self, inputs):\n",
    "        # The inputs are of shape: `(batch_size, frames, num_features)`\n",
    "        inputs = keras.ops.cast(inputs, self.compute_dtype)\n",
    "        length = keras.ops.shape(inputs)[1]\n",
    "        positions = keras.ops.arange(start=0, stop=length, step=1)\n",
    "        embedded_positions = self.position_embeddings(positions)\n",
    "        return inputs + embedded_positions"
   ]
  },
  {
   "cell_type": "code",
   "execution_count": null,
   "metadata": {},
   "outputs": [],
   "source": [
    "class TransformerEncoder(layers.Layer):\n",
    "    def __init__(self, embed_dim, dense_dim, num_heads, **kwargs):\n",
    "        super().__init__(**kwargs)\n",
    "        self.embed_dim = embed_dim\n",
    "        self.dense_dim = dense_dim\n",
    "        self.num_heads = num_heads\n",
    "        self.attention = layers.MultiHeadAttention(\n",
    "            num_heads=num_heads, key_dim=embed_dim, dropout=0.3\n",
    "        )\n",
    "        self.dense_proj = keras.Sequential(\n",
    "            [\n",
    "                layers.Dense(dense_dim, activation=keras.activations.gelu),\n",
    "                layers.BatchNormalization(),\n",
    "                layers.Dense(embed_dim),\n",
    "                layers.BatchNormalization(),\n",
    "            ]\n",
    "        )\n",
    "        self.layernorm_1 = layers.LayerNormalization()\n",
    "        self.layernorm_2 = layers.LayerNormalization()\n",
    "\n",
    "    def call(self, inputs, mask=None):\n",
    "        attention_output = self.attention(inputs, inputs, attention_mask=mask)\n",
    "        proj_input = self.layernorm_1(inputs + attention_output)\n",
    "        proj_output = self.dense_proj(proj_input)\n",
    "        return self.layernorm_2(proj_input + proj_output)"
   ]
  },
  {
   "cell_type": "code",
   "execution_count": null,
   "metadata": {},
   "outputs": [],
   "source": [
    "def get_compiled_model(shape):\n",
    "    sequence_length = max_frames\n",
    "    embed_dim = input_shape[1]\n",
    "    dense_dim = 1\n",
    "    num_heads = 1\n",
    "    classes = output_count\n",
    "\n",
    "    inputs = keras.Input(shape=shape)\n",
    "    x = PositionalEmbedding(\n",
    "        sequence_length, embed_dim, name=\"frame_position_embedding\"\n",
    "    )(inputs)\n",
    "    x = TransformerEncoder(embed_dim, dense_dim, num_heads, name=\"transformer_layer\")(x)\n",
    "    x = layers.GlobalMaxPooling1D()(x)\n",
    "    x = layers.Dropout(0.5)(x)\n",
    "    outputs = layers.Dense(classes, activation=\"linear\")(x)\n",
    "    model = keras.Model(inputs, outputs)\n",
    "\n",
    "    model.compile(\n",
    "        optimizer=\"adam\",\n",
    "        loss=tf.keras.losses.cosine_similarity,\n",
    "        metrics=[\"accuracy\"],\n",
    "    )\n",
    "    return model\n"
   ]
  },
  {
   "cell_type": "code",
   "execution_count": null,
   "metadata": {},
   "outputs": [],
   "source": [
    "import keras\n",
    "print(keras.__version__)"
   ]
  },
  {
   "cell_type": "markdown",
   "metadata": {},
   "source": [
    "### Model creation"
   ]
  },
  {
   "cell_type": "code",
   "execution_count": null,
   "metadata": {},
   "outputs": [],
   "source": [
    "# model = build_rnn_gru(\n",
    "#     input_shape=input_shape,\n",
    "#     gru_units_per_layer=[128, 64, 32],\n",
    "#     output_count=word_number,\n",
    "#     neuron_count_per_hidden_layer=[],\n",
    "#     activation='tanh'\n",
    "# )\n",
    "\n",
    "# model.compile(optimizer=Adam(learning_rate=0.001), loss=\"categorical_crossentropy\", metrics=[\"accuracy\"])"
   ]
  },
  {
   "cell_type": "code",
   "execution_count": null,
   "metadata": {},
   "outputs": [],
   "source": [
    "# model = build_rnn_lstm(\n",
    "#     input_shape=input_shape,\n",
    "#     lstm_units_per_layer=[256, 256, 256],\n",
    "#     output_count=word_number,\n",
    "#     neuron_count_per_hidden_layer=[128, 64, 32]\n",
    "# )\n",
    "\n",
    "# model.compile(optimizer=Adam(learning_rate=0.001), loss=\"categorical_crossentropy\", metrics=[\"accuracy\"])"
   ]
  },
  {
   "cell_type": "code",
   "execution_count": null,
   "metadata": {},
   "outputs": [],
   "source": [
    "model = get_compiled_model(input_shape)"
   ]
  },
  {
   "cell_type": "code",
   "execution_count": null,
   "metadata": {},
   "outputs": [],
   "source": [
    "model.summary()"
   ]
  },
  {
   "cell_type": "code",
   "execution_count": null,
   "metadata": {},
   "outputs": [],
   "source": [
    "keras.utils.plot_model(model, \"multi_input_and_output_model.png\", show_shapes=True)"
   ]
  },
  {
   "cell_type": "markdown",
   "metadata": {},
   "source": [
    "## Model fitting"
   ]
  },
  {
   "cell_type": "code",
   "execution_count": null,
   "metadata": {},
   "outputs": [],
   "source": [
    "n_epochs = 100\n",
    "patience = 10\n",
    "\n",
    "filepath = \"wlasl_transformer.weights.h5\"\n",
    "checkpoint = keras.callbacks.ModelCheckpoint(\n",
    "    filepath, save_weights_only=True, save_best_only=True, verbose=1, monitor='val_accuracy',mode='max'\n",
    ")\n",
    "model.fit(\n",
    "    X_train_dataset,\n",
    "    validation_data=X_val_dataset,  \n",
    "    epochs=n_epochs,\n",
    "    batch_size=batch_size,\n",
    "    callbacks=[checkpoint],\n",
    ")\n",
    "model.load_weights(filepath)"
   ]
  },
  {
   "cell_type": "markdown",
   "metadata": {},
   "source": [
    "## Model predictions"
   ]
  },
  {
   "cell_type": "code",
   "execution_count": null,
   "metadata": {},
   "outputs": [],
   "source": [
    "results = model.evaluate(X_test_dataset)\n",
    "print(\"test loss, test acc:\", results)"
   ]
  },
  {
   "cell_type": "code",
   "execution_count": null,
   "metadata": {},
   "outputs": [],
   "source": [
    "Y_pred = model.predict(X_test_dataset)\n",
    "print(np.argmax(Y_pred, axis=1), \"\\n\", Y_test_labels)\n",
    "accuracy = np.mean(np.argmax(Y_pred, axis=1) == Y_test_labels)\n",
    "print(f\"Accuracy: {accuracy}\")"
   ]
  },
  {
   "cell_type": "code",
   "execution_count": null,
   "metadata": {},
   "outputs": [],
   "source": [
    "print(np.argmax(Y_pred, axis=1))\n",
    "print(Y_test_labels)"
   ]
  }
 ],
 "metadata": {
  "kernelspec": {
   "display_name": ".venv",
   "language": "python",
   "name": "python3"
  },
  "language_info": {
   "codemirror_mode": {
    "name": "ipython",
    "version": 3
   },
   "file_extension": ".py",
   "mimetype": "text/x-python",
   "name": "python",
   "nbconvert_exporter": "python",
   "pygments_lexer": "ipython3",
   "version": "3.10.13"
  }
 },
 "nbformat": 4,
 "nbformat_minor": 5
}
