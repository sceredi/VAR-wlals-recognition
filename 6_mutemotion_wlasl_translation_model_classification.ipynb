{
 "cells": [
  {
   "metadata": {},
   "cell_type": "markdown",
   "source": [
    "# Note\n",
    "Questo notebook è una modifica di quello proposto su kaggle [Notebook Kaggle](https://www.kaggle.com/code/abd0kamel/mutemotion-wlasl-translation-model/notebook), sono state eliminate le sezioni di codice che non risultavano utili per la dimostrazione di classificazione delle etichette del dataset WLASL utilizzando il modello proposto da Kamel.\n",
    "\n",
    "Le modifiche effettuate sono le seguenti:\n",
    "- numero di neuroni dell'ultimo layer del modello da 300 a 351;\n",
    "- funzione di attivazione dell'ultimo layer del modello da `linear` a `softmax`;\n",
    "- funzione di loss del modello da `cosine_similarity` a `categorical_crossentropy`;\n",
    "- `one-hot-encoding` delle etichette del dataset.\n"
   ],
   "id": "8a716e056ec6dbc4"
  },
  {
   "cell_type": "markdown",
   "id": "9131542c",
   "metadata": {
    "papermill": {
     "duration": 0.012363,
     "end_time": "2025-03-12T11:37:53.229518",
     "exception": false,
     "start_time": "2025-03-12T11:37:53.217155",
     "status": "completed"
    },
    "tags": []
   },
   "source": [
    "# **Introduction**\n",
    "\n",
    "<h3> This notebook aims to use MediaPipe landmarks detection as the starting point\n",
    "    \n",
    "<h3> for building an American Sign Language Translation Model\n",
    "            \n",
    "**<h3> Sections:**\n",
    "* [Importing Libraries](#Importing_Libraries)\n",
    "* [Data Preparation](#Data_Preparation)\n",
    "* [MediaPipe Implementation](#MediaPipe_Implementation)\n",
    "* [Visualizing Landmarks](#Visualizing_Landmarks)\n",
    "* [Data Encoding](#Data_Encoding)\n",
    "* [Label Filtering](#Label_Filtering)\n",
    "* [Data Loading](#Data_Loading)\n",
    "* [Data Augmentation](#Data_Augmentation)\n",
    "* [Data Preprocessing](#Data_Preprocessing)\n",
    "* [Label Encoding](#Label_Encoding)\n",
    "* [Models](#Models)\n",
    "    \n",
    "<h4> If you found this notebook helpful, an upvote would be appreciated!"
   ]
  },
  {
   "cell_type": "markdown",
   "id": "d91b0e82",
   "metadata": {
    "papermill": {
     "duration": 0.011146,
     "end_time": "2025-03-12T11:37:53.252496",
     "exception": false,
     "start_time": "2025-03-12T11:37:53.241350",
     "status": "completed"
    },
    "tags": []
   },
   "source": [
    "---"
   ]
  },
  {
   "cell_type": "markdown",
   "id": "8a2e0b0f",
   "metadata": {
    "papermill": {
     "duration": 0.01082,
     "end_time": "2025-03-12T11:37:53.274690",
     "exception": false,
     "start_time": "2025-03-12T11:37:53.263870",
     "status": "completed"
    },
    "tags": []
   },
   "source": [
    "<div id=\"Importing_Libraries\">\n",
    "    \n",
    "# **Importing Libraries** "
   ]
  },
  {
   "cell_type": "code",
   "id": "86a4da34",
   "metadata": {
    "execution": {
     "iopub.execute_input": "2025-03-12T11:37:53.299163Z",
     "iopub.status.busy": "2025-03-12T11:37:53.298862Z",
     "iopub.status.idle": "2025-03-12T11:38:00.812781Z",
     "shell.execute_reply": "2025-03-12T11:38:00.811593Z"
    },
    "papermill": {
     "duration": 7.528575,
     "end_time": "2025-03-12T11:38:00.814574",
     "exception": false,
     "start_time": "2025-03-12T11:37:53.285999",
     "status": "completed"
    },
    "scrolled": true,
    "tags": []
   },
   "source": [
    "!pip install -q mediapipe==0.10.7"
   ],
   "outputs": [],
   "execution_count": null
  },
  {
   "cell_type": "code",
   "id": "00f231ad",
   "metadata": {
    "_cell_guid": "b1076dfc-b9ad-4769-8c92-a6c4dae69d19",
    "_uuid": "8f2839f25d086af736a60e9eeb907d3b93b6e0e5",
    "execution": {
     "iopub.execute_input": "2025-03-12T11:38:00.840339Z",
     "iopub.status.busy": "2025-03-12T11:38:00.840023Z",
     "iopub.status.idle": "2025-03-12T11:38:16.175078Z",
     "shell.execute_reply": "2025-03-12T11:38:16.174209Z"
    },
    "papermill": {
     "duration": 15.350023,
     "end_time": "2025-03-12T11:38:16.176970",
     "exception": false,
     "start_time": "2025-03-12T11:38:00.826947",
     "status": "completed"
    },
    "tags": []
   },
   "source": [
    "import os\n",
    "import math\n",
    "import gc\n",
    "import json\n",
    "import shutil\n",
    "import numpy as np\n",
    "from tqdm import tqdm\n",
    "import tensorflow as tf\n",
    "import matplotlib.pyplot as plt\n",
    "from sklearn.preprocessing import LabelEncoder"
   ],
   "outputs": [],
   "execution_count": null
  },
  {
   "cell_type": "markdown",
   "id": "ce538e0e",
   "metadata": {
    "papermill": {
     "duration": 0.01201,
     "end_time": "2025-03-12T11:38:16.201848",
     "exception": false,
     "start_time": "2025-03-12T11:38:16.189838",
     "status": "completed"
    },
    "tags": []
   },
   "source": [
    "---"
   ]
  },
  {
   "cell_type": "markdown",
   "id": "c66c8658",
   "metadata": {
    "papermill": {
     "duration": 0.011746,
     "end_time": "2025-03-12T11:38:16.225667",
     "exception": false,
     "start_time": "2025-03-12T11:38:16.213921",
     "status": "completed"
    },
    "tags": []
   },
   "source": [
    "<div id=\"Data_Loading\">\n",
    "    \n",
    "# **Data Loading**"
   ]
  },
  {
   "cell_type": "code",
   "id": "3b30a459",
   "metadata": {
    "execution": {
     "iopub.execute_input": "2025-03-12T11:38:16.251147Z",
     "iopub.status.busy": "2025-03-12T11:38:16.250552Z",
     "iopub.status.idle": "2025-03-12T11:38:16.456442Z",
     "shell.execute_reply": "2025-03-12T11:38:16.455675Z"
    },
    "papermill": {
     "duration": 0.220361,
     "end_time": "2025-03-12T11:38:16.458076",
     "exception": false,
     "start_time": "2025-03-12T11:38:16.237715",
     "status": "completed"
    },
    "tags": []
   },
   "source": [
    "landmarks_dict = np.load('/kaggle/input/mutemotion-output/landmarks_V3.npz', allow_pickle=True)"
   ],
   "outputs": [],
   "execution_count": null
  },
  {
   "cell_type": "code",
   "id": "c0f70b43",
   "metadata": {
    "execution": {
     "iopub.execute_input": "2025-03-12T11:38:16.483136Z",
     "iopub.status.busy": "2025-03-12T11:38:16.482841Z",
     "iopub.status.idle": "2025-03-12T11:38:16.530012Z",
     "shell.execute_reply": "2025-03-12T11:38:16.529208Z"
    },
    "papermill": {
     "duration": 0.061346,
     "end_time": "2025-03-12T11:38:16.531681",
     "exception": false,
     "start_time": "2025-03-12T11:38:16.470335",
     "status": "completed"
    },
    "tags": []
   },
   "source": [
    "labels_dict = np.load('/kaggle/input/mutemotion-output/labels.npz', allow_pickle=True)"
   ],
   "outputs": [],
   "execution_count": null
  },
  {
   "cell_type": "code",
   "id": "0224ec0c",
   "metadata": {
    "execution": {
     "iopub.execute_input": "2025-03-12T11:38:16.556625Z",
     "iopub.status.busy": "2025-03-12T11:38:16.556269Z",
     "iopub.status.idle": "2025-03-12T11:38:16.644152Z",
     "shell.execute_reply": "2025-03-12T11:38:16.643142Z"
    },
    "papermill": {
     "duration": 0.102374,
     "end_time": "2025-03-12T11:38:16.645999",
     "exception": false,
     "start_time": "2025-03-12T11:38:16.543625",
     "status": "completed"
    },
    "tags": []
   },
   "source": [
    "with open('/kaggle/input/mutemotion-output/WLASL_parsed_data.json', 'r') as json_file:\n",
    "    data = json.load(json_file)"
   ],
   "outputs": [],
   "execution_count": null
  },
  {
   "cell_type": "markdown",
   "id": "4c16e531",
   "metadata": {
    "papermill": {
     "duration": 0.011738,
     "end_time": "2025-03-12T11:38:16.670338",
     "exception": false,
     "start_time": "2025-03-12T11:38:16.658600",
     "status": "completed"
    },
    "tags": []
   },
   "source": [
    "<h3> Filter Landmarks (Only for V3)"
   ]
  },
  {
   "cell_type": "code",
   "id": "d88b7014",
   "metadata": {
    "execution": {
     "iopub.execute_input": "2025-03-12T11:38:16.695619Z",
     "iopub.status.busy": "2025-03-12T11:38:16.695241Z",
     "iopub.status.idle": "2025-03-12T11:38:16.702501Z",
     "shell.execute_reply": "2025-03-12T11:38:16.701479Z"
    },
    "papermill": {
     "duration": 0.021544,
     "end_time": "2025-03-12T11:38:16.704089",
     "exception": false,
     "start_time": "2025-03-12T11:38:16.682545",
     "status": "completed"
    },
    "tags": []
   },
   "source": [
    "filtered_hand = list(range(21))\n",
    "\n",
    "filtered_pose = [11, 12, 13, 14, 15, 16]\n",
    "\n",
    "filtered_face = [0, 4, 7, 8, 10, 13, 14, 17, 21, 33, 37, 39, 40, 46, 52, 53, 54, 55, 58,\n",
    "                 61, 63, 65, 66, 67, 70, 78, 80, 81, 82, 84, 87, 88, 91, 93, 95, 103, 105,\n",
    "                 107, 109, 127, 132, 133, 136, 144, 145, 146, 148, 149, 150, 152, 153, 154,\n",
    "                 155, 157, 158, 159, 160, 161, 162, 163, 172, 173, 176, 178, 181, 185, 191,\n",
    "                 234, 246, 249, 251, 263, 267, 269, 270, 276, 282, 283, 284, 285, 288, 291,\n",
    "                 293, 295, 296, 297, 300, 308, 310, 311, 312, 314, 317, 318, 321, 323, 324,\n",
    "                 332, 334, 336, 338, 356, 361, 362, 365, 373, 374, 375, 377, 378, 379, 380,\n",
    "                 381, 382, 384, 385, 386, 387, 388, 389, 390, 397, 398, 400, 402, 405, 409,\n",
    "                 415, 454, 466, 468, 473]\n",
    "\n",
    "HAND_NUM = len(filtered_hand)\n",
    "POSE_NUM = len(filtered_pose)\n",
    "FACE_NUM = len(filtered_face)"
   ],
   "outputs": [],
   "execution_count": null
  },
  {
   "cell_type": "code",
   "id": "59068115",
   "metadata": {
    "execution": {
     "iopub.execute_input": "2025-03-12T11:38:16.731801Z",
     "iopub.status.busy": "2025-03-12T11:38:16.731325Z",
     "iopub.status.idle": "2025-03-12T11:38:16.737471Z",
     "shell.execute_reply": "2025-03-12T11:38:16.736535Z"
    },
    "papermill": {
     "duration": 0.022429,
     "end_time": "2025-03-12T11:38:16.739011",
     "exception": false,
     "start_time": "2025-03-12T11:38:16.716582",
     "status": "completed"
    },
    "tags": []
   },
   "source": [
    "landmarks = (\n",
    "    [x for x in filtered_hand] +\n",
    "    [x + HAND_NUM for x in filtered_hand] +\n",
    "    [x + HAND_NUM * 2 for x in filtered_pose] +\n",
    "    [x + HAND_NUM * 2 + POSE_NUM for x in filtered_face]\n",
    ")\n",
    "\n",
    "print(landmarks)\n",
    "print(f'\\nTotal Number: {len(landmarks)}')"
   ],
   "outputs": [],
   "execution_count": null
  },
  {
   "cell_type": "markdown",
   "id": "70c708a1",
   "metadata": {
    "papermill": {
     "duration": 0.012083,
     "end_time": "2025-03-12T11:38:16.763580",
     "exception": false,
     "start_time": "2025-03-12T11:38:16.751497",
     "status": "completed"
    },
    "tags": []
   },
   "source": [
    "<h3> Filter Data Source"
   ]
  },
  {
   "cell_type": "code",
   "id": "3b6f9289",
   "metadata": {
    "execution": {
     "iopub.execute_input": "2025-03-12T11:38:16.789812Z",
     "iopub.status.busy": "2025-03-12T11:38:16.789472Z",
     "iopub.status.idle": "2025-03-12T11:38:16.793226Z",
     "shell.execute_reply": "2025-03-12T11:38:16.792202Z"
    },
    "papermill": {
     "duration": 0.018691,
     "end_time": "2025-03-12T11:38:16.794874",
     "exception": false,
     "start_time": "2025-03-12T11:38:16.776183",
     "status": "completed"
    },
    "tags": []
   },
   "source": [
    "# Only from the wlasl-processed dataset\n",
    "# keys = [k for k in landmarks_dict.keys() if 'wlasl-processed' in data[int(k)]['video_path']]\n",
    "\n",
    "# Only from the wlasl2000-resized dataset\n",
    "# keys = [k for k in landmarks_dict.keys() if 'wlasl2000-resized' in data[int(k)]['video_path']]"
   ],
   "outputs": [],
   "execution_count": null
  },
  {
   "cell_type": "markdown",
   "id": "65f01be4",
   "metadata": {
    "papermill": {
     "duration": 0.011898,
     "end_time": "2025-03-12T11:38:16.819653",
     "exception": false,
     "start_time": "2025-03-12T11:38:16.807755",
     "status": "completed"
    },
    "tags": []
   },
   "source": [
    "<h3> Filter Labels"
   ]
  },
  {
   "cell_type": "code",
   "id": "003bf17e",
   "metadata": {
    "execution": {
     "iopub.execute_input": "2025-03-12T11:38:16.845502Z",
     "iopub.status.busy": "2025-03-12T11:38:16.845112Z",
     "iopub.status.idle": "2025-03-12T11:38:16.851327Z",
     "shell.execute_reply": "2025-03-12T11:38:16.850605Z"
    },
    "papermill": {
     "duration": 0.020738,
     "end_time": "2025-03-12T11:38:16.852786",
     "exception": false,
     "start_time": "2025-03-12T11:38:16.832048",
     "status": "completed"
    },
    "tags": []
   },
   "source": [
    "labels = []\n",
    "with open('/kaggle/input/mutemotion-output/filtered_labels.txt', 'r') as file:\n",
    "    labels = file.read().splitlines()"
   ],
   "outputs": [],
   "execution_count": null
  },
  {
   "cell_type": "code",
   "id": "e7d5c940",
   "metadata": {
    "execution": {
     "iopub.execute_input": "2025-03-12T11:38:16.878676Z",
     "iopub.status.busy": "2025-03-12T11:38:16.878311Z",
     "iopub.status.idle": "2025-03-12T11:38:16.884453Z",
     "shell.execute_reply": "2025-03-12T11:38:16.883607Z"
    },
    "papermill": {
     "duration": 0.020505,
     "end_time": "2025-03-12T11:38:16.885983",
     "exception": false,
     "start_time": "2025-03-12T11:38:16.865478",
     "status": "completed"
    },
    "tags": []
   },
   "source": [
    "len(labels)"
   ],
   "outputs": [],
   "execution_count": null
  },
  {
   "cell_type": "markdown",
   "id": "43aa70f8",
   "metadata": {
    "papermill": {
     "duration": 0.01174,
     "end_time": "2025-03-12T11:38:16.910331",
     "exception": false,
     "start_time": "2025-03-12T11:38:16.898591",
     "status": "completed"
    },
    "tags": []
   },
   "source": [
    "<h3> Loading Function"
   ]
  },
  {
   "cell_type": "code",
   "id": "6ab3fc29",
   "metadata": {
    "execution": {
     "iopub.execute_input": "2025-03-12T11:38:16.935735Z",
     "iopub.status.busy": "2025-03-12T11:38:16.935308Z",
     "iopub.status.idle": "2025-03-12T11:38:16.945011Z",
     "shell.execute_reply": "2025-03-12T11:38:16.944029Z"
    },
    "papermill": {
     "duration": 0.024034,
     "end_time": "2025-03-12T11:38:16.946653",
     "exception": false,
     "start_time": "2025-03-12T11:38:16.922619",
     "status": "completed"
    },
    "tags": []
   },
   "source": [
    "def load_data(split, labels=None, max_labels=None, max_samples=None, landmarks=None, keys=None):\n",
    "\n",
    "    if landmarks is None:\n",
    "        landmarks = list(range(landmarks_dict['0'].shape[1]))\n",
    "\n",
    "    if keys is None:\n",
    "        keys = [k for k in landmarks_dict.keys()]\n",
    "\n",
    "    if labels is not None:\n",
    "        X = [landmarks_dict[k][:, landmarks, :] for k in keys\n",
    "             if data[int(k)]['split'] == split and data[int(k)]['gloss'] in labels]\n",
    "        Y = [data[int(k)]['gloss'] for k in keys\n",
    "             if data[int(k)]['split'] == split and data[int(k)]['gloss'] in labels]\n",
    "\n",
    "    elif max_samples is not None:\n",
    "        X = [landmarks_dict[k][:, landmarks, :] for k in keys\n",
    "             if data[int(k)]['split'] == split][:max_samples]\n",
    "        Y = [data[int(k)]['gloss'] for k in keys\n",
    "             if data[int(k)]['split'] == split][:max_samples]\n",
    "\n",
    "    elif max_labels is not None:\n",
    "        label_counts = {}\n",
    "        for k in keys:\n",
    "            label = data[int(k)]['gloss']\n",
    "            label_counts[label] = label_counts.get(label, 0) + 1\n",
    "\n",
    "        top_labels = sorted(label_counts, key=label_counts.get, reverse=True)[:max_labels]\n",
    "        X = [landmarks_dict[k][:, landmarks, :] for k in keys\n",
    "             if data[int(k)]['gloss'] in top_labels and data[int(k)]['split'] == split]\n",
    "        Y = [data[int(k)]['gloss'] for k in keys\n",
    "             if data[int(k)]['gloss'] in top_labels and data[int(k)]['split'] == split]\n",
    "\n",
    "    else:\n",
    "        X = [landmarks_dict[k][:, landmarks, :] for k in keys\n",
    "             if data[int(k)]['split'] == split]\n",
    "        Y = [data[int(k)]['gloss'] for k in keys\n",
    "             if data[int(k)]['split'] == split]\n",
    "\n",
    "    return X, Y"
   ],
   "outputs": [],
   "execution_count": null
  },
  {
   "cell_type": "code",
   "id": "fdd9a712",
   "metadata": {
    "execution": {
     "iopub.execute_input": "2025-03-12T11:38:16.972535Z",
     "iopub.status.busy": "2025-03-12T11:38:16.972144Z",
     "iopub.status.idle": "2025-03-12T11:39:18.190679Z",
     "shell.execute_reply": "2025-03-12T11:39:18.189814Z"
    },
    "papermill": {
     "duration": 61.233468,
     "end_time": "2025-03-12T11:39:18.192547",
     "exception": false,
     "start_time": "2025-03-12T11:38:16.959079",
     "status": "completed"
    },
    "tags": []
   },
   "source": [
    "X_train, Y_train = load_data('train', landmarks=landmarks, labels=labels)\n",
    "X_val, Y_val = load_data('val', landmarks=landmarks, labels=labels)\n",
    "X_test, Y_test = load_data('test', landmarks=landmarks, labels=labels)"
   ],
   "outputs": [],
   "execution_count": null
  },
  {
   "cell_type": "code",
   "id": "62b74201",
   "metadata": {
    "execution": {
     "iopub.execute_input": "2025-03-12T11:39:18.218876Z",
     "iopub.status.busy": "2025-03-12T11:39:18.218555Z",
     "iopub.status.idle": "2025-03-12T11:39:18.224061Z",
     "shell.execute_reply": "2025-03-12T11:39:18.223121Z"
    },
    "papermill": {
     "duration": 0.02012,
     "end_time": "2025-03-12T11:39:18.225581",
     "exception": false,
     "start_time": "2025-03-12T11:39:18.205461",
     "status": "completed"
    },
    "tags": []
   },
   "source": [
    "len(X_train), len(X_val), len(X_test)"
   ],
   "outputs": [],
   "execution_count": null
  },
  {
   "cell_type": "code",
   "id": "80e2bd70",
   "metadata": {
    "execution": {
     "iopub.execute_input": "2025-03-12T11:39:18.252008Z",
     "iopub.status.busy": "2025-03-12T11:39:18.251704Z",
     "iopub.status.idle": "2025-03-12T11:39:18.257073Z",
     "shell.execute_reply": "2025-03-12T11:39:18.256075Z"
    },
    "papermill": {
     "duration": 0.020332,
     "end_time": "2025-03-12T11:39:18.258502",
     "exception": false,
     "start_time": "2025-03-12T11:39:18.238170",
     "status": "completed"
    },
    "tags": []
   },
   "source": [
    "X_train[0].shape"
   ],
   "outputs": [],
   "execution_count": null
  },
  {
   "cell_type": "code",
   "id": "f70cb3a0",
   "metadata": {
    "execution": {
     "iopub.execute_input": "2025-03-12T11:39:18.284827Z",
     "iopub.status.busy": "2025-03-12T11:39:18.284372Z",
     "iopub.status.idle": "2025-03-12T11:39:18.292532Z",
     "shell.execute_reply": "2025-03-12T11:39:18.291619Z"
    },
    "papermill": {
     "duration": 0.023112,
     "end_time": "2025-03-12T11:39:18.294021",
     "exception": false,
     "start_time": "2025-03-12T11:39:18.270909",
     "status": "completed"
    },
    "tags": []
   },
   "source": [
    "len(np.unique(Y_train)), len(np.unique(Y_val)), len(np.unique(Y_test))"
   ],
   "outputs": [],
   "execution_count": null
  },
  {
   "cell_type": "code",
   "id": "d870d1c2",
   "metadata": {
    "execution": {
     "iopub.execute_input": "2025-03-12T11:39:18.319727Z",
     "iopub.status.busy": "2025-03-12T11:39:18.319342Z",
     "iopub.status.idle": "2025-03-12T11:39:18.325628Z",
     "shell.execute_reply": "2025-03-12T11:39:18.324762Z"
    },
    "papermill": {
     "duration": 0.020677,
     "end_time": "2025-03-12T11:39:18.327116",
     "exception": false,
     "start_time": "2025-03-12T11:39:18.306439",
     "status": "completed"
    },
    "tags": []
   },
   "source": [
    "num_classes = len(np.unique(Y_train))\n",
    "print(num_classes)"
   ],
   "outputs": [],
   "execution_count": null
  },
  {
   "cell_type": "code",
   "id": "62029349",
   "metadata": {
    "execution": {
     "iopub.execute_input": "2025-03-12T11:39:18.354004Z",
     "iopub.status.busy": "2025-03-12T11:39:18.353695Z",
     "iopub.status.idle": "2025-03-12T11:39:18.365902Z",
     "shell.execute_reply": "2025-03-12T11:39:18.365005Z"
    },
    "papermill": {
     "duration": 0.027239,
     "end_time": "2025-03-12T11:39:18.367445",
     "exception": false,
     "start_time": "2025-03-12T11:39:18.340206",
     "status": "completed"
    },
    "tags": []
   },
   "source": [
    "np.all(np.in1d(np.unique(Y_val), np.unique(Y_train))),\\\n",
    "np.all(np.in1d(np.unique(Y_test), np.unique(Y_train)))"
   ],
   "outputs": [],
   "execution_count": null
  },
  {
   "cell_type": "code",
   "id": "c108d9b7",
   "metadata": {
    "execution": {
     "iopub.execute_input": "2025-03-12T11:39:18.393060Z",
     "iopub.status.busy": "2025-03-12T11:39:18.392771Z",
     "iopub.status.idle": "2025-03-12T11:39:18.617748Z",
     "shell.execute_reply": "2025-03-12T11:39:18.616947Z"
    },
    "papermill": {
     "duration": 0.239543,
     "end_time": "2025-03-12T11:39:18.619245",
     "exception": false,
     "start_time": "2025-03-12T11:39:18.379702",
     "status": "completed"
    },
    "tags": []
   },
   "source": [
    "# free space\n",
    "del landmarks_dict, data\n",
    "gc.collect()"
   ],
   "outputs": [],
   "execution_count": null
  },
  {
   "cell_type": "markdown",
   "id": "93c7883a",
   "metadata": {
    "papermill": {
     "duration": 0.01241,
     "end_time": "2025-03-12T11:39:18.644814",
     "exception": false,
     "start_time": "2025-03-12T11:39:18.632404",
     "status": "completed"
    },
    "tags": []
   },
   "source": [
    "---"
   ]
  },
  {
   "cell_type": "markdown",
   "id": "4d9efc36",
   "metadata": {
    "papermill": {
     "duration": 0.012384,
     "end_time": "2025-03-12T11:39:18.669607",
     "exception": false,
     "start_time": "2025-03-12T11:39:18.657223",
     "status": "completed"
    },
    "tags": []
   },
   "source": [
    "<div id=\"Data_Augmentation\">\n",
    "    \n",
    "# **Data Augmentation**"
   ]
  },
  {
   "cell_type": "markdown",
   "id": "0ac01efc",
   "metadata": {
    "papermill": {
     "duration": 0.012273,
     "end_time": "2025-03-12T11:39:18.694210",
     "exception": false,
     "start_time": "2025-03-12T11:39:18.681937",
     "status": "completed"
    },
    "tags": []
   },
   "source": [
    "<h3> Rotation Augmentations"
   ]
  },
  {
   "cell_type": "code",
   "id": "d819a953",
   "metadata": {
    "execution": {
     "iopub.execute_input": "2025-03-12T11:39:18.719360Z",
     "iopub.status.busy": "2025-03-12T11:39:18.719047Z",
     "iopub.status.idle": "2025-03-12T11:39:18.728604Z",
     "shell.execute_reply": "2025-03-12T11:39:18.727795Z"
    },
    "papermill": {
     "duration": 0.023632,
     "end_time": "2025-03-12T11:39:18.729998",
     "exception": false,
     "start_time": "2025-03-12T11:39:18.706366",
     "status": "completed"
    },
    "tags": []
   },
   "source": [
    "def rotate(data, rotation_matrix):\n",
    "    frames, landmarks, _ = data.shape\n",
    "    center = np.array([0.5, 0.5, 0])\n",
    "    non_zero = np.argwhere(np.any(data[:, :, :2] != 0, axis=2))\n",
    "    data = data.reshape(-1, 3)\n",
    "    data[non_zero] -= center\n",
    "    data[non_zero] = np.dot(data[non_zero], rotation_matrix.T)\n",
    "    data[non_zero] += center\n",
    "    data = data.reshape(frames, landmarks, 3)\n",
    "    out_of_range = np.any((data[:, :, :2] < 0) | (data[:, :, :2] > 1), axis=2)\n",
    "    data[out_of_range] = 0\n",
    "    return data\n",
    "\n",
    "def rotate_z(data):\n",
    "    angle = np.random.choice([np.random.uniform(-30, -10),\n",
    "                              np.random.uniform(10, 30)])\n",
    "    theta = np.radians(angle)\n",
    "    rotation_matrix = np.array([\n",
    "        [np.cos(theta), -np.sin(theta), 0],\n",
    "        [np.sin(theta), np.cos(theta), 0],\n",
    "        [0, 0, 1]\n",
    "    ])\n",
    "    return rotate(data, rotation_matrix)\n",
    "\n",
    "def rotate_y(data):\n",
    "    angle = np.random.choice([np.random.uniform(-30, -10),\n",
    "                              np.random.uniform(10, 30)])\n",
    "    theta = np.radians(angle)\n",
    "    rotation_matrix = np.array([\n",
    "        [np.cos(theta), 0, np.sin(theta)],\n",
    "        [0, 1, 0],\n",
    "        [-np.sin(theta), 0, np.cos(theta)]\n",
    "    ])\n",
    "    return rotate(data, rotation_matrix)\n",
    "\n",
    "def rotate_x(data):\n",
    "    angle = np.random.choice([np.random.uniform(-30, -10),\n",
    "                              np.random.uniform(10, 30)])\n",
    "    theta = np.radians(angle)\n",
    "    rotation_matrix = np.array([\n",
    "        [1, 0, 0],\n",
    "        [0, np.cos(theta), -np.sin(theta)],\n",
    "        [0, np.sin(theta), np.cos(theta)]\n",
    "    ])\n",
    "    return rotate(data, rotation_matrix)"
   ],
   "outputs": [],
   "execution_count": null
  },
  {
   "cell_type": "markdown",
   "id": "33217193",
   "metadata": {
    "papermill": {
     "duration": 0.012007,
     "end_time": "2025-03-12T11:39:18.754357",
     "exception": false,
     "start_time": "2025-03-12T11:39:18.742350",
     "status": "completed"
    },
    "tags": []
   },
   "source": [
    "<h3> Other Augmentations"
   ]
  },
  {
   "cell_type": "code",
   "id": "96adfad0",
   "metadata": {
    "execution": {
     "iopub.execute_input": "2025-03-12T11:39:18.781753Z",
     "iopub.status.busy": "2025-03-12T11:39:18.781333Z",
     "iopub.status.idle": "2025-03-12T11:39:18.791142Z",
     "shell.execute_reply": "2025-03-12T11:39:18.790186Z"
    },
    "papermill": {
     "duration": 0.025531,
     "end_time": "2025-03-12T11:39:18.792812",
     "exception": false,
     "start_time": "2025-03-12T11:39:18.767281",
     "status": "completed"
    },
    "tags": []
   },
   "source": [
    "def zoom(data):\n",
    "    factor = np.random.uniform(0.8, 1.2)\n",
    "    center = np.array([0.5, 0.5])\n",
    "    non_zero = np.argwhere(np.any(data[:, :, :2] != 0, axis=2))\n",
    "    data[non_zero[:, 0], non_zero[:, 1], :2] = (\n",
    "        (data[non_zero[:, 0], non_zero[:, 1], :2] - center) * factor + center\n",
    "    )\n",
    "    out_of_range = np.any((data[:, :, :2] < 0) | (data[:, :, :2] > 1), axis=2)\n",
    "    data[out_of_range] = 0\n",
    "    return data\n",
    "\n",
    "def shift(data):\n",
    "    x_shift = np.random.uniform(-0.2, 0.2)\n",
    "    y_shift = np.random.uniform(-0.2, 0.2)\n",
    "    non_zero = np.argwhere(np.any(data[:, :, :2] != 0, axis=2))\n",
    "    data[non_zero[:, 0], non_zero[:, 1], 0] += x_shift\n",
    "    data[non_zero[:, 0], non_zero[:, 1], 1] += y_shift\n",
    "    out_of_range = np.any((data[:, :, :2] < 0) | (data[:, :, :2] > 1), axis=2)\n",
    "    data[out_of_range] = 0\n",
    "    return data\n",
    "\n",
    "def mask(data):\n",
    "    frames, landmarks, _ = data.shape\n",
    "    num_hands = int(0.3 * 42)\n",
    "    num_rest = int(0.6 * (landmarks - 42))\n",
    "\n",
    "    mask = np.zeros(landmarks, dtype=bool)\n",
    "    indices = np.concatenate([\n",
    "        np.random.choice(42, num_hands, replace=False),\n",
    "        np.random.choice(landmarks - 42, num_rest, replace=False) + 42\n",
    "    ])\n",
    "    mask[indices] = True\n",
    "    data[:, mask] = 0\n",
    "    return data\n",
    "\n",
    "def hflip(data):\n",
    "    data[:, :, 0] = 1 - data[:, :, 0]\n",
    "    return data\n",
    "\n",
    "def speedup(data):\n",
    "    return data[::2]"
   ],
   "outputs": [],
   "execution_count": null
  },
  {
   "cell_type": "markdown",
   "id": "d9b30168",
   "metadata": {
    "papermill": {
     "duration": 0.013189,
     "end_time": "2025-03-12T11:39:18.819803",
     "exception": false,
     "start_time": "2025-03-12T11:39:18.806614",
     "status": "completed"
    },
    "tags": []
   },
   "source": [
    "<h3> Apply Augmentations"
   ]
  },
  {
   "cell_type": "code",
   "id": "52227743",
   "metadata": {
    "execution": {
     "iopub.execute_input": "2025-03-12T11:39:18.902315Z",
     "iopub.status.busy": "2025-03-12T11:39:18.901969Z",
     "iopub.status.idle": "2025-03-12T11:39:18.906890Z",
     "shell.execute_reply": "2025-03-12T11:39:18.906000Z"
    },
    "papermill": {
     "duration": 0.075486,
     "end_time": "2025-03-12T11:39:18.908351",
     "exception": false,
     "start_time": "2025-03-12T11:39:18.832865",
     "status": "completed"
    },
    "tags": []
   },
   "source": [
    "def apply_augmentations(data):\n",
    "    aug_functions = [rotate_x, rotate_y, rotate_z, zoom, shift, mask, hflip, speedup]\n",
    "    np.random.shuffle(aug_functions)\n",
    "    counter = 0\n",
    "    for fun in aug_functions:\n",
    "        if np.random.rand() < 0.5:\n",
    "            data = fun(data)\n",
    "            counter += 1\n",
    "\n",
    "    if counter == 0:\n",
    "        data = apply_augmentations(data)\n",
    "\n",
    "    return data"
   ],
   "outputs": [],
   "execution_count": null
  },
  {
   "cell_type": "code",
   "id": "7b821f09",
   "metadata": {
    "execution": {
     "iopub.execute_input": "2025-03-12T11:39:18.935601Z",
     "iopub.status.busy": "2025-03-12T11:39:18.935250Z",
     "iopub.status.idle": "2025-03-12T11:39:18.940996Z",
     "shell.execute_reply": "2025-03-12T11:39:18.940045Z"
    },
    "papermill": {
     "duration": 0.020796,
     "end_time": "2025-03-12T11:39:18.942507",
     "exception": false,
     "start_time": "2025-03-12T11:39:18.921711",
     "status": "completed"
    },
    "tags": []
   },
   "source": [
    "def augment(X, Y, num=None):\n",
    "    X_aug = X.copy()\n",
    "    Y_aug = Y.copy()\n",
    "\n",
    "    if num == None:\n",
    "        for i in tqdm(range(len(Y)), ncols=100):\n",
    "            num_aug = np.random.choice([1, 2, 3])\n",
    "            for n in range(num_aug):\n",
    "                X_aug.append(apply_augmentations(X[i].copy()))\n",
    "                Y_aug.append(Y[i])\n",
    "    elif num > 0:\n",
    "        for i in tqdm(range(len(Y)), ncols=100):\n",
    "            for n in range(num):\n",
    "                X_aug.append(apply_augmentations(X[i].copy()))\n",
    "                Y_aug.append(Y[i])\n",
    "\n",
    "    return X_aug, Y_aug"
   ],
   "outputs": [],
   "execution_count": null
  },
  {
   "cell_type": "code",
   "id": "4c97eda2",
   "metadata": {
    "execution": {
     "iopub.execute_input": "2025-03-12T11:39:18.969289Z",
     "iopub.status.busy": "2025-03-12T11:39:18.968983Z",
     "iopub.status.idle": "2025-03-12T11:39:50.338138Z",
     "shell.execute_reply": "2025-03-12T11:39:50.337012Z"
    },
    "papermill": {
     "duration": 31.384558,
     "end_time": "2025-03-12T11:39:50.340007",
     "exception": false,
     "start_time": "2025-03-12T11:39:18.955449",
     "status": "completed"
    },
    "tags": []
   },
   "source": [
    "X_train, Y_train = augment(X_train, Y_train, num=1)"
   ],
   "outputs": [],
   "execution_count": null
  },
  {
   "cell_type": "code",
   "id": "ddddb51e",
   "metadata": {
    "execution": {
     "iopub.execute_input": "2025-03-12T11:39:50.397599Z",
     "iopub.status.busy": "2025-03-12T11:39:50.397229Z",
     "iopub.status.idle": "2025-03-12T11:39:50.403057Z",
     "shell.execute_reply": "2025-03-12T11:39:50.402105Z"
    },
    "papermill": {
     "duration": 0.034762,
     "end_time": "2025-03-12T11:39:50.404459",
     "exception": false,
     "start_time": "2025-03-12T11:39:50.369697",
     "status": "completed"
    },
    "tags": []
   },
   "source": [
    "len(X_train), len(X_train[0]), len(X_train[0][0]), len(X_train[0][0][0])"
   ],
   "outputs": [],
   "execution_count": null
  },
  {
   "cell_type": "code",
   "id": "d7a6010a",
   "metadata": {
    "execution": {
     "iopub.execute_input": "2025-03-12T11:39:50.457809Z",
     "iopub.status.busy": "2025-03-12T11:39:50.457469Z",
     "iopub.status.idle": "2025-03-12T11:39:50.675823Z",
     "shell.execute_reply": "2025-03-12T11:39:50.674969Z"
    },
    "papermill": {
     "duration": 0.246491,
     "end_time": "2025-03-12T11:39:50.677191",
     "exception": false,
     "start_time": "2025-03-12T11:39:50.430700",
     "status": "completed"
    },
    "tags": []
   },
   "source": [
    "# free space\n",
    "gc.collect()"
   ],
   "outputs": [],
   "execution_count": null
  },
  {
   "cell_type": "markdown",
   "id": "426a70d9",
   "metadata": {
    "papermill": {
     "duration": 0.027001,
     "end_time": "2025-03-12T11:39:50.731903",
     "exception": false,
     "start_time": "2025-03-12T11:39:50.704902",
     "status": "completed"
    },
    "tags": []
   },
   "source": [
    "<h3> Data Permutation"
   ]
  },
  {
   "cell_type": "code",
   "id": "d99a807d",
   "metadata": {
    "execution": {
     "iopub.execute_input": "2025-03-12T11:39:50.785895Z",
     "iopub.status.busy": "2025-03-12T11:39:50.785510Z",
     "iopub.status.idle": "2025-03-12T11:39:50.794662Z",
     "shell.execute_reply": "2025-03-12T11:39:50.793675Z"
    },
    "papermill": {
     "duration": 0.037208,
     "end_time": "2025-03-12T11:39:50.796034",
     "exception": false,
     "start_time": "2025-03-12T11:39:50.758826",
     "status": "completed"
    },
    "tags": []
   },
   "source": [
    "permutation_train = list(range(len(Y_train)))\n",
    "np.random.shuffle(permutation_train)\n",
    "X_train = [X_train[i] for i in permutation_train]\n",
    "Y_train = [Y_train[i] for i in permutation_train]\n",
    "\n",
    "permutation_val = list(range(len(Y_val)))\n",
    "np.random.shuffle(permutation_val)\n",
    "X_val = [X_val[i] for i in permutation_val]\n",
    "Y_val = [Y_val[i] for i in permutation_val]\n",
    "\n",
    "permutation_test = list(range(len(Y_test)))\n",
    "np.random.shuffle(permutation_test)\n",
    "X_test = [X_test[i] for i in permutation_test]\n",
    "Y_test = [Y_test[i] for i in permutation_test]"
   ],
   "outputs": [],
   "execution_count": null
  },
  {
   "cell_type": "markdown",
   "id": "34118ed3",
   "metadata": {
    "papermill": {
     "duration": 0.025734,
     "end_time": "2025-03-12T11:39:50.848078",
     "exception": false,
     "start_time": "2025-03-12T11:39:50.822344",
     "status": "completed"
    },
    "tags": []
   },
   "source": [
    "---"
   ]
  },
  {
   "cell_type": "markdown",
   "id": "9671165c",
   "metadata": {
    "papermill": {
     "duration": 0.025886,
     "end_time": "2025-03-12T11:39:50.900412",
     "exception": false,
     "start_time": "2025-03-12T11:39:50.874526",
     "status": "completed"
    },
    "tags": []
   },
   "source": [
    "<div id=\"Data_Preprocessing\">\n",
    "    \n",
    "# **Data Preprocessing**"
   ]
  },
  {
   "cell_type": "markdown",
   "id": "c35c4187",
   "metadata": {
    "papermill": {
     "duration": 0.025696,
     "end_time": "2025-03-12T11:39:50.952158",
     "exception": false,
     "start_time": "2025-03-12T11:39:50.926462",
     "status": "completed"
    },
    "tags": []
   },
   "source": [
    "<h3>\n",
    "    \n",
    "**Method 1:** Sequencing"
   ]
  },
  {
   "cell_type": "code",
   "id": "aed51c69",
   "metadata": {
    "execution": {
     "iopub.execute_input": "2025-03-12T11:39:51.006922Z",
     "iopub.status.busy": "2025-03-12T11:39:51.006583Z",
     "iopub.status.idle": "2025-03-12T11:39:51.013121Z",
     "shell.execute_reply": "2025-03-12T11:39:51.012161Z"
    },
    "papermill": {
     "duration": 0.037366,
     "end_time": "2025-03-12T11:39:51.014700",
     "exception": false,
     "start_time": "2025-03-12T11:39:50.977334",
     "status": "completed"
    },
    "tags": []
   },
   "source": [
    "def sequences(X, Y, length=30, step=1, pad=0):\n",
    "    X_sequences = []\n",
    "    Y_sequences = []\n",
    "\n",
    "    for inputs, label in zip(X, Y, strict=False):\n",
    "        num = inputs.shape[0]\n",
    "\n",
    "        if num < length:\n",
    "            padding = length - num\n",
    "            inputs = np.pad(\n",
    "            inputs, ((0, padding), (0, 0), (0, 0)),\n",
    "            mode='constant', constant_values=pad\n",
    "            )\n",
    "            num = length\n",
    "\n",
    "        for start in range(0, num - length + 1, step):\n",
    "            end = start + length\n",
    "            sequence = inputs[start:end]\n",
    "            X_sequences.append(sequence)\n",
    "            Y_sequences.append(label)\n",
    "\n",
    "    X_sequences = np.array(X_sequences)\n",
    "    Y_sequences = np.array(Y_sequences)\n",
    "    return X_sequences, Y_sequences"
   ],
   "outputs": [],
   "execution_count": null
  },
  {
   "cell_type": "code",
   "id": "9cbc4b19",
   "metadata": {
    "execution": {
     "iopub.execute_input": "2025-03-12T11:39:51.070190Z",
     "iopub.status.busy": "2025-03-12T11:39:51.069832Z",
     "iopub.status.idle": "2025-03-12T11:39:54.036354Z",
     "shell.execute_reply": "2025-03-12T11:39:54.035598Z"
    },
    "papermill": {
     "duration": 2.996375,
     "end_time": "2025-03-12T11:39:54.038162",
     "exception": false,
     "start_time": "2025-03-12T11:39:51.041787",
     "status": "completed"
    },
    "tags": []
   },
   "source": [
    "X_train, Y_train = sequences(X_train, Y_train, length=60, step=20, pad=-100)\n",
    "X_val, Y_val = sequences(X_val, Y_val, length=60, step=20, pad=-100)\n",
    "X_test, Y_test = sequences(X_test, Y_test, length=60, step=20, pad=-100)"
   ],
   "outputs": [],
   "execution_count": null
  },
  {
   "cell_type": "code",
   "id": "93d3b46b",
   "metadata": {
    "execution": {
     "iopub.execute_input": "2025-03-12T11:39:54.094310Z",
     "iopub.status.busy": "2025-03-12T11:39:54.093990Z",
     "iopub.status.idle": "2025-03-12T11:39:54.099361Z",
     "shell.execute_reply": "2025-03-12T11:39:54.098598Z"
    },
    "papermill": {
     "duration": 0.035229,
     "end_time": "2025-03-12T11:39:54.100899",
     "exception": false,
     "start_time": "2025-03-12T11:39:54.065670",
     "status": "completed"
    },
    "tags": []
   },
   "source": [
    "X_train.shape, X_val.shape, X_test.shape"
   ],
   "outputs": [],
   "execution_count": null
  },
  {
   "cell_type": "markdown",
   "id": "fecee047",
   "metadata": {
    "papermill": {
     "duration": 0.026838,
     "end_time": "2025-03-12T11:39:54.155491",
     "exception": false,
     "start_time": "2025-03-12T11:39:54.128653",
     "status": "completed"
    },
    "tags": []
   },
   "source": [
    "<h3>\n",
    "    \n",
    "**Method 2:** Padding"
   ]
  },
  {
   "cell_type": "code",
   "id": "290afe65",
   "metadata": {
    "execution": {
     "iopub.execute_input": "2025-03-12T11:39:54.211037Z",
     "iopub.status.busy": "2025-03-12T11:39:54.210709Z",
     "iopub.status.idle": "2025-03-12T11:39:54.216516Z",
     "shell.execute_reply": "2025-03-12T11:39:54.215560Z"
    },
    "papermill": {
     "duration": 0.036057,
     "end_time": "2025-03-12T11:39:54.218090",
     "exception": false,
     "start_time": "2025-03-12T11:39:54.182033",
     "status": "completed"
    },
    "tags": []
   },
   "source": [
    "def padding(X, Y, length=None, pad=0):\n",
    "    if length is None:\n",
    "        length = max(len(x) for x in X)\n",
    "\n",
    "    X_padded = []\n",
    "    for x in X:\n",
    "        if len(x) > length:\n",
    "            X_padded.append(x[:length]) #truncate\n",
    "        else:\n",
    "            pad_length = length - len(x)\n",
    "            X_padded.append(np.pad(\n",
    "                x, ((0, pad_length), (0, 0), (0, 0)),\n",
    "                mode='constant', constant_values=pad\n",
    "            ))\n",
    "\n",
    "    X_padded = np.array(X_padded)\n",
    "#     Y = np.array(Y)\n",
    "    return X_padded, Y"
   ],
   "outputs": [],
   "execution_count": null
  },
  {
   "cell_type": "code",
   "id": "aca9d21a",
   "metadata": {
    "execution": {
     "iopub.execute_input": "2025-03-12T11:39:54.272856Z",
     "iopub.status.busy": "2025-03-12T11:39:54.272506Z",
     "iopub.status.idle": "2025-03-12T11:40:02.209588Z",
     "shell.execute_reply": "2025-03-12T11:40:02.208716Z"
    },
    "papermill": {
     "duration": 7.966465,
     "end_time": "2025-03-12T11:40:02.211323",
     "exception": false,
     "start_time": "2025-03-12T11:39:54.244858",
     "status": "completed"
    },
    "tags": []
   },
   "source": [
    "X_train, Y_train = padding(X_train, Y_train, length=200, pad=-100)\n",
    "X_val, Y_val = padding(X_val, Y_val, length=200, pad=-100)\n",
    "X_test, Y_test = padding(X_test, Y_test, length=200, pad=-100)"
   ],
   "outputs": [],
   "execution_count": null
  },
  {
   "cell_type": "code",
   "id": "4ed8365a",
   "metadata": {
    "execution": {
     "iopub.execute_input": "2025-03-12T11:40:02.267470Z",
     "iopub.status.busy": "2025-03-12T11:40:02.267106Z",
     "iopub.status.idle": "2025-03-12T11:40:02.272689Z",
     "shell.execute_reply": "2025-03-12T11:40:02.271721Z"
    },
    "papermill": {
     "duration": 0.035199,
     "end_time": "2025-03-12T11:40:02.274232",
     "exception": false,
     "start_time": "2025-03-12T11:40:02.239033",
     "status": "completed"
    },
    "tags": []
   },
   "source": [
    "X_train.shape, X_val.shape, X_test.shape"
   ],
   "outputs": [],
   "execution_count": null
  },
  {
   "cell_type": "markdown",
   "id": "d190a3a9",
   "metadata": {
    "papermill": {
     "duration": 0.026715,
     "end_time": "2025-03-12T11:40:02.328647",
     "exception": false,
     "start_time": "2025-03-12T11:40:02.301932",
     "status": "completed"
    },
    "tags": []
   },
   "source": [
    "<h3>\n",
    "    \n",
    "**Method 3:** Skipping & Cloning"
   ]
  },
  {
   "cell_type": "code",
   "id": "45b9e36b",
   "metadata": {
    "execution": {
     "iopub.execute_input": "2025-03-12T11:40:02.384310Z",
     "iopub.status.busy": "2025-03-12T11:40:02.383905Z",
     "iopub.status.idle": "2025-03-12T11:40:02.391666Z",
     "shell.execute_reply": "2025-03-12T11:40:02.390682Z"
    },
    "papermill": {
     "duration": 0.037658,
     "end_time": "2025-03-12T11:40:02.393127",
     "exception": false,
     "start_time": "2025-03-12T11:40:02.355469",
     "status": "completed"
    },
    "tags": []
   },
   "source": [
    "def skipping(landmarks, desired_frames,mode='floor'):\n",
    "    frames_num = landmarks.shape[0]\n",
    "    if mode == 'floor':\n",
    "        skip_factor = math.floor(frames_num / desired_frames)\n",
    "    elif mode == 'ceil':\n",
    "        skip_factor = math.ceil(frames_num / desired_frames)\n",
    "    skipped_landmarks = []\n",
    "\n",
    "    for i in range(0, frames_num, skip_factor):\n",
    "        skipped_landmarks.append(landmarks[i])\n",
    "        if len(skipped_landmarks)==desired_frames:\n",
    "            break\n",
    "\n",
    "    return np.array(skipped_landmarks)\n",
    "\n",
    "# Test\n",
    "skip_test = np.zeros((90, 180, 3))\n",
    "result_1 = skipping(skip_test, 60)\n",
    "result_2 = skipping(skip_test, 60,'ceil')\n",
    "print(result_1.shape)\n",
    "print(result_2.shape)"
   ],
   "outputs": [],
   "execution_count": null
  },
  {
   "cell_type": "code",
   "id": "b818242b",
   "metadata": {
    "execution": {
     "iopub.execute_input": "2025-03-12T11:40:02.448140Z",
     "iopub.status.busy": "2025-03-12T11:40:02.447778Z",
     "iopub.status.idle": "2025-03-12T11:40:02.453995Z",
     "shell.execute_reply": "2025-03-12T11:40:02.453105Z"
    },
    "papermill": {
     "duration": 0.035219,
     "end_time": "2025-03-12T11:40:02.455328",
     "exception": false,
     "start_time": "2025-03-12T11:40:02.420109",
     "status": "completed"
    },
    "tags": []
   },
   "source": [
    "def cloning(landmarks, desired_frames):\n",
    "\n",
    "    frames_num = landmarks.shape[0]\n",
    "    repeat_factor = math.ceil(desired_frames / frames_num)\n",
    "\n",
    "    cloned_list = np.repeat(landmarks, repeat_factor, axis=0)\n",
    "    cloned_list = cloned_list[:desired_frames]\n",
    "    return cloned_list\n",
    "\n",
    "# Test\n",
    "clone_test = np.random.random((29, 180, 3))\n",
    "result = cloning(clone_test, 60)\n",
    "print(result.shape)"
   ],
   "outputs": [],
   "execution_count": null
  },
  {
   "cell_type": "code",
   "id": "6e9fb03f",
   "metadata": {
    "execution": {
     "iopub.execute_input": "2025-03-12T11:40:02.511523Z",
     "iopub.status.busy": "2025-03-12T11:40:02.511152Z",
     "iopub.status.idle": "2025-03-12T11:40:02.516054Z",
     "shell.execute_reply": "2025-03-12T11:40:02.515205Z"
    },
    "papermill": {
     "duration": 0.034678,
     "end_time": "2025-03-12T11:40:02.517539",
     "exception": false,
     "start_time": "2025-03-12T11:40:02.482861",
     "status": "completed"
    },
    "tags": []
   },
   "source": [
    "def clone_skip(landmarks_array,desired_frames):\n",
    "    reshaped_landmarks = []\n",
    "    for landmarks in landmarks_array:\n",
    "        frames_number = landmarks.shape[0]\n",
    "\n",
    "        if frames_number == desired_frames:\n",
    "            reshaped_landmarks.append(landmarks)\n",
    "        elif frames_number < desired_frames:\n",
    "            reshaped_landmarks.append(cloning(landmarks,desired_frames))\n",
    "        elif frames_number > desired_frames:\n",
    "            reshaped_landmarks.append(skipping(landmarks,desired_frames))\n",
    "    return np.array(reshaped_landmarks)"
   ],
   "outputs": [],
   "execution_count": null
  },
  {
   "cell_type": "markdown",
   "id": "554fb88b",
   "metadata": {
    "papermill": {
     "duration": 0.026552,
     "end_time": "2025-03-12T11:40:02.571611",
     "exception": false,
     "start_time": "2025-03-12T11:40:02.545059",
     "status": "completed"
    },
    "tags": []
   },
   "source": [
    "---"
   ]
  },
  {
   "cell_type": "markdown",
   "id": "58c42547",
   "metadata": {
    "papermill": {
     "duration": 0.025844,
     "end_time": "2025-03-12T11:40:02.624332",
     "exception": false,
     "start_time": "2025-03-12T11:40:02.598488",
     "status": "completed"
    },
    "tags": []
   },
   "source": [
    "<div id=\"Label_Encoding\">\n",
    "    \n",
    "# **Label Encoding**"
   ]
  },
  {
   "cell_type": "code",
   "id": "5c838b97",
   "metadata": {
    "execution": {
     "iopub.execute_input": "2025-03-12T11:40:02.680247Z",
     "iopub.status.busy": "2025-03-12T11:40:02.679937Z",
     "iopub.status.idle": "2025-03-12T11:40:02.683360Z",
     "shell.execute_reply": "2025-03-12T11:40:02.682527Z"
    },
    "papermill": {
     "duration": 0.032621,
     "end_time": "2025-03-12T11:40:02.684769",
     "exception": false,
     "start_time": "2025-03-12T11:40:02.652148",
     "status": "completed"
    },
    "tags": []
   },
   "source": [
    "# label_encoder = LabelEncoder()\n",
    "\n",
    "# Y_train = label_encoder.fit_transform(Y_train)\n",
    "# Y_val = label_encoder.fit_transform(Y_val)\n",
    "# Y_test = label_encoder.fit_transform(Y_test)"
   ],
   "outputs": [],
   "execution_count": null
  },
  {
   "cell_type": "code",
   "id": "5c206f83",
   "metadata": {
    "execution": {
     "iopub.execute_input": "2025-03-12T11:40:02.739340Z",
     "iopub.status.busy": "2025-03-12T11:40:02.738983Z",
     "iopub.status.idle": "2025-03-12T11:40:02.747186Z",
     "shell.execute_reply": "2025-03-12T11:40:02.746197Z"
    },
    "papermill": {
     "duration": 0.037081,
     "end_time": "2025-03-12T11:40:02.748785",
     "exception": false,
     "start_time": "2025-03-12T11:40:02.711704",
     "status": "completed"
    },
    "tags": []
   },
   "source": [
    "label_encoder = LabelEncoder()\n",
    "Y_train_int = label_encoder.fit_transform(Y_train)  # Convert words to integers\n",
    "Y_val_int = label_encoder.transform(Y_val)\n",
    "Y_test_int = label_encoder.transform(Y_test)"
   ],
   "outputs": [],
   "execution_count": null
  },
  {
   "cell_type": "code",
   "id": "dd44ad1c",
   "metadata": {
    "execution": {
     "iopub.execute_input": "2025-03-12T11:40:02.805896Z",
     "iopub.status.busy": "2025-03-12T11:40:02.805530Z",
     "iopub.status.idle": "2025-03-12T11:40:02.877020Z",
     "shell.execute_reply": "2025-03-12T11:40:02.876181Z"
    },
    "papermill": {
     "duration": 0.102369,
     "end_time": "2025-03-12T11:40:02.878935",
     "exception": false,
     "start_time": "2025-03-12T11:40:02.776566",
     "status": "completed"
    },
    "tags": []
   },
   "source": [
    "Y_train_one_hot = tf.keras.utils.to_categorical(Y_train_int, num_classes)\n",
    "Y_val_one_hot = tf.keras.utils.to_categorical(Y_val_int, num_classes)\n",
    "Y_test_one_hot = tf.keras.utils.to_categorical(Y_test_int, num_classes)"
   ],
   "outputs": [],
   "execution_count": null
  },
  {
   "cell_type": "code",
   "id": "e75f4171",
   "metadata": {
    "execution": {
     "iopub.execute_input": "2025-03-12T11:40:02.935895Z",
     "iopub.status.busy": "2025-03-12T11:40:02.935514Z",
     "iopub.status.idle": "2025-03-12T11:40:02.939206Z",
     "shell.execute_reply": "2025-03-12T11:40:02.938255Z"
    },
    "papermill": {
     "duration": 0.033572,
     "end_time": "2025-03-12T11:40:02.940845",
     "exception": false,
     "start_time": "2025-03-12T11:40:02.907273",
     "status": "completed"
    },
    "tags": []
   },
   "source": [
    "# Y_train = np.array([labels_dict[label] for label in Y_train])\n",
    "# Y_val = np.array([labels_dict[label] for label in Y_val])\n",
    "# Y_test = np.array([labels_dict[label] for label in Y_test])"
   ],
   "outputs": [],
   "execution_count": null
  },
  {
   "cell_type": "code",
   "id": "6c4f4b4a",
   "metadata": {
    "execution": {
     "iopub.execute_input": "2025-03-12T11:40:02.997018Z",
     "iopub.status.busy": "2025-03-12T11:40:02.996710Z",
     "iopub.status.idle": "2025-03-12T11:40:03.001667Z",
     "shell.execute_reply": "2025-03-12T11:40:03.000879Z"
    },
    "papermill": {
     "duration": 0.034371,
     "end_time": "2025-03-12T11:40:03.003012",
     "exception": false,
     "start_time": "2025-03-12T11:40:02.968641",
     "status": "completed"
    },
    "tags": []
   },
   "source": [
    "len(Y_train_one_hot)"
   ],
   "outputs": [],
   "execution_count": null
  },
  {
   "cell_type": "code",
   "id": "0d2ab32e",
   "metadata": {
    "execution": {
     "iopub.execute_input": "2025-03-12T11:40:03.060601Z",
     "iopub.status.busy": "2025-03-12T11:40:03.060248Z",
     "iopub.status.idle": "2025-03-12T11:40:03.275510Z",
     "shell.execute_reply": "2025-03-12T11:40:03.274513Z"
    },
    "papermill": {
     "duration": 0.244488,
     "end_time": "2025-03-12T11:40:03.277072",
     "exception": false,
     "start_time": "2025-03-12T11:40:03.032584",
     "status": "completed"
    },
    "tags": []
   },
   "source": [
    "# free space\n",
    "gc.collect()"
   ],
   "outputs": [],
   "execution_count": null
  },
  {
   "cell_type": "markdown",
   "id": "5920903d",
   "metadata": {
    "papermill": {
     "duration": 0.027237,
     "end_time": "2025-03-12T11:40:03.331854",
     "exception": false,
     "start_time": "2025-03-12T11:40:03.304617",
     "status": "completed"
    },
    "tags": []
   },
   "source": [
    "---"
   ]
  },
  {
   "cell_type": "markdown",
   "id": "7e8a855f",
   "metadata": {
    "papermill": {
     "duration": 0.026705,
     "end_time": "2025-03-12T11:40:03.385917",
     "exception": false,
     "start_time": "2025-03-12T11:40:03.359212",
     "status": "completed"
    },
    "tags": []
   },
   "source": [
    "<div id=\"Models\">\n",
    "    \n",
    "# **Models**"
   ]
  },
  {
   "cell_type": "markdown",
   "id": "a9e373fe",
   "metadata": {
    "papermill": {
     "duration": 0.027421,
     "end_time": "2025-03-12T11:40:03.441514",
     "exception": false,
     "start_time": "2025-03-12T11:40:03.414093",
     "status": "completed"
    },
    "tags": []
   },
   "source": [
    "<h2>Kamel's Model"
   ]
  },
  {
   "cell_type": "code",
   "id": "12fe5c10",
   "metadata": {
    "execution": {
     "iopub.execute_input": "2025-03-12T11:40:03.497269Z",
     "iopub.status.busy": "2025-03-12T11:40:03.496960Z",
     "iopub.status.idle": "2025-03-12T11:40:04.618805Z",
     "shell.execute_reply": "2025-03-12T11:40:04.617991Z"
    },
    "papermill": {
     "duration": 1.151361,
     "end_time": "2025-03-12T11:40:04.620256",
     "exception": false,
     "start_time": "2025-03-12T11:40:03.468895",
     "status": "completed"
    },
    "tags": []
   },
   "source": [
    "gc.collect()\n",
    "tf.keras.backend.clear_session()\n",
    "physical_devices = tf.config.list_physical_devices('GPU')\n",
    "for device in physical_devices:\n",
    "    tf.config.experimental.set_memory_growth(device, True)\n",
    "physical_devices"
   ],
   "outputs": [],
   "execution_count": null
  },
  {
   "cell_type": "code",
   "id": "05275aa2",
   "metadata": {
    "execution": {
     "iopub.execute_input": "2025-03-12T11:40:04.678129Z",
     "iopub.status.busy": "2025-03-12T11:40:04.677817Z",
     "iopub.status.idle": "2025-03-12T11:40:06.627731Z",
     "shell.execute_reply": "2025-03-12T11:40:06.626688Z"
    },
    "papermill": {
     "duration": 1.981161,
     "end_time": "2025-03-12T11:40:06.629697",
     "exception": false,
     "start_time": "2025-03-12T11:40:04.648536",
     "status": "completed"
    },
    "tags": []
   },
   "source": [
    "model = tf.keras.Sequential([\n",
    "    tf.keras.layers.Masking(mask_value=-100, input_shape=(200, 180, 3)),\n",
    "    tf.keras.layers.Flatten(),\n",
    "\n",
    "    tf.keras.layers.Dense(512, activation='relu'),\n",
    "    tf.keras.layers.BatchNormalization(),\n",
    "    tf.keras.layers.Dropout(rate=0.3),\n",
    "\n",
    "    tf.keras.layers.Dense(512, activation='relu'),\n",
    "    tf.keras.layers.BatchNormalization(),\n",
    "    tf.keras.layers.Dropout(rate=0.3),\n",
    "\n",
    "    tf.keras.layers.Dense(512, activation='relu'),\n",
    "    tf.keras.layers.BatchNormalization(),\n",
    "    tf.keras.layers.Dropout(rate=0.5),\n",
    "\n",
    "    tf.keras.layers.Dense(512, activation='relu'),\n",
    "    tf.keras.layers.BatchNormalization(),\n",
    "    tf.keras.layers.Dropout(rate=0.5),\n",
    "\n",
    "    tf.keras.layers.Dense(num_classes, activation='softmax')\n",
    "])"
   ],
   "outputs": [],
   "execution_count": null
  },
  {
   "cell_type": "code",
   "id": "08b21818",
   "metadata": {
    "execution": {
     "iopub.execute_input": "2025-03-12T11:40:06.686930Z",
     "iopub.status.busy": "2025-03-12T11:40:06.686584Z",
     "iopub.status.idle": "2025-03-12T11:40:06.704851Z",
     "shell.execute_reply": "2025-03-12T11:40:06.703924Z"
    },
    "papermill": {
     "duration": 0.048605,
     "end_time": "2025-03-12T11:40:06.706545",
     "exception": false,
     "start_time": "2025-03-12T11:40:06.657940",
     "status": "completed"
    },
    "tags": []
   },
   "source": [
    "checkpoint_filepath = '/kaggle/working/Kamel_Checkpoints/'\n",
    "os.makedirs(checkpoint_filepath, exist_ok=True)\n",
    "\n",
    "model_checkpoint = tf.keras.callbacks.ModelCheckpoint(\n",
    "    filepath=os.path.join(checkpoint_filepath, 'model_{epoch:02d}.weights.h5'),\n",
    "    save_weights_only=True,\n",
    "    save_best_only=True,\n",
    "    monitor='val_loss',\n",
    "    mode='min',\n",
    ")\n",
    "\n",
    "lr_scheduler = tf.keras.optimizers.schedules.ExponentialDecay(\n",
    "    initial_learning_rate=0.001,\n",
    "    decay_steps=1000,\n",
    "    decay_rate=0.9\n",
    ")\n",
    "\n",
    "early_stopping = tf.keras.callbacks.EarlyStopping(\n",
    "    monitor='val_loss',\n",
    "    mode='min',\n",
    "    patience=50,\n",
    "    restore_best_weights=True\n",
    ")\n",
    "\n",
    "top5_acc = tf.keras.metrics.TopKCategoricalAccuracy(\n",
    "    k=5, name=\"top_k_categorical_accuracy\", dtype=None\n",
    ")\n",
    "\n",
    "\n",
    "model.compile(\n",
    "    loss = tf.keras.losses.CategoricalCrossentropy(),\n",
    "    optimizer=tf.keras.optimizers.Adam(learning_rate=lr_scheduler),\n",
    "    metrics=['accuracy', top5_acc]\n",
    ")"
   ],
   "outputs": [],
   "execution_count": null
  },
  {
   "cell_type": "code",
   "id": "899a19e6",
   "metadata": {
    "execution": {
     "iopub.execute_input": "2025-03-12T11:40:06.763398Z",
     "iopub.status.busy": "2025-03-12T11:40:06.762945Z",
     "iopub.status.idle": "2025-03-12T11:44:08.453650Z",
     "shell.execute_reply": "2025-03-12T11:44:08.452681Z"
    },
    "papermill": {
     "duration": 241.720588,
     "end_time": "2025-03-12T11:44:08.455577",
     "exception": false,
     "start_time": "2025-03-12T11:40:06.734989",
     "status": "completed"
    },
    "scrolled": true,
    "tags": []
   },
   "source": [
    "hist = model.fit(\n",
    "    X_train, Y_train_one_hot,\n",
    "    validation_data=(X_val, Y_val_one_hot),\n",
    "    epochs=1000,\n",
    "    batch_size=128,\n",
    "    callbacks=[model_checkpoint, early_stopping]\n",
    ")"
   ],
   "outputs": [],
   "execution_count": null
  },
  {
   "cell_type": "code",
   "id": "1b16f00a",
   "metadata": {
    "execution": {
     "iopub.execute_input": "2025-03-12T11:44:08.784266Z",
     "iopub.status.busy": "2025-03-12T11:44:08.783933Z",
     "iopub.status.idle": "2025-03-12T11:44:12.022688Z",
     "shell.execute_reply": "2025-03-12T11:44:12.021688Z"
    },
    "papermill": {
     "duration": 3.404847,
     "end_time": "2025-03-12T11:44:12.024526",
     "exception": false,
     "start_time": "2025-03-12T11:44:08.619679",
     "status": "completed"
    },
    "tags": []
   },
   "source": [
    "# epoch = 90\n",
    "# model.load_weights(f'/kaggle/working/Kamel_Checkpoints/model_{epoch}.h5')\n",
    "test_loss, test_accuracy, test_top5acc = model.evaluate(X_test, Y_test_one_hot)"
   ],
   "outputs": [],
   "execution_count": null
  },
  {
   "cell_type": "code",
   "id": "235d8d90",
   "metadata": {
    "execution": {
     "iopub.execute_input": "2025-03-12T11:44:12.419020Z",
     "iopub.status.busy": "2025-03-12T11:44:12.418628Z",
     "iopub.status.idle": "2025-03-12T11:44:13.806635Z",
     "shell.execute_reply": "2025-03-12T11:44:13.805579Z"
    },
    "papermill": {
     "duration": 1.617799,
     "end_time": "2025-03-12T11:44:13.808362",
     "exception": false,
     "start_time": "2025-03-12T11:44:12.190563",
     "status": "completed"
    },
    "tags": []
   },
   "source": [
    "shutil.rmtree('/kaggle/working/Kamel_Checkpoints')"
   ],
   "outputs": [],
   "execution_count": null
  },
  {
   "cell_type": "code",
   "id": "94a05669",
   "metadata": {
    "execution": {
     "iopub.execute_input": "2025-03-12T11:44:14.135808Z",
     "iopub.status.busy": "2025-03-12T11:44:14.135435Z",
     "iopub.status.idle": "2025-03-12T11:44:14.780572Z",
     "shell.execute_reply": "2025-03-12T11:44:14.779590Z"
    },
    "papermill": {
     "duration": 0.807553,
     "end_time": "2025-03-12T11:44:14.782436",
     "exception": false,
     "start_time": "2025-03-12T11:44:13.974883",
     "status": "completed"
    },
    "tags": []
   },
   "source": [
    "train_loss = hist.history['loss']\n",
    "val_loss = hist.history['val_loss']\n",
    "train_acc = hist.history['accuracy']\n",
    "val_acc = hist.history['val_accuracy']\n",
    "\n",
    "# Plotting loss\n",
    "plt.figure(figsize=(10, 5))\n",
    "plt.subplot(1, 2, 1)\n",
    "plt.plot(train_loss, 'g', label='Training loss')\n",
    "plt.plot(val_loss, 'b', label='Validation loss')\n",
    "plt.title('Training and Validation Loss')\n",
    "plt.xlabel('Epochs')\n",
    "plt.ylabel('Loss')\n",
    "plt.legend()\n",
    "\n",
    "# Plotting accuracy\n",
    "plt.subplot(1, 2, 2)\n",
    "plt.plot(train_acc, 'g', label='Training accuracy')\n",
    "plt.plot(val_acc, 'b', label='Validation accuracy')\n",
    "plt.title('Training and Validation Accuracy')\n",
    "plt.xlabel('Epochs')\n",
    "plt.ylabel('Accuracy')\n",
    "plt.legend()\n",
    "\n",
    "plt.tight_layout()\n",
    "plt.show()"
   ],
   "outputs": [],
   "execution_count": null
  },
  {
   "cell_type": "code",
   "id": "56f9245a",
   "metadata": {
    "execution": {
     "iopub.execute_input": "2025-03-12T11:44:15.121941Z",
     "iopub.status.busy": "2025-03-12T11:44:15.121592Z",
     "iopub.status.idle": "2025-03-12T11:44:17.323345Z",
     "shell.execute_reply": "2025-03-12T11:44:17.322340Z"
    },
    "papermill": {
     "duration": 2.380614,
     "end_time": "2025-03-12T11:44:17.329410",
     "exception": false,
     "start_time": "2025-03-12T11:44:14.948796",
     "status": "completed"
    },
    "tags": []
   },
   "source": [
    "tf.keras.utils.plot_model(model, to_file='model_plot.png', show_shapes=True, show_layer_names=True)\n",
    "img = plt.imread('model_plot.png')\n",
    "plt.figure(figsize=(40, 30))\n",
    "plt.imshow(img)\n",
    "plt.axis('off')\n",
    "plt.show()"
   ],
   "outputs": [],
   "execution_count": null
  },
  {
   "cell_type": "code",
   "id": "e525543c",
   "metadata": {
    "execution": {
     "iopub.execute_input": "2025-03-12T11:44:17.682117Z",
     "iopub.status.busy": "2025-03-12T11:44:17.681793Z",
     "iopub.status.idle": "2025-03-12T11:44:22.803808Z",
     "shell.execute_reply": "2025-03-12T11:44:22.802766Z"
    },
    "papermill": {
     "duration": 5.300216,
     "end_time": "2025-03-12T11:44:22.805871",
     "exception": false,
     "start_time": "2025-03-12T11:44:17.505655",
     "status": "completed"
    },
    "tags": []
   },
   "source": [
    "name = '12-14'\n",
    "model_filepath = '/kaggle/working/Kamel_Models'\n",
    "os.makedirs(model_filepath, exist_ok=True)\n",
    "\n",
    "model.save(model_filepath + f'/{name}.keras')\n",
    "model.save(model_filepath + f'/{name}.h5')"
   ],
   "outputs": [],
   "execution_count": null
  }
 ],
 "metadata": {
  "kaggle": {
   "accelerator": "gpu",
   "dataSources": [
    {
     "datasetId": 1589971,
     "sourceId": 2632847,
     "sourceType": "datasetVersion"
    },
    {
     "datasetId": 2747345,
     "sourceId": 4747505,
     "sourceType": "datasetVersion"
    },
    {
     "datasetId": 4069519,
     "sourceId": 7195461,
     "sourceType": "datasetVersion"
    }
   ],
   "dockerImageVersionId": 30919,
   "isGpuEnabled": true,
   "isInternetEnabled": true,
   "language": "python",
   "sourceType": "notebook"
  },
  "kernelspec": {
   "display_name": "Python 3",
   "language": "python",
   "name": "python3"
  },
  "language_info": {
   "codemirror_mode": {
    "name": "ipython",
    "version": 3
   },
   "file_extension": ".py",
   "mimetype": "text/x-python",
   "name": "python",
   "nbconvert_exporter": "python",
   "pygments_lexer": "ipython3",
   "version": "3.10.12"
  },
  "papermill": {
   "default_parameters": {},
   "duration": 396.244934,
   "end_time": "2025-03-12T11:44:26.424203",
   "environment_variables": {},
   "exception": null,
   "input_path": "__notebook__.ipynb",
   "output_path": "__notebook__.ipynb",
   "parameters": {},
   "start_time": "2025-03-12T11:37:50.179269",
   "version": "2.6.0"
  }
 },
 "nbformat": 4,
 "nbformat_minor": 5
}
