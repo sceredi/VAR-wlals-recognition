{
 "cells": [
  {
   "metadata": {},
   "cell_type": "markdown",
   "source": [
    "# Note\n",
    "Questo notebook è una modifica di quello proposto su kaggle [Notebook Kaggle](https://www.kaggle.com/code/abd0kamel/mutemotion-wlasl-translation-model/notebook), sono state eliminate le sezioni di codice che non risultavano utili per la dimostrazione di come le prestazioni del modello sarebbero dovute essere in un problema di regressione.\n",
    "\n",
    "Le modifiche effettuate sono le seguenti:\n",
    "- metrica di valutazione del modello da `accuracy` a `mse` (Mean Squared Error).\n"
   ],
   "id": "389c873f5d1e63e3"
  },
  {
   "cell_type": "markdown",
   "id": "833358d3",
   "metadata": {
    "papermill": {
     "duration": 0.010302,
     "end_time": "2025-03-12T16:49:15.375226",
     "exception": false,
     "start_time": "2025-03-12T16:49:15.364924",
     "status": "completed"
    },
    "tags": []
   },
   "source": [
    "# **Introduction**\n",
    "\n",
    "<h3> This notebook aims to use MediaPipe landmarks detection as the starting point\n",
    "    \n",
    "<h3> for building an American Sign Language Translation Model\n",
    "            \n",
    "**<h3> Sections:**\n",
    "* [Importing Libraries](#Importing_Libraries)\n",
    "* [Data Preparation](#Data_Preparation)\n",
    "* [MediaPipe Implementation](#MediaPipe_Implementation)\n",
    "* [Visualizing Landmarks](#Visualizing_Landmarks)\n",
    "* [Data Encoding](#Data_Encoding)\n",
    "* [Label Filtering](#Label_Filtering)\n",
    "* [Data Loading](#Data_Loading)\n",
    "* [Data Augmentation](#Data_Augmentation)\n",
    "* [Data Preprocessing](#Data_Preprocessing)\n",
    "* [Label Encoding](#Label_Encoding)\n",
    "* [Models](#Models)\n",
    "    \n",
    "<h4> If you found this notebook helpful, an upvote would be appreciated!"
   ]
  },
  {
   "cell_type": "markdown",
   "id": "352806a3",
   "metadata": {
    "papermill": {
     "duration": 0.008907,
     "end_time": "2025-03-12T16:49:15.393733",
     "exception": false,
     "start_time": "2025-03-12T16:49:15.384826",
     "status": "completed"
    },
    "tags": []
   },
   "source": [
    "---"
   ]
  },
  {
   "cell_type": "markdown",
   "id": "2398bbf6",
   "metadata": {
    "papermill": {
     "duration": 0.008791,
     "end_time": "2025-03-12T16:49:15.411489",
     "exception": false,
     "start_time": "2025-03-12T16:49:15.402698",
     "status": "completed"
    },
    "tags": []
   },
   "source": [
    "<div id=\"Importing_Libraries\">\n",
    "    \n",
    "# **Importing Libraries** "
   ]
  },
  {
   "cell_type": "code",
   "id": "ea7f8d1b",
   "metadata": {
    "execution": {
     "iopub.execute_input": "2025-03-12T16:49:15.431180Z",
     "iopub.status.busy": "2025-03-12T16:49:15.430841Z",
     "iopub.status.idle": "2025-03-12T16:49:29.185755Z",
     "shell.execute_reply": "2025-03-12T16:49:29.184909Z"
    },
    "papermill": {
     "duration": 13.766759,
     "end_time": "2025-03-12T16:49:29.187400",
     "exception": false,
     "start_time": "2025-03-12T16:49:15.420641",
     "status": "completed"
    },
    "scrolled": true,
    "tags": []
   },
   "source": [
    "!pip install -q mediapipe==0.10.7"
   ],
   "outputs": [],
   "execution_count": null
  },
  {
   "cell_type": "code",
   "id": "e2828b94",
   "metadata": {
    "_cell_guid": "b1076dfc-b9ad-4769-8c92-a6c4dae69d19",
    "_uuid": "8f2839f25d086af736a60e9eeb907d3b93b6e0e5",
    "execution": {
     "iopub.execute_input": "2025-03-12T16:49:29.222129Z",
     "iopub.status.busy": "2025-03-12T16:49:29.221807Z",
     "iopub.status.idle": "2025-03-12T16:49:41.864537Z",
     "shell.execute_reply": "2025-03-12T16:49:41.863812Z"
    },
    "papermill": {
     "duration": 12.661807,
     "end_time": "2025-03-12T16:49:41.866350",
     "exception": false,
     "start_time": "2025-03-12T16:49:29.204543",
     "status": "completed"
    },
    "tags": []
   },
   "source": [
    "import os\n",
    "import math\n",
    "import gc\n",
    "import json\n",
    "import numpy as np\n",
    "from tqdm import tqdm\n",
    "import tensorflow as tf\n",
    "import matplotlib.pyplot as plt"
   ],
   "outputs": [],
   "execution_count": null
  },
  {
   "cell_type": "markdown",
   "id": "8c123d09",
   "metadata": {
    "papermill": {
     "duration": 0.015667,
     "end_time": "2025-03-12T16:49:41.898733",
     "exception": false,
     "start_time": "2025-03-12T16:49:41.883066",
     "status": "completed"
    },
    "tags": []
   },
   "source": [
    "---"
   ]
  },
  {
   "cell_type": "markdown",
   "id": "165af0c2",
   "metadata": {
    "papermill": {
     "duration": 0.015675,
     "end_time": "2025-03-12T16:49:41.930360",
     "exception": false,
     "start_time": "2025-03-12T16:49:41.914685",
     "status": "completed"
    },
    "tags": []
   },
   "source": [
    "<div id=\"Data_Loading\">\n",
    "    \n",
    "# **Data Loading**"
   ]
  },
  {
   "cell_type": "code",
   "id": "88d74de6",
   "metadata": {
    "execution": {
     "iopub.execute_input": "2025-03-12T16:49:41.963041Z",
     "iopub.status.busy": "2025-03-12T16:49:41.962493Z",
     "iopub.status.idle": "2025-03-12T16:49:42.170545Z",
     "shell.execute_reply": "2025-03-12T16:49:42.169599Z"
    },
    "papermill": {
     "duration": 0.226111,
     "end_time": "2025-03-12T16:49:42.172181",
     "exception": false,
     "start_time": "2025-03-12T16:49:41.946070",
     "status": "completed"
    },
    "tags": []
   },
   "source": [
    "landmarks_dict = np.load('/kaggle/input/mutemotion-output/landmarks_V3.npz', allow_pickle=True)"
   ],
   "outputs": [],
   "execution_count": null
  },
  {
   "cell_type": "code",
   "id": "16f21653",
   "metadata": {
    "execution": {
     "iopub.execute_input": "2025-03-12T16:49:42.206273Z",
     "iopub.status.busy": "2025-03-12T16:49:42.206018Z",
     "iopub.status.idle": "2025-03-12T16:49:42.241489Z",
     "shell.execute_reply": "2025-03-12T16:49:42.240831Z"
    },
    "papermill": {
     "duration": 0.053453,
     "end_time": "2025-03-12T16:49:42.242708",
     "exception": false,
     "start_time": "2025-03-12T16:49:42.189255",
     "status": "completed"
    },
    "tags": []
   },
   "source": [
    "labels_dict = np.load('/kaggle/input/mutemotion-output/labels.npz', allow_pickle=True)"
   ],
   "outputs": [],
   "execution_count": null
  },
  {
   "cell_type": "code",
   "id": "86ca25cc",
   "metadata": {
    "execution": {
     "iopub.execute_input": "2025-03-12T16:49:42.275160Z",
     "iopub.status.busy": "2025-03-12T16:49:42.274938Z",
     "iopub.status.idle": "2025-03-12T16:49:42.343805Z",
     "shell.execute_reply": "2025-03-12T16:49:42.342920Z"
    },
    "papermill": {
     "duration": 0.086792,
     "end_time": "2025-03-12T16:49:42.345364",
     "exception": false,
     "start_time": "2025-03-12T16:49:42.258572",
     "status": "completed"
    },
    "tags": []
   },
   "source": [
    "with open('/kaggle/input/mutemotion-output/WLASL_parsed_data.json', 'r') as json_file:\n",
    "    data = json.load(json_file)"
   ],
   "outputs": [],
   "execution_count": null
  },
  {
   "cell_type": "markdown",
   "id": "efc1f40e",
   "metadata": {
    "papermill": {
     "duration": 0.015671,
     "end_time": "2025-03-12T16:49:42.377093",
     "exception": false,
     "start_time": "2025-03-12T16:49:42.361422",
     "status": "completed"
    },
    "tags": []
   },
   "source": [
    "<h3> Filter Landmarks (Only for V3)"
   ]
  },
  {
   "cell_type": "code",
   "id": "2b9e996b",
   "metadata": {
    "execution": {
     "iopub.execute_input": "2025-03-12T16:49:42.409604Z",
     "iopub.status.busy": "2025-03-12T16:49:42.409351Z",
     "iopub.status.idle": "2025-03-12T16:49:42.415250Z",
     "shell.execute_reply": "2025-03-12T16:49:42.414606Z"
    },
    "papermill": {
     "duration": 0.023439,
     "end_time": "2025-03-12T16:49:42.416383",
     "exception": false,
     "start_time": "2025-03-12T16:49:42.392944",
     "status": "completed"
    },
    "tags": []
   },
   "source": [
    "filtered_hand = list(range(21))\n",
    "\n",
    "filtered_pose = [11, 12, 13, 14, 15, 16]\n",
    "\n",
    "filtered_face = [0, 4, 7, 8, 10, 13, 14, 17, 21, 33, 37, 39, 40, 46, 52, 53, 54, 55, 58,\n",
    "                 61, 63, 65, 66, 67, 70, 78, 80, 81, 82, 84, 87, 88, 91, 93, 95, 103, 105,\n",
    "                 107, 109, 127, 132, 133, 136, 144, 145, 146, 148, 149, 150, 152, 153, 154,\n",
    "                 155, 157, 158, 159, 160, 161, 162, 163, 172, 173, 176, 178, 181, 185, 191,\n",
    "                 234, 246, 249, 251, 263, 267, 269, 270, 276, 282, 283, 284, 285, 288, 291,\n",
    "                 293, 295, 296, 297, 300, 308, 310, 311, 312, 314, 317, 318, 321, 323, 324,\n",
    "                 332, 334, 336, 338, 356, 361, 362, 365, 373, 374, 375, 377, 378, 379, 380,\n",
    "                 381, 382, 384, 385, 386, 387, 388, 389, 390, 397, 398, 400, 402, 405, 409,\n",
    "                 415, 454, 466, 468, 473]\n",
    "\n",
    "HAND_NUM = len(filtered_hand)\n",
    "POSE_NUM = len(filtered_pose)\n",
    "FACE_NUM = len(filtered_face)"
   ],
   "outputs": [],
   "execution_count": null
  },
  {
   "cell_type": "code",
   "id": "17b5fe8c",
   "metadata": {
    "execution": {
     "iopub.execute_input": "2025-03-12T16:49:42.448739Z",
     "iopub.status.busy": "2025-03-12T16:49:42.448532Z",
     "iopub.status.idle": "2025-03-12T16:49:42.453090Z",
     "shell.execute_reply": "2025-03-12T16:49:42.452248Z"
    },
    "papermill": {
     "duration": 0.022186,
     "end_time": "2025-03-12T16:49:42.454327",
     "exception": false,
     "start_time": "2025-03-12T16:49:42.432141",
     "status": "completed"
    },
    "tags": []
   },
   "source": [
    "landmarks = (\n",
    "    [x for x in filtered_hand] +\n",
    "    [x + HAND_NUM for x in filtered_hand] +\n",
    "    [x + HAND_NUM * 2 for x in filtered_pose] +\n",
    "    [x + HAND_NUM * 2 + POSE_NUM for x in filtered_face]\n",
    ")\n",
    "\n",
    "print(landmarks)\n",
    "print(f'\\nTotal Number: {len(landmarks)}')"
   ],
   "outputs": [],
   "execution_count": null
  },
  {
   "cell_type": "markdown",
   "id": "092047ee",
   "metadata": {
    "papermill": {
     "duration": 0.015577,
     "end_time": "2025-03-12T16:49:42.485631",
     "exception": false,
     "start_time": "2025-03-12T16:49:42.470054",
     "status": "completed"
    },
    "tags": []
   },
   "source": [
    "<h3> Filter Data Source"
   ]
  },
  {
   "cell_type": "code",
   "id": "206dbd20",
   "metadata": {
    "execution": {
     "iopub.execute_input": "2025-03-12T16:49:42.517785Z",
     "iopub.status.busy": "2025-03-12T16:49:42.517565Z",
     "iopub.status.idle": "2025-03-12T16:49:42.520461Z",
     "shell.execute_reply": "2025-03-12T16:49:42.519805Z"
    },
    "papermill": {
     "duration": 0.020207,
     "end_time": "2025-03-12T16:49:42.521560",
     "exception": false,
     "start_time": "2025-03-12T16:49:42.501353",
     "status": "completed"
    },
    "tags": []
   },
   "source": [
    "# Only from the wlasl-processed dataset\n",
    "# keys = [k for k in landmarks_dict.keys() if 'wlasl-processed' in data[int(k)]['video_path']]\n",
    "\n",
    "# Only from the wlasl2000-resized dataset\n",
    "# keys = [k for k in landmarks_dict.keys() if 'wlasl2000-resized' in data[int(k)]['video_path']]"
   ],
   "outputs": [],
   "execution_count": null
  },
  {
   "cell_type": "markdown",
   "id": "1ecc75b7",
   "metadata": {
    "papermill": {
     "duration": 0.015728,
     "end_time": "2025-03-12T16:49:42.552911",
     "exception": false,
     "start_time": "2025-03-12T16:49:42.537183",
     "status": "completed"
    },
    "tags": []
   },
   "source": [
    "<h3> Filter Labels"
   ]
  },
  {
   "cell_type": "code",
   "id": "0bbde851",
   "metadata": {
    "execution": {
     "iopub.execute_input": "2025-03-12T16:49:42.586029Z",
     "iopub.status.busy": "2025-03-12T16:49:42.585670Z",
     "iopub.status.idle": "2025-03-12T16:49:42.600829Z",
     "shell.execute_reply": "2025-03-12T16:49:42.600180Z"
    },
    "papermill": {
     "duration": 0.033289,
     "end_time": "2025-03-12T16:49:42.601993",
     "exception": false,
     "start_time": "2025-03-12T16:49:42.568704",
     "status": "completed"
    },
    "tags": []
   },
   "source": [
    "labels = []\n",
    "with open('/kaggle/input/mutemotion-output/filtered_labels.txt', 'r') as file:\n",
    "    labels = file.read().splitlines()"
   ],
   "outputs": [],
   "execution_count": null
  },
  {
   "cell_type": "code",
   "id": "4ccd79dd",
   "metadata": {
    "execution": {
     "iopub.execute_input": "2025-03-12T16:49:42.634664Z",
     "iopub.status.busy": "2025-03-12T16:49:42.634424Z",
     "iopub.status.idle": "2025-03-12T16:49:42.639566Z",
     "shell.execute_reply": "2025-03-12T16:49:42.638727Z"
    },
    "papermill": {
     "duration": 0.022973,
     "end_time": "2025-03-12T16:49:42.640801",
     "exception": false,
     "start_time": "2025-03-12T16:49:42.617828",
     "status": "completed"
    },
    "tags": []
   },
   "source": [
    "len(labels)"
   ],
   "outputs": [],
   "execution_count": null
  },
  {
   "cell_type": "markdown",
   "id": "0da61af1",
   "metadata": {
    "papermill": {
     "duration": 0.015585,
     "end_time": "2025-03-12T16:49:42.672540",
     "exception": false,
     "start_time": "2025-03-12T16:49:42.656955",
     "status": "completed"
    },
    "tags": []
   },
   "source": [
    "<h3> Loading Function"
   ]
  },
  {
   "cell_type": "code",
   "id": "cd50dcef",
   "metadata": {
    "execution": {
     "iopub.execute_input": "2025-03-12T16:49:42.705052Z",
     "iopub.status.busy": "2025-03-12T16:49:42.704854Z",
     "iopub.status.idle": "2025-03-12T16:49:42.712996Z",
     "shell.execute_reply": "2025-03-12T16:49:42.712208Z"
    },
    "papermill": {
     "duration": 0.025719,
     "end_time": "2025-03-12T16:49:42.714131",
     "exception": false,
     "start_time": "2025-03-12T16:49:42.688412",
     "status": "completed"
    },
    "tags": []
   },
   "source": [
    "def load_data(split, labels=None, max_labels=None, max_samples=None, landmarks=None, keys=None):\n",
    "\n",
    "    if landmarks is None:\n",
    "        landmarks = list(range(landmarks_dict['0'].shape[1]))\n",
    "\n",
    "    if keys is None:\n",
    "        keys = [k for k in landmarks_dict.keys()]\n",
    "\n",
    "    if labels is not None:\n",
    "        X = [landmarks_dict[k][:, landmarks, :] for k in keys\n",
    "             if data[int(k)]['split'] == split and data[int(k)]['gloss'] in labels]\n",
    "        Y = [data[int(k)]['gloss'] for k in keys\n",
    "             if data[int(k)]['split'] == split and data[int(k)]['gloss'] in labels]\n",
    "\n",
    "    elif max_samples is not None:\n",
    "        X = [landmarks_dict[k][:, landmarks, :] for k in keys\n",
    "             if data[int(k)]['split'] == split][:max_samples]\n",
    "        Y = [data[int(k)]['gloss'] for k in keys\n",
    "             if data[int(k)]['split'] == split][:max_samples]\n",
    "\n",
    "    elif max_labels is not None:\n",
    "        label_counts = {}\n",
    "        for k in keys:\n",
    "            label = data[int(k)]['gloss']\n",
    "            label_counts[label] = label_counts.get(label, 0) + 1\n",
    "\n",
    "        top_labels = sorted(label_counts, key=label_counts.get, reverse=True)[:max_labels]\n",
    "        X = [landmarks_dict[k][:, landmarks, :] for k in keys\n",
    "             if data[int(k)]['gloss'] in top_labels and data[int(k)]['split'] == split]\n",
    "        Y = [data[int(k)]['gloss'] for k in keys\n",
    "             if data[int(k)]['gloss'] in top_labels and data[int(k)]['split'] == split]\n",
    "\n",
    "    else:\n",
    "        X = [landmarks_dict[k][:, landmarks, :] for k in keys\n",
    "             if data[int(k)]['split'] == split]\n",
    "        Y = [data[int(k)]['gloss'] for k in keys\n",
    "             if data[int(k)]['split'] == split]\n",
    "\n",
    "    return X, Y"
   ],
   "outputs": [],
   "execution_count": null
  },
  {
   "cell_type": "code",
   "id": "5c6a3f48",
   "metadata": {
    "execution": {
     "iopub.execute_input": "2025-03-12T16:49:42.746975Z",
     "iopub.status.busy": "2025-03-12T16:49:42.746704Z",
     "iopub.status.idle": "2025-03-12T16:50:36.951158Z",
     "shell.execute_reply": "2025-03-12T16:50:36.950431Z"
    },
    "papermill": {
     "duration": 54.222682,
     "end_time": "2025-03-12T16:50:36.952748",
     "exception": false,
     "start_time": "2025-03-12T16:49:42.730066",
     "status": "completed"
    },
    "tags": []
   },
   "source": [
    "X_train, Y_train = load_data('train', landmarks=landmarks, labels=labels)\n",
    "X_val, Y_val = load_data('val', landmarks=landmarks, labels=labels)\n",
    "X_test, Y_test = load_data('test', landmarks=landmarks, labels=labels)"
   ],
   "outputs": [],
   "execution_count": null
  },
  {
   "cell_type": "code",
   "id": "7b658244",
   "metadata": {
    "execution": {
     "iopub.execute_input": "2025-03-12T16:50:36.986198Z",
     "iopub.status.busy": "2025-03-12T16:50:36.985965Z",
     "iopub.status.idle": "2025-03-12T16:50:36.990459Z",
     "shell.execute_reply": "2025-03-12T16:50:36.989665Z"
    },
    "papermill": {
     "duration": 0.022332,
     "end_time": "2025-03-12T16:50:36.991794",
     "exception": false,
     "start_time": "2025-03-12T16:50:36.969462",
     "status": "completed"
    },
    "tags": []
   },
   "source": [
    "len(X_train), len(X_val), len(X_test)"
   ],
   "outputs": [],
   "execution_count": null
  },
  {
   "cell_type": "code",
   "id": "2d65b0db",
   "metadata": {
    "execution": {
     "iopub.execute_input": "2025-03-12T16:50:37.065702Z",
     "iopub.status.busy": "2025-03-12T16:50:37.065410Z",
     "iopub.status.idle": "2025-03-12T16:50:37.070037Z",
     "shell.execute_reply": "2025-03-12T16:50:37.069224Z"
    },
    "papermill": {
     "duration": 0.063338,
     "end_time": "2025-03-12T16:50:37.071191",
     "exception": false,
     "start_time": "2025-03-12T16:50:37.007853",
     "status": "completed"
    },
    "tags": []
   },
   "source": [
    "X_train[0].shape"
   ],
   "outputs": [],
   "execution_count": null
  },
  {
   "cell_type": "code",
   "id": "365172f6",
   "metadata": {
    "execution": {
     "iopub.execute_input": "2025-03-12T16:50:37.104092Z",
     "iopub.status.busy": "2025-03-12T16:50:37.103822Z",
     "iopub.status.idle": "2025-03-12T16:50:37.110808Z",
     "shell.execute_reply": "2025-03-12T16:50:37.110050Z"
    },
    "papermill": {
     "duration": 0.024649,
     "end_time": "2025-03-12T16:50:37.111992",
     "exception": false,
     "start_time": "2025-03-12T16:50:37.087343",
     "status": "completed"
    },
    "tags": []
   },
   "source": [
    "len(np.unique(Y_train)), len(np.unique(Y_val)), len(np.unique(Y_test))"
   ],
   "outputs": [],
   "execution_count": null
  },
  {
   "cell_type": "code",
   "id": "55d1da43",
   "metadata": {
    "execution": {
     "iopub.execute_input": "2025-03-12T16:50:37.145080Z",
     "iopub.status.busy": "2025-03-12T16:50:37.144803Z",
     "iopub.status.idle": "2025-03-12T16:50:37.154619Z",
     "shell.execute_reply": "2025-03-12T16:50:37.153920Z"
    },
    "papermill": {
     "duration": 0.027871,
     "end_time": "2025-03-12T16:50:37.155910",
     "exception": false,
     "start_time": "2025-03-12T16:50:37.128039",
     "status": "completed"
    },
    "tags": []
   },
   "source": [
    "np.all(np.in1d(np.unique(Y_val), np.unique(Y_train))),\\\n",
    "np.all(np.in1d(np.unique(Y_test), np.unique(Y_train)))"
   ],
   "outputs": [],
   "execution_count": null
  },
  {
   "cell_type": "code",
   "id": "2fcab4d0",
   "metadata": {
    "execution": {
     "iopub.execute_input": "2025-03-12T16:50:37.189083Z",
     "iopub.status.busy": "2025-03-12T16:50:37.188881Z",
     "iopub.status.idle": "2025-03-12T16:50:37.380543Z",
     "shell.execute_reply": "2025-03-12T16:50:37.379870Z"
    },
    "papermill": {
     "duration": 0.209608,
     "end_time": "2025-03-12T16:50:37.381786",
     "exception": false,
     "start_time": "2025-03-12T16:50:37.172178",
     "status": "completed"
    },
    "tags": []
   },
   "source": [
    "# free space\n",
    "del landmarks_dict, data\n",
    "gc.collect()"
   ],
   "outputs": [],
   "execution_count": null
  },
  {
   "cell_type": "markdown",
   "id": "e11473e8",
   "metadata": {
    "papermill": {
     "duration": 0.016254,
     "end_time": "2025-03-12T16:50:37.414751",
     "exception": false,
     "start_time": "2025-03-12T16:50:37.398497",
     "status": "completed"
    },
    "tags": []
   },
   "source": [
    "---"
   ]
  },
  {
   "cell_type": "markdown",
   "id": "96eb732a",
   "metadata": {
    "papermill": {
     "duration": 0.016005,
     "end_time": "2025-03-12T16:50:37.447032",
     "exception": false,
     "start_time": "2025-03-12T16:50:37.431027",
     "status": "completed"
    },
    "tags": []
   },
   "source": [
    "<div id=\"Data_Augmentation\">\n",
    "    \n",
    "# **Data Augmentation**"
   ]
  },
  {
   "cell_type": "markdown",
   "id": "71be7932",
   "metadata": {
    "papermill": {
     "duration": 0.016017,
     "end_time": "2025-03-12T16:50:37.479144",
     "exception": false,
     "start_time": "2025-03-12T16:50:37.463127",
     "status": "completed"
    },
    "tags": []
   },
   "source": [
    "<h3> Rotation Augmentations"
   ]
  },
  {
   "cell_type": "code",
   "id": "3bb38349",
   "metadata": {
    "execution": {
     "iopub.execute_input": "2025-03-12T16:50:37.512218Z",
     "iopub.status.busy": "2025-03-12T16:50:37.511960Z",
     "iopub.status.idle": "2025-03-12T16:50:37.519887Z",
     "shell.execute_reply": "2025-03-12T16:50:37.519239Z"
    },
    "papermill": {
     "duration": 0.025896,
     "end_time": "2025-03-12T16:50:37.521102",
     "exception": false,
     "start_time": "2025-03-12T16:50:37.495206",
     "status": "completed"
    },
    "tags": []
   },
   "source": [
    "def rotate(data, rotation_matrix):\n",
    "    frames, landmarks, _ = data.shape\n",
    "    center = np.array([0.5, 0.5, 0])\n",
    "    non_zero = np.argwhere(np.any(data[:, :, :2] != 0, axis=2))\n",
    "    data = data.reshape(-1, 3)\n",
    "    data[non_zero] -= center\n",
    "    data[non_zero] = np.dot(data[non_zero], rotation_matrix.T)\n",
    "    data[non_zero] += center\n",
    "    data = data.reshape(frames, landmarks, 3)\n",
    "    out_of_range = np.any((data[:, :, :2] < 0) | (data[:, :, :2] > 1), axis=2)\n",
    "    data[out_of_range] = 0\n",
    "    return data\n",
    "\n",
    "def rotate_z(data):\n",
    "    angle = np.random.choice([np.random.uniform(-30, -10),\n",
    "                              np.random.uniform(10, 30)])\n",
    "    theta = np.radians(angle)\n",
    "    rotation_matrix = np.array([\n",
    "        [np.cos(theta), -np.sin(theta), 0],\n",
    "        [np.sin(theta), np.cos(theta), 0],\n",
    "        [0, 0, 1]\n",
    "    ])\n",
    "    return rotate(data, rotation_matrix)\n",
    "\n",
    "def rotate_y(data):\n",
    "    angle = np.random.choice([np.random.uniform(-30, -10),\n",
    "                              np.random.uniform(10, 30)])\n",
    "    theta = np.radians(angle)\n",
    "    rotation_matrix = np.array([\n",
    "        [np.cos(theta), 0, np.sin(theta)],\n",
    "        [0, 1, 0],\n",
    "        [-np.sin(theta), 0, np.cos(theta)]\n",
    "    ])\n",
    "    return rotate(data, rotation_matrix)\n",
    "\n",
    "def rotate_x(data):\n",
    "    angle = np.random.choice([np.random.uniform(-30, -10),\n",
    "                              np.random.uniform(10, 30)])\n",
    "    theta = np.radians(angle)\n",
    "    rotation_matrix = np.array([\n",
    "        [1, 0, 0],\n",
    "        [0, np.cos(theta), -np.sin(theta)],\n",
    "        [0, np.sin(theta), np.cos(theta)]\n",
    "    ])\n",
    "    return rotate(data, rotation_matrix)"
   ],
   "outputs": [],
   "execution_count": null
  },
  {
   "cell_type": "markdown",
   "id": "22a1449b",
   "metadata": {
    "papermill": {
     "duration": 0.01596,
     "end_time": "2025-03-12T16:50:37.553132",
     "exception": false,
     "start_time": "2025-03-12T16:50:37.537172",
     "status": "completed"
    },
    "tags": []
   },
   "source": [
    "<h3> Other Augmentations"
   ]
  },
  {
   "cell_type": "code",
   "id": "9e9dc636",
   "metadata": {
    "execution": {
     "iopub.execute_input": "2025-03-12T16:50:37.586326Z",
     "iopub.status.busy": "2025-03-12T16:50:37.586119Z",
     "iopub.status.idle": "2025-03-12T16:50:37.593218Z",
     "shell.execute_reply": "2025-03-12T16:50:37.592622Z"
    },
    "papermill": {
     "duration": 0.025081,
     "end_time": "2025-03-12T16:50:37.594308",
     "exception": false,
     "start_time": "2025-03-12T16:50:37.569227",
     "status": "completed"
    },
    "tags": []
   },
   "source": [
    "def zoom(data):\n",
    "    factor = np.random.uniform(0.8, 1.2)\n",
    "    center = np.array([0.5, 0.5])\n",
    "    non_zero = np.argwhere(np.any(data[:, :, :2] != 0, axis=2))\n",
    "    data[non_zero[:, 0], non_zero[:, 1], :2] = (\n",
    "        (data[non_zero[:, 0], non_zero[:, 1], :2] - center) * factor + center\n",
    "    )\n",
    "    out_of_range = np.any((data[:, :, :2] < 0) | (data[:, :, :2] > 1), axis=2)\n",
    "    data[out_of_range] = 0\n",
    "    return data\n",
    "\n",
    "def shift(data):\n",
    "    x_shift = np.random.uniform(-0.2, 0.2)\n",
    "    y_shift = np.random.uniform(-0.2, 0.2)\n",
    "    non_zero = np.argwhere(np.any(data[:, :, :2] != 0, axis=2))\n",
    "    data[non_zero[:, 0], non_zero[:, 1], 0] += x_shift\n",
    "    data[non_zero[:, 0], non_zero[:, 1], 1] += y_shift\n",
    "    out_of_range = np.any((data[:, :, :2] < 0) | (data[:, :, :2] > 1), axis=2)\n",
    "    data[out_of_range] = 0\n",
    "    return data\n",
    "\n",
    "def mask(data):\n",
    "    frames, landmarks, _ = data.shape\n",
    "    num_hands = int(0.3 * 42)\n",
    "    num_rest = int(0.6 * (landmarks - 42))\n",
    "\n",
    "    mask = np.zeros(landmarks, dtype=bool)\n",
    "    indices = np.concatenate([\n",
    "        np.random.choice(42, num_hands, replace=False),\n",
    "        np.random.choice(landmarks - 42, num_rest, replace=False) + 42\n",
    "    ])\n",
    "    mask[indices] = True\n",
    "    data[:, mask] = 0\n",
    "    return data\n",
    "\n",
    "def hflip(data):\n",
    "    data[:, :, 0] = 1 - data[:, :, 0]\n",
    "    return data\n",
    "\n",
    "def speedup(data):\n",
    "    return data[::2]"
   ],
   "outputs": [],
   "execution_count": null
  },
  {
   "cell_type": "markdown",
   "id": "e2e00104",
   "metadata": {
    "papermill": {
     "duration": 0.016508,
     "end_time": "2025-03-12T16:50:37.627125",
     "exception": false,
     "start_time": "2025-03-12T16:50:37.610617",
     "status": "completed"
    },
    "tags": []
   },
   "source": [
    "<h3> Apply Augmentations"
   ]
  },
  {
   "cell_type": "code",
   "id": "fd4e095d",
   "metadata": {
    "execution": {
     "iopub.execute_input": "2025-03-12T16:50:37.660462Z",
     "iopub.status.busy": "2025-03-12T16:50:37.660237Z",
     "iopub.status.idle": "2025-03-12T16:50:37.663959Z",
     "shell.execute_reply": "2025-03-12T16:50:37.663357Z"
    },
    "papermill": {
     "duration": 0.021893,
     "end_time": "2025-03-12T16:50:37.665281",
     "exception": false,
     "start_time": "2025-03-12T16:50:37.643388",
     "status": "completed"
    },
    "tags": []
   },
   "source": [
    "def apply_augmentations(data):\n",
    "    aug_functions = [rotate_x, rotate_y, rotate_z, zoom, shift, mask, hflip, speedup]\n",
    "    np.random.shuffle(aug_functions)\n",
    "    counter = 0\n",
    "    for fun in aug_functions:\n",
    "        if np.random.rand() < 0.5:\n",
    "            data = fun(data)\n",
    "            counter += 1\n",
    "\n",
    "    if counter == 0:\n",
    "        data = apply_augmentations(data)\n",
    "\n",
    "    return data"
   ],
   "outputs": [],
   "execution_count": null
  },
  {
   "cell_type": "code",
   "id": "98c59ef8",
   "metadata": {
    "execution": {
     "iopub.execute_input": "2025-03-12T16:50:37.699110Z",
     "iopub.status.busy": "2025-03-12T16:50:37.698883Z",
     "iopub.status.idle": "2025-03-12T16:50:37.703502Z",
     "shell.execute_reply": "2025-03-12T16:50:37.702742Z"
    },
    "papermill": {
     "duration": 0.022769,
     "end_time": "2025-03-12T16:50:37.704649",
     "exception": false,
     "start_time": "2025-03-12T16:50:37.681880",
     "status": "completed"
    },
    "tags": []
   },
   "source": [
    "def augment(X, Y, num=None):\n",
    "    X_aug = X.copy()\n",
    "    Y_aug = Y.copy()\n",
    "\n",
    "    if num == None:\n",
    "        for i in tqdm(range(len(Y)), ncols=100):\n",
    "            num_aug = np.random.choice([1, 2, 3])\n",
    "            for n in range(num_aug):\n",
    "                X_aug.append(apply_augmentations(X[i].copy()))\n",
    "                Y_aug.append(Y[i])\n",
    "    elif num > 0:\n",
    "        for i in tqdm(range(len(Y)), ncols=100):\n",
    "            for n in range(num):\n",
    "                X_aug.append(apply_augmentations(X[i].copy()))\n",
    "                Y_aug.append(Y[i])\n",
    "\n",
    "    return X_aug, Y_aug"
   ],
   "outputs": [],
   "execution_count": null
  },
  {
   "cell_type": "code",
   "id": "e8242fbb",
   "metadata": {
    "execution": {
     "iopub.execute_input": "2025-03-12T16:50:37.739598Z",
     "iopub.status.busy": "2025-03-12T16:50:37.739374Z",
     "iopub.status.idle": "2025-03-12T16:51:03.024354Z",
     "shell.execute_reply": "2025-03-12T16:51:03.023389Z"
    },
    "papermill": {
     "duration": 25.304438,
     "end_time": "2025-03-12T16:51:03.025752",
     "exception": false,
     "start_time": "2025-03-12T16:50:37.721314",
     "status": "completed"
    },
    "tags": []
   },
   "source": [
    "X_train, Y_train = augment(X_train, Y_train, num=1)"
   ],
   "outputs": [],
   "execution_count": null
  },
  {
   "cell_type": "code",
   "id": "1b5f0c64",
   "metadata": {
    "execution": {
     "iopub.execute_input": "2025-03-12T16:51:03.080103Z",
     "iopub.status.busy": "2025-03-12T16:51:03.079770Z",
     "iopub.status.idle": "2025-03-12T16:51:03.084927Z",
     "shell.execute_reply": "2025-03-12T16:51:03.084110Z"
    },
    "papermill": {
     "duration": 0.032997,
     "end_time": "2025-03-12T16:51:03.086215",
     "exception": false,
     "start_time": "2025-03-12T16:51:03.053218",
     "status": "completed"
    },
    "tags": []
   },
   "source": [
    "len(X_train), len(X_train[0]), len(X_train[0][0]), len(X_train[0][0][0])"
   ],
   "outputs": [],
   "execution_count": null
  },
  {
   "cell_type": "code",
   "id": "2705be85",
   "metadata": {
    "execution": {
     "iopub.execute_input": "2025-03-12T16:51:03.138979Z",
     "iopub.status.busy": "2025-03-12T16:51:03.138760Z",
     "iopub.status.idle": "2025-03-12T16:51:03.327622Z",
     "shell.execute_reply": "2025-03-12T16:51:03.326913Z"
    },
    "papermill": {
     "duration": 0.216779,
     "end_time": "2025-03-12T16:51:03.328822",
     "exception": false,
     "start_time": "2025-03-12T16:51:03.112043",
     "status": "completed"
    },
    "tags": []
   },
   "source": [
    "# free space\n",
    "gc.collect()"
   ],
   "outputs": [],
   "execution_count": null
  },
  {
   "cell_type": "markdown",
   "id": "bffcefb3",
   "metadata": {
    "papermill": {
     "duration": 0.025906,
     "end_time": "2025-03-12T16:51:03.381866",
     "exception": false,
     "start_time": "2025-03-12T16:51:03.355960",
     "status": "completed"
    },
    "tags": []
   },
   "source": [
    "<h3> Data Permutation"
   ]
  },
  {
   "cell_type": "code",
   "id": "81774e2c",
   "metadata": {
    "execution": {
     "iopub.execute_input": "2025-03-12T16:51:03.435033Z",
     "iopub.status.busy": "2025-03-12T16:51:03.434734Z",
     "iopub.status.idle": "2025-03-12T16:51:03.442722Z",
     "shell.execute_reply": "2025-03-12T16:51:03.441917Z"
    },
    "papermill": {
     "duration": 0.036146,
     "end_time": "2025-03-12T16:51:03.444106",
     "exception": false,
     "start_time": "2025-03-12T16:51:03.407960",
     "status": "completed"
    },
    "tags": []
   },
   "source": [
    "permutation_train = list(range(len(Y_train)))\n",
    "np.random.shuffle(permutation_train)\n",
    "X_train = [X_train[i] for i in permutation_train]\n",
    "Y_train = [Y_train[i] for i in permutation_train]\n",
    "\n",
    "permutation_val = list(range(len(Y_val)))\n",
    "np.random.shuffle(permutation_val)\n",
    "X_val = [X_val[i] for i in permutation_val]\n",
    "Y_val = [Y_val[i] for i in permutation_val]\n",
    "\n",
    "permutation_test = list(range(len(Y_test)))\n",
    "np.random.shuffle(permutation_test)\n",
    "X_test = [X_test[i] for i in permutation_test]\n",
    "Y_test = [Y_test[i] for i in permutation_test]"
   ],
   "outputs": [],
   "execution_count": null
  },
  {
   "cell_type": "markdown",
   "id": "1d3a67b3",
   "metadata": {
    "papermill": {
     "duration": 0.025756,
     "end_time": "2025-03-12T16:51:03.495812",
     "exception": false,
     "start_time": "2025-03-12T16:51:03.470056",
     "status": "completed"
    },
    "tags": []
   },
   "source": [
    "---"
   ]
  },
  {
   "cell_type": "markdown",
   "id": "ac0dd3c3",
   "metadata": {
    "papermill": {
     "duration": 0.025596,
     "end_time": "2025-03-12T16:51:03.547209",
     "exception": false,
     "start_time": "2025-03-12T16:51:03.521613",
     "status": "completed"
    },
    "tags": []
   },
   "source": [
    "<div id=\"Data_Preprocessing\">\n",
    "    \n",
    "# **Data Preprocessing**"
   ]
  },
  {
   "cell_type": "markdown",
   "id": "db62cb50",
   "metadata": {
    "papermill": {
     "duration": 0.025827,
     "end_time": "2025-03-12T16:51:03.598760",
     "exception": false,
     "start_time": "2025-03-12T16:51:03.572933",
     "status": "completed"
    },
    "tags": []
   },
   "source": [
    "<h3>\n",
    "    \n",
    "**Method 1:** Sequencing"
   ]
  },
  {
   "cell_type": "code",
   "id": "753ecfc7",
   "metadata": {
    "execution": {
     "iopub.execute_input": "2025-03-12T16:51:03.651782Z",
     "iopub.status.busy": "2025-03-12T16:51:03.651492Z",
     "iopub.status.idle": "2025-03-12T16:51:03.656823Z",
     "shell.execute_reply": "2025-03-12T16:51:03.656209Z"
    },
    "papermill": {
     "duration": 0.03313,
     "end_time": "2025-03-12T16:51:03.658031",
     "exception": false,
     "start_time": "2025-03-12T16:51:03.624901",
     "status": "completed"
    },
    "tags": []
   },
   "source": [
    "def sequences(X, Y, length=30, step=1, pad=0):\n",
    "    X_sequences = []\n",
    "    Y_sequences = []\n",
    "\n",
    "    for inputs, label in zip(X, Y, strict=False):\n",
    "        num = inputs.shape[0]\n",
    "\n",
    "        if num < length:\n",
    "            padding = length - num\n",
    "            inputs = np.pad(\n",
    "            inputs, ((0, padding), (0, 0), (0, 0)),\n",
    "            mode='constant', constant_values=pad\n",
    "            )\n",
    "            num = length\n",
    "\n",
    "        for start in range(0, num - length + 1, step):\n",
    "            end = start + length\n",
    "            sequence = inputs[start:end]\n",
    "            X_sequences.append(sequence)\n",
    "            Y_sequences.append(label)\n",
    "\n",
    "    X_sequences = np.array(X_sequences)\n",
    "    Y_sequences = np.array(Y_sequences)\n",
    "    return X_sequences, Y_sequences"
   ],
   "outputs": [],
   "execution_count": null
  },
  {
   "cell_type": "code",
   "id": "0f8a46b5",
   "metadata": {
    "execution": {
     "iopub.execute_input": "2025-03-12T16:51:03.710430Z",
     "iopub.status.busy": "2025-03-12T16:51:03.710228Z",
     "iopub.status.idle": "2025-03-12T16:51:06.300624Z",
     "shell.execute_reply": "2025-03-12T16:51:06.299917Z"
    },
    "papermill": {
     "duration": 2.618301,
     "end_time": "2025-03-12T16:51:06.302259",
     "exception": false,
     "start_time": "2025-03-12T16:51:03.683958",
     "status": "completed"
    },
    "tags": []
   },
   "source": [
    "X_train, Y_train = sequences(X_train, Y_train, length=60, step=20, pad=-100)\n",
    "X_val, Y_val = sequences(X_val, Y_val, length=60, step=20, pad=-100)\n",
    "X_test, Y_test = sequences(X_test, Y_test, length=60, step=20, pad=-100)"
   ],
   "outputs": [],
   "execution_count": null
  },
  {
   "cell_type": "code",
   "id": "f564fa04",
   "metadata": {
    "execution": {
     "iopub.execute_input": "2025-03-12T16:51:06.355951Z",
     "iopub.status.busy": "2025-03-12T16:51:06.355644Z",
     "iopub.status.idle": "2025-03-12T16:51:06.360427Z",
     "shell.execute_reply": "2025-03-12T16:51:06.359618Z"
    },
    "papermill": {
     "duration": 0.032637,
     "end_time": "2025-03-12T16:51:06.361735",
     "exception": false,
     "start_time": "2025-03-12T16:51:06.329098",
     "status": "completed"
    },
    "tags": []
   },
   "source": [
    "X_train.shape, X_val.shape, X_test.shape"
   ],
   "outputs": [],
   "execution_count": null
  },
  {
   "cell_type": "markdown",
   "id": "eed9777f",
   "metadata": {
    "papermill": {
     "duration": 0.026043,
     "end_time": "2025-03-12T16:51:06.414047",
     "exception": false,
     "start_time": "2025-03-12T16:51:06.388004",
     "status": "completed"
    },
    "tags": []
   },
   "source": [
    "<h3>\n",
    "    \n",
    "**Method 2:** Padding"
   ]
  },
  {
   "cell_type": "code",
   "id": "8cd9f003",
   "metadata": {
    "execution": {
     "iopub.execute_input": "2025-03-12T16:51:06.466814Z",
     "iopub.status.busy": "2025-03-12T16:51:06.466530Z",
     "iopub.status.idle": "2025-03-12T16:51:06.471304Z",
     "shell.execute_reply": "2025-03-12T16:51:06.470649Z"
    },
    "papermill": {
     "duration": 0.032617,
     "end_time": "2025-03-12T16:51:06.472497",
     "exception": false,
     "start_time": "2025-03-12T16:51:06.439880",
     "status": "completed"
    },
    "tags": []
   },
   "source": [
    "def padding(X, Y, length=None, pad=0):\n",
    "    if length is None:\n",
    "        length = max(len(x) for x in X)\n",
    "\n",
    "    X_padded = []\n",
    "    for x in X:\n",
    "        if len(x) > length:\n",
    "            X_padded.append(x[:length]) #truncate\n",
    "        else:\n",
    "            pad_length = length - len(x)\n",
    "            X_padded.append(np.pad(\n",
    "                x, ((0, pad_length), (0, 0), (0, 0)),\n",
    "                mode='constant', constant_values=pad\n",
    "            ))\n",
    "\n",
    "    X_padded = np.array(X_padded)\n",
    "#     Y = np.array(Y)\n",
    "    return X_padded, Y"
   ],
   "outputs": [],
   "execution_count": null
  },
  {
   "cell_type": "code",
   "id": "a91a1b4d",
   "metadata": {
    "execution": {
     "iopub.execute_input": "2025-03-12T16:51:06.525686Z",
     "iopub.status.busy": "2025-03-12T16:51:06.525458Z",
     "iopub.status.idle": "2025-03-12T16:51:13.297667Z",
     "shell.execute_reply": "2025-03-12T16:51:13.296923Z"
    },
    "papermill": {
     "duration": 6.801006,
     "end_time": "2025-03-12T16:51:13.299367",
     "exception": false,
     "start_time": "2025-03-12T16:51:06.498361",
     "status": "completed"
    },
    "tags": []
   },
   "source": [
    "X_train, Y_train = padding(X_train, Y_train, length=200, pad=-100)\n",
    "X_val, Y_val = padding(X_val, Y_val, length=200, pad=-100)\n",
    "X_test, Y_test = padding(X_test, Y_test, length=200, pad=-100)"
   ],
   "outputs": [],
   "execution_count": null
  },
  {
   "cell_type": "code",
   "id": "14fe00fa",
   "metadata": {
    "execution": {
     "iopub.execute_input": "2025-03-12T16:51:13.354822Z",
     "iopub.status.busy": "2025-03-12T16:51:13.354567Z",
     "iopub.status.idle": "2025-03-12T16:51:13.359249Z",
     "shell.execute_reply": "2025-03-12T16:51:13.358469Z"
    },
    "papermill": {
     "duration": 0.03242,
     "end_time": "2025-03-12T16:51:13.360455",
     "exception": false,
     "start_time": "2025-03-12T16:51:13.328035",
     "status": "completed"
    },
    "tags": []
   },
   "source": [
    "X_train.shape, X_val.shape, X_test.shape"
   ],
   "outputs": [],
   "execution_count": null
  },
  {
   "cell_type": "markdown",
   "id": "7f5d3a8d",
   "metadata": {
    "papermill": {
     "duration": 0.026039,
     "end_time": "2025-03-12T16:51:13.412831",
     "exception": false,
     "start_time": "2025-03-12T16:51:13.386792",
     "status": "completed"
    },
    "tags": []
   },
   "source": [
    "<h3>\n",
    "    \n",
    "**Method 3:** Skipping & Cloning"
   ]
  },
  {
   "cell_type": "code",
   "id": "7d644d57",
   "metadata": {
    "execution": {
     "iopub.execute_input": "2025-03-12T16:51:13.466245Z",
     "iopub.status.busy": "2025-03-12T16:51:13.466011Z",
     "iopub.status.idle": "2025-03-12T16:51:13.472275Z",
     "shell.execute_reply": "2025-03-12T16:51:13.471332Z"
    },
    "papermill": {
     "duration": 0.034337,
     "end_time": "2025-03-12T16:51:13.473503",
     "exception": false,
     "start_time": "2025-03-12T16:51:13.439166",
     "status": "completed"
    },
    "tags": []
   },
   "source": [
    "def skipping(landmarks, desired_frames,mode='floor'):\n",
    "    frames_num = landmarks.shape[0]\n",
    "    if mode == 'floor':\n",
    "        skip_factor = math.floor(frames_num / desired_frames)\n",
    "    elif mode == 'ceil':\n",
    "        skip_factor = math.ceil(frames_num / desired_frames)\n",
    "    skipped_landmarks = []\n",
    "\n",
    "    for i in range(0, frames_num, skip_factor):\n",
    "        skipped_landmarks.append(landmarks[i])\n",
    "        if len(skipped_landmarks)==desired_frames:\n",
    "            break\n",
    "\n",
    "    return np.array(skipped_landmarks)\n",
    "\n",
    "# Test\n",
    "skip_test = np.zeros((90, 180, 3))\n",
    "result_1 = skipping(skip_test, 60)\n",
    "result_2 = skipping(skip_test, 60,'ceil')\n",
    "print(result_1.shape)\n",
    "print(result_2.shape)"
   ],
   "outputs": [],
   "execution_count": null
  },
  {
   "cell_type": "code",
   "id": "c7964f7e",
   "metadata": {
    "execution": {
     "iopub.execute_input": "2025-03-12T16:51:13.526571Z",
     "iopub.status.busy": "2025-03-12T16:51:13.526348Z",
     "iopub.status.idle": "2025-03-12T16:51:13.531159Z",
     "shell.execute_reply": "2025-03-12T16:51:13.530512Z"
    },
    "papermill": {
     "duration": 0.032554,
     "end_time": "2025-03-12T16:51:13.532354",
     "exception": false,
     "start_time": "2025-03-12T16:51:13.499800",
     "status": "completed"
    },
    "tags": []
   },
   "source": [
    "def cloning(landmarks, desired_frames):\n",
    "\n",
    "    frames_num = landmarks.shape[0]\n",
    "    repeat_factor = math.ceil(desired_frames / frames_num)\n",
    "\n",
    "    cloned_list = np.repeat(landmarks, repeat_factor, axis=0)\n",
    "    cloned_list = cloned_list[:desired_frames]\n",
    "    return cloned_list\n",
    "\n",
    "# Test\n",
    "clone_test = np.random.random((29, 180, 3))\n",
    "result = cloning(clone_test, 60)\n",
    "print(result.shape)"
   ],
   "outputs": [],
   "execution_count": null
  },
  {
   "cell_type": "code",
   "id": "fe9dbada",
   "metadata": {
    "execution": {
     "iopub.execute_input": "2025-03-12T16:51:13.585141Z",
     "iopub.status.busy": "2025-03-12T16:51:13.584896Z",
     "iopub.status.idle": "2025-03-12T16:51:13.588869Z",
     "shell.execute_reply": "2025-03-12T16:51:13.588185Z"
    },
    "papermill": {
     "duration": 0.031963,
     "end_time": "2025-03-12T16:51:13.590110",
     "exception": false,
     "start_time": "2025-03-12T16:51:13.558147",
     "status": "completed"
    },
    "tags": []
   },
   "source": [
    "def clone_skip(landmarks_array,desired_frames):\n",
    "    reshaped_landmarks = []\n",
    "    for landmarks in landmarks_array:\n",
    "        frames_number = landmarks.shape[0]\n",
    "\n",
    "        if frames_number == desired_frames:\n",
    "            reshaped_landmarks.append(landmarks)\n",
    "        elif frames_number < desired_frames:\n",
    "            reshaped_landmarks.append(cloning(landmarks,desired_frames))\n",
    "        elif frames_number > desired_frames:\n",
    "            reshaped_landmarks.append(skipping(landmarks,desired_frames))\n",
    "    return np.array(reshaped_landmarks)"
   ],
   "outputs": [],
   "execution_count": null
  },
  {
   "cell_type": "markdown",
   "id": "50a14ad1",
   "metadata": {
    "papermill": {
     "duration": 0.025976,
     "end_time": "2025-03-12T16:51:13.642106",
     "exception": false,
     "start_time": "2025-03-12T16:51:13.616130",
     "status": "completed"
    },
    "tags": []
   },
   "source": [
    "---"
   ]
  },
  {
   "cell_type": "markdown",
   "id": "c6ec857c",
   "metadata": {
    "papermill": {
     "duration": 0.025808,
     "end_time": "2025-03-12T16:51:13.694006",
     "exception": false,
     "start_time": "2025-03-12T16:51:13.668198",
     "status": "completed"
    },
    "tags": []
   },
   "source": [
    "<div id=\"Label_Encoding\">\n",
    "    \n",
    "# **Label Encoding**"
   ]
  },
  {
   "cell_type": "code",
   "id": "328f3d99",
   "metadata": {
    "execution": {
     "iopub.execute_input": "2025-03-12T16:51:13.746937Z",
     "iopub.status.busy": "2025-03-12T16:51:13.746638Z",
     "iopub.status.idle": "2025-03-12T16:51:13.749526Z",
     "shell.execute_reply": "2025-03-12T16:51:13.748911Z"
    },
    "papermill": {
     "duration": 0.030543,
     "end_time": "2025-03-12T16:51:13.750580",
     "exception": false,
     "start_time": "2025-03-12T16:51:13.720037",
     "status": "completed"
    },
    "tags": []
   },
   "source": [
    "# label_encoder = LabelEncoder()\n",
    "\n",
    "# Y_train = label_encoder.fit_transform(Y_train)\n",
    "# Y_val = label_encoder.fit_transform(Y_val)\n",
    "# Y_test = label_encoder.fit_transform(Y_test)"
   ],
   "outputs": [],
   "execution_count": null
  },
  {
   "cell_type": "code",
   "id": "d9930881",
   "metadata": {
    "execution": {
     "iopub.execute_input": "2025-03-12T16:51:13.803093Z",
     "iopub.status.busy": "2025-03-12T16:51:13.802794Z",
     "iopub.status.idle": "2025-03-12T16:51:15.912367Z",
     "shell.execute_reply": "2025-03-12T16:51:15.911655Z"
    },
    "papermill": {
     "duration": 2.137834,
     "end_time": "2025-03-12T16:51:15.914205",
     "exception": false,
     "start_time": "2025-03-12T16:51:13.776371",
     "status": "completed"
    },
    "tags": []
   },
   "source": [
    "Y_train = np.array([labels_dict[label] for label in Y_train])\n",
    "Y_val = np.array([labels_dict[label] for label in Y_val])\n",
    "Y_test = np.array([labels_dict[label] for label in Y_test])"
   ],
   "outputs": [],
   "execution_count": null
  },
  {
   "cell_type": "code",
   "id": "dd4c926d",
   "metadata": {
    "execution": {
     "iopub.execute_input": "2025-03-12T16:51:15.968118Z",
     "iopub.status.busy": "2025-03-12T16:51:15.967809Z",
     "iopub.status.idle": "2025-03-12T16:51:15.972310Z",
     "shell.execute_reply": "2025-03-12T16:51:15.971522Z"
    },
    "papermill": {
     "duration": 0.032449,
     "end_time": "2025-03-12T16:51:15.973576",
     "exception": false,
     "start_time": "2025-03-12T16:51:15.941127",
     "status": "completed"
    },
    "tags": []
   },
   "source": [
    "Y_train.shape"
   ],
   "outputs": [],
   "execution_count": null
  },
  {
   "cell_type": "code",
   "id": "feba2ef4",
   "metadata": {
    "execution": {
     "iopub.execute_input": "2025-03-12T16:51:16.026349Z",
     "iopub.status.busy": "2025-03-12T16:51:16.026152Z",
     "iopub.status.idle": "2025-03-12T16:51:16.212868Z",
     "shell.execute_reply": "2025-03-12T16:51:16.212167Z"
    },
    "papermill": {
     "duration": 0.214417,
     "end_time": "2025-03-12T16:51:16.214096",
     "exception": false,
     "start_time": "2025-03-12T16:51:15.999679",
     "status": "completed"
    },
    "tags": []
   },
   "source": [
    "# free space\n",
    "gc.collect()"
   ],
   "outputs": [],
   "execution_count": null
  },
  {
   "cell_type": "markdown",
   "id": "ef8c4d66",
   "metadata": {
    "papermill": {
     "duration": 0.02647,
     "end_time": "2025-03-12T16:51:16.267260",
     "exception": false,
     "start_time": "2025-03-12T16:51:16.240790",
     "status": "completed"
    },
    "tags": []
   },
   "source": [
    "---"
   ]
  },
  {
   "cell_type": "markdown",
   "id": "77912bd2",
   "metadata": {
    "papermill": {
     "duration": 0.026014,
     "end_time": "2025-03-12T16:51:16.319339",
     "exception": false,
     "start_time": "2025-03-12T16:51:16.293325",
     "status": "completed"
    },
    "tags": []
   },
   "source": [
    "<div id=\"Models\">\n",
    "    \n",
    "# **Models**"
   ]
  },
  {
   "cell_type": "markdown",
   "id": "64dea7ce",
   "metadata": {
    "papermill": {
     "duration": 0.026368,
     "end_time": "2025-03-12T16:51:16.371734",
     "exception": false,
     "start_time": "2025-03-12T16:51:16.345366",
     "status": "completed"
    },
    "tags": []
   },
   "source": [
    "<h2>Kamel's Model"
   ]
  },
  {
   "cell_type": "code",
   "id": "0cec33e9",
   "metadata": {
    "execution": {
     "iopub.execute_input": "2025-03-12T16:51:16.425489Z",
     "iopub.status.busy": "2025-03-12T16:51:16.425210Z",
     "iopub.status.idle": "2025-03-12T16:51:17.435488Z",
     "shell.execute_reply": "2025-03-12T16:51:17.434614Z"
    },
    "papermill": {
     "duration": 1.038658,
     "end_time": "2025-03-12T16:51:17.436954",
     "exception": false,
     "start_time": "2025-03-12T16:51:16.398296",
     "status": "completed"
    },
    "tags": []
   },
   "source": [
    "gc.collect()\n",
    "tf.keras.backend.clear_session()\n",
    "physical_devices = tf.config.list_physical_devices('GPU')\n",
    "for device in physical_devices:\n",
    "    tf.config.experimental.set_memory_growth(device, True)\n",
    "physical_devices"
   ],
   "outputs": [],
   "execution_count": null
  },
  {
   "cell_type": "code",
   "id": "93b51066",
   "metadata": {
    "execution": {
     "iopub.execute_input": "2025-03-12T16:51:17.491122Z",
     "iopub.status.busy": "2025-03-12T16:51:17.490871Z",
     "iopub.status.idle": "2025-03-12T16:51:19.004818Z",
     "shell.execute_reply": "2025-03-12T16:51:19.003917Z"
    },
    "papermill": {
     "duration": 1.542475,
     "end_time": "2025-03-12T16:51:19.006378",
     "exception": false,
     "start_time": "2025-03-12T16:51:17.463903",
     "status": "completed"
    },
    "tags": []
   },
   "source": [
    "model = tf.keras.Sequential([\n",
    "    tf.keras.layers.Masking(mask_value=-100, input_shape=(200, 180, 3)),\n",
    "    tf.keras.layers.Flatten(),\n",
    "\n",
    "    tf.keras.layers.Dense(512, activation='relu'),\n",
    "    tf.keras.layers.BatchNormalization(),\n",
    "    tf.keras.layers.Dropout(rate=0.3),\n",
    "\n",
    "    tf.keras.layers.Dense(512, activation='relu'),\n",
    "    tf.keras.layers.BatchNormalization(),\n",
    "    tf.keras.layers.Dropout(rate=0.3),\n",
    "\n",
    "    tf.keras.layers.Dense(512, activation='relu'),\n",
    "    tf.keras.layers.BatchNormalization(),\n",
    "    tf.keras.layers.Dropout(rate=0.5),\n",
    "\n",
    "    tf.keras.layers.Dense(512, activation='relu'),\n",
    "    tf.keras.layers.BatchNormalization(),\n",
    "    tf.keras.layers.Dropout(rate=0.5),\n",
    "\n",
    "    tf.keras.layers.Dense(300, activation='linear')\n",
    "])"
   ],
   "outputs": [],
   "execution_count": null
  },
  {
   "cell_type": "code",
   "id": "70382a76",
   "metadata": {
    "execution": {
     "iopub.execute_input": "2025-03-12T16:51:19.063589Z",
     "iopub.status.busy": "2025-03-12T16:51:19.063284Z",
     "iopub.status.idle": "2025-03-12T16:51:19.074076Z",
     "shell.execute_reply": "2025-03-12T16:51:19.073194Z"
    },
    "papermill": {
     "duration": 0.041642,
     "end_time": "2025-03-12T16:51:19.075383",
     "exception": false,
     "start_time": "2025-03-12T16:51:19.033741",
     "status": "completed"
    },
    "tags": []
   },
   "source": [
    "lr_scheduler = tf.keras.optimizers.schedules.ExponentialDecay(\n",
    "    initial_learning_rate=0.001,\n",
    "    decay_steps=1000,\n",
    "    decay_rate=0.9\n",
    ")\n",
    "\n",
    "early_stopping = tf.keras.callbacks.EarlyStopping(\n",
    "    monitor='val_loss',\n",
    "    mode='min',\n",
    "    patience=50,\n",
    "    restore_best_weights=True\n",
    ")\n",
    "\n",
    "model.compile(\n",
    "    loss=tf.keras.losses.cosine_similarity,\n",
    "    optimizer=tf.keras.optimizers.Adam(learning_rate=lr_scheduler),\n",
    "    metrics=['mse']\n",
    ")"
   ],
   "outputs": [],
   "execution_count": null
  },
  {
   "cell_type": "code",
   "id": "8227bda6",
   "metadata": {
    "execution": {
     "iopub.execute_input": "2025-03-12T16:51:19.129744Z",
     "iopub.status.busy": "2025-03-12T16:51:19.129516Z",
     "iopub.status.idle": "2025-03-12T17:05:21.078344Z",
     "shell.execute_reply": "2025-03-12T17:05:21.077492Z"
    },
    "papermill": {
     "duration": 841.977986,
     "end_time": "2025-03-12T17:05:21.080080",
     "exception": false,
     "start_time": "2025-03-12T16:51:19.102094",
     "status": "completed"
    },
    "scrolled": true,
    "tags": []
   },
   "source": [
    "hist = model.fit(\n",
    "    X_train, Y_train,\n",
    "    validation_data=(X_val, Y_val),\n",
    "    epochs=1000,\n",
    "    batch_size=128,\n",
    "    callbacks=[early_stopping]\n",
    ")"
   ],
   "outputs": [],
   "execution_count": null
  },
  {
   "cell_type": "code",
   "id": "2379f0c1",
   "metadata": {
    "execution": {
     "iopub.execute_input": "2025-03-12T17:05:22.364296Z",
     "iopub.status.busy": "2025-03-12T17:05:22.363970Z",
     "iopub.status.idle": "2025-03-12T17:05:25.284128Z",
     "shell.execute_reply": "2025-03-12T17:05:25.283244Z"
    },
    "papermill": {
     "duration": 3.532392,
     "end_time": "2025-03-12T17:05:25.285695",
     "exception": false,
     "start_time": "2025-03-12T17:05:21.753303",
     "status": "completed"
    },
    "tags": []
   },
   "source": [
    "# epoch = 90\n",
    "# model.load_weights(f'/kaggle/working/Kamel_Checkpoints/model_{epoch}.h5')\n",
    "test_loss, test_mse = model.evaluate(X_test, Y_test)"
   ],
   "outputs": [],
   "execution_count": null
  },
  {
   "cell_type": "code",
   "id": "775a2a45",
   "metadata": {
    "execution": {
     "iopub.execute_input": "2025-03-12T17:05:26.713679Z",
     "iopub.status.busy": "2025-03-12T17:05:26.713327Z",
     "iopub.status.idle": "2025-03-12T17:05:27.263947Z",
     "shell.execute_reply": "2025-03-12T17:05:27.262939Z"
    },
    "papermill": {
     "duration": 1.297392,
     "end_time": "2025-03-12T17:05:27.265537",
     "exception": false,
     "start_time": "2025-03-12T17:05:25.968145",
     "status": "completed"
    },
    "tags": []
   },
   "source": [
    "train_loss = hist.history['loss']\n",
    "val_loss = hist.history['val_loss']\n",
    "train_mse = hist.history['mse']\n",
    "val_mse = hist.history['val_mse']\n",
    "\n",
    "# Plotting loss\n",
    "plt.figure(figsize=(10, 5))\n",
    "plt.subplot(1, 2, 1)\n",
    "plt.plot(train_loss, 'g', label='Training loss')\n",
    "plt.plot(val_loss, 'b', label='Validation loss')\n",
    "plt.title('Training and Validation Loss')\n",
    "plt.xlabel('Epochs')\n",
    "plt.ylabel('Loss')\n",
    "plt.legend()\n",
    "\n",
    "# Plotting accuracy\n",
    "plt.subplot(1, 2, 2)\n",
    "plt.plot(train_mse, 'g', label='Training Mean Squared Error')\n",
    "plt.plot(val_mse, 'b', label='Validation Mean Squared Error')\n",
    "plt.title('Training and Validation MSE')\n",
    "plt.xlabel('Epochs')\n",
    "plt.ylabel('MSE')\n",
    "plt.legend()\n",
    "\n",
    "plt.tight_layout()\n",
    "plt.show()"
   ],
   "outputs": [],
   "execution_count": null
  },
  {
   "cell_type": "code",
   "id": "353cf214",
   "metadata": {
    "execution": {
     "iopub.execute_input": "2025-03-12T17:05:28.538493Z",
     "iopub.status.busy": "2025-03-12T17:05:28.538134Z",
     "iopub.status.idle": "2025-03-12T17:05:30.286718Z",
     "shell.execute_reply": "2025-03-12T17:05:30.285781Z"
    },
    "papermill": {
     "duration": 2.420014,
     "end_time": "2025-03-12T17:05:30.292471",
     "exception": false,
     "start_time": "2025-03-12T17:05:27.872457",
     "status": "completed"
    },
    "tags": []
   },
   "source": [
    "tf.keras.utils.plot_model(model, to_file='model_plot.png', show_shapes=True, show_layer_names=True)\n",
    "img = plt.imread('model_plot.png')\n",
    "plt.figure(figsize=(40, 30))\n",
    "plt.imshow(img)\n",
    "plt.axis('off')\n",
    "plt.show()"
   ],
   "outputs": [],
   "execution_count": null
  },
  {
   "cell_type": "code",
   "id": "8b9bcc7c",
   "metadata": {
    "execution": {
     "iopub.execute_input": "2025-03-12T17:05:31.635360Z",
     "iopub.status.busy": "2025-03-12T17:05:31.635060Z",
     "iopub.status.idle": "2025-03-12T17:05:36.228148Z",
     "shell.execute_reply": "2025-03-12T17:05:36.227308Z"
    },
    "papermill": {
     "duration": 5.278805,
     "end_time": "2025-03-12T17:05:36.229774",
     "exception": false,
     "start_time": "2025-03-12T17:05:30.950969",
     "status": "completed"
    },
    "tags": []
   },
   "source": [
    "name = '12-14'\n",
    "model_filepath = '/kaggle/working/Kamel_Models'\n",
    "os.makedirs(model_filepath, exist_ok=True)\n",
    "\n",
    "model.save(model_filepath + f'/{name}.keras')\n",
    "model.save(model_filepath + f'/{name}.h5')"
   ],
   "outputs": [],
   "execution_count": null
  }
 ],
 "metadata": {
  "kaggle": {
   "accelerator": "gpu",
   "dataSources": [
    {
     "datasetId": 1589971,
     "sourceId": 2632847,
     "sourceType": "datasetVersion"
    },
    {
     "datasetId": 2747345,
     "sourceId": 4747505,
     "sourceType": "datasetVersion"
    },
    {
     "datasetId": 4069519,
     "sourceId": 7195461,
     "sourceType": "datasetVersion"
    }
   ],
   "isGpuEnabled": true,
   "isInternetEnabled": true,
   "language": "python",
   "sourceType": "notebook"
  },
  "kernelspec": {
   "display_name": "Python 3",
   "language": "python",
   "name": "python3"
  },
  "language_info": {
   "codemirror_mode": {
    "name": "ipython",
    "version": 3
   },
   "file_extension": ".py",
   "mimetype": "text/x-python",
   "name": "python",
   "nbconvert_exporter": "python",
   "pygments_lexer": "ipython3",
   "version": "3.10.12"
  },
  "papermill": {
   "default_parameters": {},
   "duration": 986.840702,
   "end_time": "2025-03-12T17:05:39.664703",
   "environment_variables": {},
   "exception": null,
   "input_path": "__notebook__.ipynb",
   "output_path": "__notebook__.ipynb",
   "parameters": {},
   "start_time": "2025-03-12T16:49:12.824001",
   "version": "2.6.0"
  }
 },
 "nbformat": 4,
 "nbformat_minor": 5
}
