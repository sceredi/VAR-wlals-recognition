{
 "cells": [
  {
   "metadata": {},
   "cell_type": "markdown",
   "source": "# Preprocessing del dataset",
   "id": "1b2988bcbf65828a"
  },
  {
   "metadata": {},
   "cell_type": "markdown",
   "source": "## Import delle librerie",
   "id": "c01882fce7898f62"
  },
  {
   "metadata": {},
   "cell_type": "code",
   "source": [
    "from handcrafted.app.features.plotter.frames_plotter import plot_frames\n",
    "from handcrafted.app.dataset.dataset import Dataset\n",
    "from handcrafted.app.preprocess.roi_extractor import RoiExtractor\n",
    "from handcrafted.app.utilities.utils import create_mp4_video_from_frames\n",
    "\n",
    "import cv2"
   ],
   "id": "4ef173a668ba624e",
   "outputs": [],
   "execution_count": null
  },
  {
   "metadata": {},
   "cell_type": "markdown",
   "source": [
    "## Caricamento del dataset originale\n",
    "Attraverso la classe [Dataset](./handcrafted/app/dataset/dataset.py), vengono caricati, dal file [WLASL_v0.3.json](./data/WLASL_v0.3.json), tutti i video presenti nel dataset. Con il parametro `only_samples` è possibile specificare se caricare tutti i video presenti nella cartella `data/videos` (quelli già preprocessati) o solo un campione (composto da due soli video) presi dal dataset originale, e situati nella cartella `data/original_videos_sample`."
   ],
   "id": "a1c5381213bb3bc0"
  },
  {
   "metadata": {},
   "cell_type": "code",
   "source": [
    "dataset = Dataset(\"data/WLASL_v0.3.json\", only_samples=True)\n",
    "video1 = dataset.videos[0]\n",
    "video2 = dataset.videos[1]"
   ],
   "id": "bb7a07a231db6e8",
   "outputs": [],
   "execution_count": null
  },
  {
   "metadata": {},
   "cell_type": "markdown",
   "source": [
    "## Modifica del parametro `frame_end`\n",
    "Dato che la maggior parte dei valori di `frame_end` è pari a `-1`, si è preferito modificare questo valore per rispecchiare il numero di frame di cui è composto il video. Per aggiornare il parametro `frame_end` è stato realizzato il metodo `update_videos` nella classe [Dataset](./handcrafted/app/dataset/dataset.py), il cui unico compito è aggiornare il file json `data/WLASL_v0.3.json` con i nuovi valori."
   ],
   "id": "7c81f9903dea6fcf"
  },
  {
   "metadata": {},
   "cell_type": "code",
   "source": "dataset.update_videos()",
   "id": "5d693ec431805cf4",
   "outputs": [],
   "execution_count": null
  },
  {
   "metadata": {},
   "cell_type": "markdown",
   "source": [
    "## Visualizzazione dei video originali\n",
    "Il metodo `plot_frames` permette di visualizzare i frame di un video."
   ],
   "id": "a35a69c1d4f96511"
  },
  {
   "metadata": {},
   "cell_type": "code",
   "source": [
    "plot_frames(video1.get_frames())\n",
    "plot_frames(video2.get_frames())"
   ],
   "id": "ee2c791106763809",
   "outputs": [],
   "execution_count": null
  },
  {
   "metadata": {},
   "cell_type": "markdown",
   "source": [
    "## Estrazione della ROI\n",
    "Verrà estratta la Region of Interest per entrambi i video. Il video viene poi ridimensionato a 224x224 aggiungendo padding se necessario.\n",
    "Per svolgere questo compito è stata realizzata la classe [RoiExtractor](handcrafted/app/preprocess/roi_extractor.py)."
   ],
   "id": "f7694e25a2baf912"
  },
  {
   "metadata": {},
   "cell_type": "code",
   "source": [
    "video1_roi_extractor = RoiExtractor(\n",
    "    frames=video1.get_frames(), bbox=video1.bbox, resize=224\n",
    ")\n",
    "video1_frames = video1_roi_extractor.extract(False)\n",
    "plot_frames(video1_frames)"
   ],
   "id": "ebdc54a6cbfd3ff2",
   "outputs": [],
   "execution_count": null
  },
  {
   "metadata": {},
   "cell_type": "code",
   "source": [
    "video2_roi_extractor = RoiExtractor(\n",
    "    frames=video2.get_frames(), bbox=video2.bbox, resize=224\n",
    ")\n",
    "video2_frames = video2_roi_extractor.extract(False)\n",
    "plot_frames(video2_frames)"
   ],
   "id": "c5385eb11a0043e8",
   "outputs": [],
   "execution_count": null
  },
  {
   "metadata": {},
   "cell_type": "markdown",
   "source": [
    "## Rimozione del background\n",
    "Verrà rimossa la parte di background dai video, utilizzando remove di rembg."
   ],
   "id": "e9f5df74020bb575"
  },
  {
   "metadata": {
    "jupyter": {
     "is_executing": true
    }
   },
   "cell_type": "code",
   "source": [
    "frames_1_no_bg = video1.get_frames(remove_bg=True)\n",
    "plot_frames(frames_1_no_bg)\n",
    "frames_1_no_bg = [cv2.cvtColor(frame, cv2.COLOR_BGR2RGB) for frame in frames_1_no_bg]\n",
    "create_mp4_video_from_frames(\n",
    "    frames_1_no_bg,\n",
    "    video1.fps,\n",
    "    f\"data/original_videos_sample/no_bg/{video1.video_id}.mp4\",\n",
    ")"
   ],
   "id": "8126cb9ade3a3999",
   "outputs": [],
   "execution_count": null
  },
  {
   "metadata": {},
   "cell_type": "markdown",
   "source": [
    "## Salvataggio dei video processati\n",
    "Vengono quindi salvati i video, utilizzando ffmpeg, nella cartella `data/original_videos_sample/updated`."
   ],
   "id": "a50f49afb7b54119"
  },
  {
   "metadata": {},
   "cell_type": "code",
   "source": [
    "frames_bgr = [\n",
    "    cv2.cvtColor(frame, cv2.COLOR_RGB2BGR) for frame in video1_frames\n",
    "]\n",
    "create_mp4_video_from_frames(\n",
    "    frames_bgr,\n",
    "    video1.fps,\n",
    "    f\"data/original_videos_sample/updated/{video1.video_id}.mp4\",\n",
    ")"
   ],
   "id": "f751025110a44f77",
   "outputs": [],
   "execution_count": null
  },
  {
   "metadata": {},
   "cell_type": "code",
   "source": [
    "frames_bgr = [\n",
    "    cv2.cvtColor(frame, cv2.COLOR_RGB2BGR) for frame in video2_frames\n",
    "]\n",
    "create_mp4_video_from_frames(\n",
    "    frames_bgr,\n",
    "    video2.fps,\n",
    "    f\"data/original_videos_sample/updated/{video2.video_id}.mp4\",\n",
    ")"
   ],
   "id": "174188509385d10b",
   "outputs": [],
   "execution_count": null
  }
 ],
 "metadata": {
  "kernelspec": {
   "display_name": "Python 3",
   "language": "python",
   "name": "python3"
  },
  "language_info": {
   "codemirror_mode": {
    "name": "ipython",
    "version": 2
   },
   "file_extension": ".py",
   "mimetype": "text/x-python",
   "name": "python",
   "nbconvert_exporter": "python",
   "pygments_lexer": "ipython2",
   "version": "2.7.6"
  }
 },
 "nbformat": 4,
 "nbformat_minor": 5
}
