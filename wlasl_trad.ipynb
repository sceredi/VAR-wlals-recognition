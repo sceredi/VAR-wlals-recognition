{
 "cells": [
  {
   "metadata": {},
   "cell_type": "markdown",
   "source": "# Classificazione video con metodi tradizionali\n",
   "id": "b9ff024f6dd0de01"
  },
  {
   "metadata": {},
   "cell_type": "markdown",
   "source": "## Import delle librerie",
   "id": "93892b52e93ab900"
  },
  {
   "metadata": {},
   "cell_type": "code",
   "source": [
    "from handcrafted.app.dataset.dataset import Dataset\n",
    "from handcrafted.app.model.dtw_classifier import DTWClassifier\n",
    "from handcrafted.app.model.model_statistics import ModelStatistics\n",
    "\n",
    "import matplotlib.pyplot as plt"
   ],
   "id": "4101637442a78c9c",
   "outputs": [],
   "execution_count": null
  },
  {
   "metadata": {},
   "cell_type": "markdown",
   "source": [
    "## Import del dataset\n",
    "\n"
   ],
   "id": "b979bd23706ea443"
  },
  {
   "metadata": {},
   "cell_type": "code",
   "source": "dataset = Dataset(\"data/WLASL_v0.3.json\")",
   "id": "c25d9c63e2324a25",
   "outputs": [],
   "execution_count": null
  },
  {
   "metadata": {},
   "cell_type": "markdown",
   "source": "## Creazione del classificatore\n",
   "id": "d0711f09f3e4d22e"
  },
  {
   "metadata": {},
   "cell_type": "code",
   "source": "dtw_classifier = DTWClassifier(dataset, dataset.glosses)",
   "id": "fba8f9e5b8e88e09",
   "outputs": [],
   "execution_count": null
  },
  {
   "metadata": {},
   "cell_type": "markdown",
   "source": "## Suddivisione del dataset in training e test set",
   "id": "4552be0bf5376853"
  },
  {
   "metadata": {},
   "cell_type": "code",
   "source": "dtw_classifier.train_test_videos(num_glosses=5)",
   "id": "54b6d9810b93cfae",
   "outputs": [],
   "execution_count": null
  },
  {
   "metadata": {},
   "cell_type": "markdown",
   "source": "## Calcolo delle distanze tra i video del test set e quelli del training set",
   "id": "c596613e71f97ac2"
  },
  {
   "metadata": {},
   "cell_type": "code",
   "source": [
    "X_test, y_train, y_test = dtw_classifier.compute_dtw_similarity_matrix()\n",
    "y_pred = dtw_classifier.dtw_predict(X_test, y_train)"
   ],
   "id": "cc9801ba107ca1ec",
   "outputs": [],
   "execution_count": null
  },
  {
   "metadata": {},
   "cell_type": "markdown",
   "source": "## Stampa dei risultati",
   "id": "4b5e93b3f1179ea3"
  },
  {
   "metadata": {},
   "cell_type": "code",
   "source": [
    "y_test_labels = [dataset.glosses[y] for y in y_test]\n",
    "y_pred_labels = [dataset.glosses[y] for y in y_pred]"
   ],
   "id": "944cf3b5d5379939",
   "outputs": [],
   "execution_count": null
  },
  {
   "metadata": {},
   "cell_type": "code",
   "source": [
    "model_stats = ModelStatistics(save_name=\"confusion_matrix_trad\")\n",
    "model_stats.print_classification_report(y_test_labels, y_pred_labels)\n",
    "model_stats.print_accuracy(y_test_labels, y_pred_labels)"
   ],
   "id": "40f268741827c86a",
   "outputs": [],
   "execution_count": null
  },
  {
   "metadata": {},
   "cell_type": "markdown",
   "source": "## Stampa della confusion matrix",
   "id": "8882abcdab2f5a7c"
  },
  {
   "metadata": {},
   "cell_type": "code",
   "source": "model_stats.plot_confusion_matrix(y_test_labels, y_pred_labels)",
   "id": "d254a82a93e93204",
   "outputs": [],
   "execution_count": null
  },
  {
   "metadata": {},
   "cell_type": "markdown",
   "source": [
    "## Stampa dell'istogramma dei risultati\n",
    "L'istogramma mostra la similarità tra i video classificati correttamente e quelli classificati in modo errato.\n",
    "Si può notare come i valori di similarità tra video classificati correttamente e in maniera errata siano molto vicini, questo è dovuto al fatto che le feature estratte dai video (hog, lbp) sono molto complesse e non permettono di catturare le differenze tra i vari movimenti dei soggetti."
   ],
   "id": "a57ab3ce0e2939ef"
  },
  {
   "metadata": {},
   "cell_type": "code",
   "source": [
    "dtw_correct = [\n",
    "    X_test[i][0] for i in range(len(X_test)) if y_test[i] == y_pred[i]\n",
    "]\n",
    "dtw_wrong = [\n",
    "    X_test[i][0] for i in range(len(X_test)) if y_test[i] != y_pred[i]\n",
    "]\n",
    "\n",
    "plt.hist(dtw_correct, bins=10, alpha=0.5, label=\"Correct Match\", color=\"green\")\n",
    "plt.hist(dtw_wrong, bins=10, alpha=0.5, label=\"Wrong Match\", color=\"red\")\n",
    "plt.xlabel(\"DTW similarity\")\n",
    "plt.ylabel(\"Frequency\")\n",
    "plt.legend()\n",
    "plt.title(\"DTW distance distribution\")\n",
    "plt.show()"
   ],
   "id": "fbee987be051e0be",
   "outputs": [],
   "execution_count": null
  },
  {
   "metadata": {},
   "cell_type": "code",
   "source": [
    "print(dtw_correct)\n",
    "print(dtw_wrong)"
   ],
   "id": "6e175df22192acb5",
   "outputs": [],
   "execution_count": null
  }
 ],
 "metadata": {
  "kernelspec": {
   "display_name": "Python 3",
   "language": "python",
   "name": "python3"
  },
  "language_info": {
   "codemirror_mode": {
    "name": "ipython",
    "version": 2
   },
   "file_extension": ".py",
   "mimetype": "text/x-python",
   "name": "python",
   "nbconvert_exporter": "python",
   "pygments_lexer": "ipython2",
   "version": "2.7.6"
  }
 },
 "nbformat": 4,
 "nbformat_minor": 5
}
