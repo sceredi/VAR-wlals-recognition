{
 "cells": [
  {
   "cell_type": "code",
   "id": "initial_id",
   "metadata": {
    "collapsed": true
   },
   "source": [
    "from handcrafted.app.dataset.dataset import Dataset\n",
    "from handcrafted.app.dataset.utils.dataset_splitter import SignerDatasetSplitter\n",
    "from handcrafted.app.features.plotter.frames_plotter import plot_frames\n",
    "from handcrafted.app.model.model_statistics import ModelStatistics\n",
    "from handcrafted.app.model.svc_classifier import SVCClassifier\n",
    "\n",
    "import numpy as np\n",
    "\n",
    "dataset = Dataset(\"data/WLASL_v0.3.json\")\n",
    "n_videos = 2000"
   ],
   "outputs": [],
   "execution_count": null
  },
  {
   "cell_type": "code",
   "id": "2eceac37ba5196c7",
   "metadata": {},
   "source": [
    "videos = dataset.videos\n",
    "len(videos)"
   ],
   "outputs": [],
   "execution_count": null
  },
  {
   "cell_type": "code",
   "id": "e00c46ba0fe05019",
   "metadata": {},
   "source": [
    "signers = [video.signer_id for video in videos]\n",
    "len(signers)"
   ],
   "outputs": [],
   "execution_count": null
  },
  {
   "cell_type": "code",
   "id": "143c8313cd6a5a02",
   "metadata": {
    "jupyter": {
     "is_executing": true
    }
   },
   "source": [
    "splitter = SignerDatasetSplitter(videos[:n_videos], frames_split=0.01)\n",
    "train_frames, val_frames, test_frames = splitter.train_test_split(test_size=0.2, val_size=0.2, random_state=42)\n",
    "augmented_train_frames = splitter.apply_data_augmentation(train_frames, num_augmentations=0)"
   ],
   "outputs": [],
   "execution_count": null
  },
  {
   "cell_type": "code",
   "id": "f377f23674e65e36",
   "metadata": {},
   "source": [
    "print(len(train_frames))\n",
    "print(len(augmented_train_frames))\n",
    "print(len(val_frames))\n",
    "print(len(test_frames))"
   ],
   "outputs": [],
   "execution_count": null
  },
  {
   "cell_type": "code",
   "id": "22d6b9192a02be40",
   "metadata": {},
   "source": [
    "plot_frames([signer_frame.frame for signer_frame in augmented_train_frames[:30]])"
   ],
   "outputs": [],
   "execution_count": null
  },
  {
   "metadata": {},
   "cell_type": "code",
   "source": [
    "X_train = [signer_frame.features for signer_frame in augmented_train_frames]\n",
    "y_train = [signer_frame.signer_id for signer_frame in augmented_train_frames]\n",
    "X_val = [signer_frame.features for signer_frame in val_frames]\n",
    "y_val = [signer_frame.signer_id for signer_frame in val_frames]\n",
    "X_test = [signer_frame.features for signer_frame in test_frames]\n",
    "y_test = [signer_frame.signer_id for signer_frame in test_frames]"
   ],
   "id": "84305ae3b885951d",
   "outputs": [],
   "execution_count": null
  },
  {
   "metadata": {},
   "cell_type": "code",
   "source": [
    "print(len(X_train))\n",
    "print(len(y_train))\n",
    "print(len(X_val))\n",
    "print(len(y_val))\n",
    "print(len(X_test))\n",
    "print(len(y_test))"
   ],
   "id": "a4d84a4b3bc9224f",
   "outputs": [],
   "execution_count": null
  },
  {
   "metadata": {},
   "cell_type": "code",
   "source": [
    "svc = SVCClassifier()\n",
    "svc.train(np.array(X_train), y_train)"
   ],
   "id": "6b534a23e4e81f31",
   "outputs": [],
   "execution_count": null
  },
  {
   "metadata": {},
   "cell_type": "code",
   "source": "y_pred = svc.predict(X_test, y_test)",
   "id": "ca403ba6e71b64e8",
   "outputs": [],
   "execution_count": null
  },
  {
   "metadata": {},
   "cell_type": "code",
   "source": "stats = ModelStatistics(save_name=f\"svc_{n_videos}_signer_test_{len(y_test)}\", save_dir=\"signer/plots\")",
   "id": "b2362eba15dcb29d",
   "outputs": [],
   "execution_count": null
  },
  {
   "metadata": {},
   "cell_type": "code",
   "source": "stats.print_accuracy(y_test, y_pred)",
   "id": "3468e8111c55c858",
   "outputs": [],
   "execution_count": null
  },
  {
   "metadata": {},
   "cell_type": "code",
   "source": "stats.plot_confusion_matrix(y_test, y_pred, save=True, plot=True)",
   "id": "4f685e18dd024fee",
   "outputs": [],
   "execution_count": null
  }
 ],
 "metadata": {
  "kernelspec": {
   "display_name": "Python 3",
   "language": "python",
   "name": "python3"
  },
  "language_info": {
   "codemirror_mode": {
    "name": "ipython",
    "version": 2
   },
   "file_extension": ".py",
   "mimetype": "text/x-python",
   "name": "python",
   "nbconvert_exporter": "python",
   "pygments_lexer": "ipython2",
   "version": "2.7.6"
  }
 },
 "nbformat": 4,
 "nbformat_minor": 5
}
