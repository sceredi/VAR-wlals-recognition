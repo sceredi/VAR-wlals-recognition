{
 "cells": [
  {
   "cell_type": "code",
   "id": "initial_id",
   "metadata": {
    "collapsed": true,
    "ExecuteTime": {
     "end_time": "2025-03-31T15:38:59.408977Z",
     "start_time": "2025-03-31T15:38:54.314546Z"
    }
   },
   "source": [
    "import itertools\n",
    "import xgboost as xgb\n",
    "from sklearn.preprocessing import LabelEncoder\n",
    "from tqdm import tqdm\n",
    "\n",
    "from handcrafted.app.dataset.dataset_loader import DatasetLoader\n",
    "from handcrafted.app.dataset.utils.dataset_creator import DatasetCreator\n",
    "from handcrafted.app.dataset.utils.frames_splitter import FramesSplitter\n",
    "from handcrafted.app.model.model_statistics import ModelStatistics"
   ],
   "outputs": [
    {
     "name": "stderr",
     "output_type": "stream",
     "text": [
      "2025-03-31 17:38:56.437684: I tensorflow/core/util/port.cc:113] oneDNN custom operations are on. You may see slightly different numerical results due to floating-point round-off errors from different computation orders. To turn them off, set the environment variable `TF_ENABLE_ONEDNN_OPTS=0`.\n",
      "2025-03-31 17:38:56.494973: I external/local_tsl/tsl/cuda/cudart_stub.cc:31] Could not find cuda drivers on your machine, GPU will not be used.\n",
      "2025-03-31 17:38:56.756674: E external/local_xla/xla/stream_executor/cuda/cuda_dnn.cc:9261] Unable to register cuDNN factory: Attempting to register factory for plugin cuDNN when one has already been registered\n",
      "2025-03-31 17:38:56.756775: E external/local_xla/xla/stream_executor/cuda/cuda_fft.cc:607] Unable to register cuFFT factory: Attempting to register factory for plugin cuFFT when one has already been registered\n",
      "2025-03-31 17:38:56.814481: E external/local_xla/xla/stream_executor/cuda/cuda_blas.cc:1515] Unable to register cuBLAS factory: Attempting to register factory for plugin cuBLAS when one has already been registered\n",
      "2025-03-31 17:38:56.934237: I external/local_tsl/tsl/cuda/cudart_stub.cc:31] Could not find cuda drivers on your machine, GPU will not be used.\n",
      "2025-03-31 17:38:56.935824: I tensorflow/core/platform/cpu_feature_guard.cc:182] This TensorFlow binary is optimized to use available CPU instructions in performance-critical operations.\n",
      "To enable the following instructions: AVX2 AVX512F AVX512_VNNI AVX512_BF16 FMA, in other operations, rebuild TensorFlow with the appropriate compiler flags.\n",
      "2025-03-31 17:38:57.925972: W tensorflow/compiler/tf2tensorrt/utils/py_utils.cc:38] TF-TRT Warning: Could not find TensorRT\n"
     ]
    }
   ],
   "execution_count": 1
  },
  {
   "cell_type": "code",
   "id": "1f091fd4fd7fd7f8",
   "metadata": {
    "ExecuteTime": {
     "end_time": "2025-03-31T15:39:12.991530Z",
     "start_time": "2025-03-31T15:38:59.422452Z"
    }
   },
   "source": [
    "loader = DatasetLoader(directory=\"./data/frames_no_bg/\")"
   ],
   "outputs": [
    {
     "name": "stderr",
     "output_type": "stream",
     "text": [
      "12023it [00:13, 886.45it/s] \n"
     ]
    }
   ],
   "execution_count": 2
  },
  {
   "cell_type": "code",
   "id": "67198a3f4fbcc8c1",
   "metadata": {
    "ExecuteTime": {
     "end_time": "2025-03-31T15:39:13.123997Z",
     "start_time": "2025-03-31T15:39:13.120952Z"
    }
   },
   "source": [
    "num_signers = -1\n",
    "if num_signers == -1:\n",
    "    signers = loader.signers\n",
    "    num_signers = loader.num_signers\n",
    "else:\n",
    "    signers = dict(itertools.islice(loader.signers.items(), num_signers))\n",
    "splitter = FramesSplitter(signers, val_split=0.3, test_split=0.3, frames_split=0.1, seed=42)"
   ],
   "outputs": [],
   "execution_count": 3
  },
  {
   "metadata": {
    "ExecuteTime": {
     "end_time": "2025-03-31T15:41:04.799476Z",
     "start_time": "2025-03-31T15:41:04.778040Z"
    }
   },
   "cell_type": "code",
   "source": [
    "for signer in signers.values():\n",
    "    signer_frames = []\n",
    "    for video in signer.videos:\n",
    "        signer_frames.extend(video.frames)\n",
    "    print(f\"Signer {signer.id} has {len(signer_frames)} frames\")"
   ],
   "id": "17a437d4d7310b0c",
   "outputs": [
    {
     "name": "stdout",
     "output_type": "stream",
     "text": [
      "Signer 117 has 2329 frames\n",
      "Signer 26 has 9778 frames\n",
      "Signer 63 has 3888 frames\n",
      "Signer 35 has 5184 frames\n",
      "Signer 42 has 3297 frames\n",
      "Signer 48 has 816 frames\n",
      "Signer 104 has 186 frames\n",
      "Signer 70 has 1136 frames\n",
      "Signer 94 has 2662 frames\n",
      "Signer 77 has 1805 frames\n",
      "Signer 99 has 1752 frames\n",
      "Signer 93 has 2772 frames\n",
      "Signer 45 has 3523 frames\n",
      "Signer 32 has 10037 frames\n",
      "Signer 38 has 31192 frames\n",
      "Signer 103 has 3085 frames\n",
      "Signer 0 has 17182 frames\n",
      "Signer 19 has 18262 frames\n",
      "Signer 13 has 87112 frames\n",
      "Signer 56 has 12833 frames\n",
      "Signer 21 has 36376 frames\n",
      "Signer 52 has 4783 frames\n",
      "Signer 17 has 433 frames\n",
      "Signer 60 has 3794 frames\n",
      "Signer 107 has 505 frames\n",
      "Signer 41 has 45179 frames\n",
      "Signer 36 has 15448 frames\n",
      "Signer 4 has 28130 frames\n",
      "Signer 97 has 3619 frames\n",
      "Signer 73 has 413 frames\n",
      "Signer 90 has 11725 frames\n",
      "Signer 3 has 1959 frames\n",
      "Signer 100 has 1671 frames\n",
      "Signer 31 has 9623 frames\n",
      "Signer 46 has 2441 frames\n",
      "Signer 89 has 2673 frames\n",
      "Signer 10 has 37293 frames\n",
      "Signer 119 has 530 frames\n",
      "Signer 22 has 407 frames\n",
      "Signer 28 has 4947 frames\n",
      "Signer 12 has 117374 frames\n",
      "Signer 57 has 433 frames\n",
      "Signer 92 has 2012 frames\n",
      "Signer 98 has 4584 frames\n",
      "Signer 102 has 4161 frames\n",
      "Signer 39 has 5754 frames\n",
      "Signer 33 has 3714 frames\n",
      "Signer 108 has 2009 frames\n",
      "Signer 1 has 664 frames\n",
      "Signer 6 has 8509 frames\n",
      "Signer 105 has 276 frames\n",
      "Signer 43 has 1172 frames\n",
      "Signer 34 has 3043 frames\n",
      "Signer 95 has 1876 frames\n",
      "Signer 50 has 532 frames\n",
      "Signer 27 has 732 frames\n",
      "Signer 116 has 2743 frames\n",
      "Signer 15 has 7468 frames\n",
      "Signer 120 has 91 frames\n",
      "Signer 88 has 4959 frames\n",
      "Signer 11 has 86369 frames\n",
      "Signer 66 has 683 frames\n",
      "Signer 29 has 1198 frames\n",
      "Signer 23 has 49 frames\n",
      "Signer 118 has 5521 frames\n",
      "Signer 75 has 322 frames\n",
      "Signer 91 has 1730 frames\n",
      "Signer 2 has 50338 frames\n",
      "Signer 8 has 5712 frames\n",
      "Signer 101 has 3741 frames\n",
      "Signer 37 has 14724 frames\n",
      "Signer 40 has 1186 frames\n",
      "Signer 106 has 3321 frames\n",
      "Signer 96 has 2758 frames\n",
      "Signer 78 has 723 frames\n",
      "Signer 115 has 5840 frames\n",
      "Signer 59 has 26301 frames\n",
      "Signer 53 has 715 frames\n"
     ]
    }
   ],
   "execution_count": 6
  },
  {
   "cell_type": "code",
   "id": "99bffccbd218b30c",
   "metadata": {},
   "source": [
    "X_train, y_train, X_val, y_val, X_test, y_test = splitter.split(X_content=lambda f: f)"
   ],
   "outputs": [],
   "execution_count": null
  },
  {
   "cell_type": "code",
   "id": "107083a87bfe968f",
   "metadata": {},
   "source": [
    "# Get the total of different labels\n",
    "num_classes = num_signers\n",
    "print(num_classes)"
   ],
   "outputs": [],
   "execution_count": null
  },
  {
   "cell_type": "code",
   "id": "fbe3d8897565f4a7",
   "metadata": {},
   "source": [
    "label_encoder = LabelEncoder()\n",
    "y_train_encoded = label_encoder.fit_transform(y_train)\n",
    "y_val_encoded = label_encoder.fit_transform(y_val)\n",
    "y_test_encoded = label_encoder.fit_transform(y_test)"
   ],
   "outputs": [],
   "execution_count": null
  },
  {
   "cell_type": "code",
   "id": "931f564da905c84d",
   "metadata": {},
   "source": [
    "BATCH_SIZE = 512\n",
    "dataset_creator = DatasetCreator()\n",
    "# TODO: add shuffle = True\n",
    "train_dataset = dataset_creator.create_custom_dataset(X_train, y_train_encoded, batch_size=BATCH_SIZE)\n",
    "val_dataset = dataset_creator.create_custom_dataset(X_val, y_val_encoded, batch_size=BATCH_SIZE)\n",
    "test_dataset = dataset_creator.create_custom_dataset(X_test, y_test_encoded, batch_size=BATCH_SIZE)\n"
   ],
   "outputs": [],
   "execution_count": null
  },
  {
   "cell_type": "code",
   "id": "44c26ae96458cfaf",
   "metadata": {},
   "source": [
    "xgb_params = {\n",
    "    \"objective\":\"multi:softmax\",\n",
    "    \"num_class\":num_classes,\n",
    "    \"eval_metric\":\"mlogloss\",\n",
    "    \"max_depth\":6,\n",
    "    \"learning_rate\":0.1,\n",
    "    \"n_estimators\":100,\n",
    "    \"subsample\":0.8,\n",
    "    \"colsample_bytree\":0.8,\n",
    "    \"gamma\":0,\n",
    "    \"min_child_weight\":1,\n",
    "    \"reg_lambda\":1,\n",
    "    \"reg_alpha\":0,\n",
    "    \"tree_method\":\"hist\", # Change to \"gpu_hist\" for GPU acceleration\n",
    "    # \"device\":\"cuda\", # Use GPU\n",
    "}"
   ],
   "outputs": [],
   "execution_count": null
  },
  {
   "cell_type": "code",
   "id": "ffcafd541c2b8a3e",
   "metadata": {},
   "source": [
    "xgb_model = None\n",
    "for train_batch in tqdm(val_dataset):\n",
    "    X_batch, y_batch = train_batch.load(num_aug=3, shuffle=True)\n",
    "    dtrain = xgb.DMatrix(X_batch, label=y_batch)\n",
    "    xgb_model = xgb.train(params=xgb_params, dtrain=dtrain, num_boost_round=10, xgb_model=xgb_model)"
   ],
   "outputs": [],
   "execution_count": null
  },
  {
   "cell_type": "code",
   "id": "e4741d3f0bd140a9",
   "metadata": {},
   "source": [
    "y_pred = []\n",
    "y_test_full = []\n",
    "for test_batch in tqdm(test_dataset):\n",
    "    X_batch, y_batch = test_batch.load(num_aug=0, shuffle=True)\n",
    "    y_test_full.extend(y_batch)\n",
    "    dtest = xgb.DMatrix(X_batch)\n",
    "    y_pred_batch = xgb_model.predict(dtest)\n",
    "    y_pred.extend(y_pred_batch)"
   ],
   "outputs": [],
   "execution_count": null
  },
  {
   "cell_type": "code",
   "id": "374f709d5e515120",
   "metadata": {},
   "source": [
    "stats = ModelStatistics(save_name=f\"svc_signer_test_{len(y_test_full)}\", save_dir=\"signer/plots\")\n",
    "stats.print_accuracy(y_test_full, y_pred)\n",
    "stats.plot_confusion_matrix(y_test_full, y_pred, save=True, plot=True)"
   ],
   "outputs": [],
   "execution_count": null
  }
 ],
 "metadata": {
  "kernelspec": {
   "display_name": "Python 3",
   "language": "python",
   "name": "python3"
  },
  "language_info": {
   "codemirror_mode": {
    "name": "ipython",
    "version": 2
   },
   "file_extension": ".py",
   "mimetype": "text/x-python",
   "name": "python",
   "nbconvert_exporter": "python",
   "pygments_lexer": "ipython2",
   "version": "2.7.6"
  }
 },
 "nbformat": 4,
 "nbformat_minor": 5
}
