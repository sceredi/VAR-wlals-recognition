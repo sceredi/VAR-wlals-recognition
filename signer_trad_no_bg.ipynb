{
 "cells": [
  {
   "cell_type": "code",
   "id": "initial_id",
   "metadata": {
    "collapsed": true
   },
   "source": [
    "import os\n",
    "import numpy as np\n",
    "from tqdm import tqdm\n",
    "from sklearn.svm import SVC\n",
    "\n",
    "from handcrafted.app.dataset.utils.dataset_creator import DatasetCreator\n",
    "from handcrafted.app.model.model_statistics import ModelStatistics\n",
    "\n",
    "from tensorflow import keras\n",
    "from tensorflow.keras import layers\n",
    "from tensorflow.keras.utils import to_categorical\n",
    "from sklearn.preprocessing import LabelEncoder\n",
    "from handcrafted.app.dataset.dataset_loader import DatasetLoader\n",
    "from handcrafted.app.dataset.utils.frames_splitter import FramesSplitter\n",
    "from handcrafted.app.model.svc_classifier import SVClassifier"
   ],
   "outputs": [],
   "execution_count": null
  },
  {
   "metadata": {
    "ExecuteTime": {
     "end_time": "2025-03-27T16:30:51.388482Z",
     "start_time": "2025-03-27T16:30:50.451658Z"
    }
   },
   "cell_type": "code",
   "source": "loader = DatasetLoader(directory=\"./data/frames_no_bg/\")",
   "id": "1f091fd4fd7fd7f8",
   "outputs": [
    {
     "name": "stderr",
     "output_type": "stream",
     "text": [
      "345it [00:00, 377.07it/s]\n"
     ]
    }
   ],
   "execution_count": 2
  },
  {
   "metadata": {
    "ExecuteTime": {
     "end_time": "2025-03-27T16:30:52.711428Z",
     "start_time": "2025-03-27T16:30:52.693031Z"
    }
   },
   "cell_type": "code",
   "source": "splitter = FramesSplitter(loader.signers, val_split=0.3, test_split=0.3, frames_split=0.1, seed=42)",
   "id": "67198a3f4fbcc8c1",
   "outputs": [],
   "execution_count": 3
  },
  {
   "metadata": {
    "ExecuteTime": {
     "end_time": "2025-03-27T16:30:53.517024Z",
     "start_time": "2025-03-27T16:30:53.469145Z"
    }
   },
   "cell_type": "code",
   "source": "X_train, y_train, X_val, y_val, X_test, y_test = splitter.split()",
   "id": "99bffccbd218b30c",
   "outputs": [
    {
     "name": "stderr",
     "output_type": "stream",
     "text": [
      "100%|██████████| 4/4 [00:00<00:00, 124.76it/s]\n"
     ]
    }
   ],
   "execution_count": 4
  },
  {
   "metadata": {
    "ExecuteTime": {
     "end_time": "2025-03-27T16:30:55.754938Z",
     "start_time": "2025-03-27T16:30:55.739137Z"
    }
   },
   "cell_type": "code",
   "source": [
    "# Get the total of different labels\n",
    "num_classes = loader.num_signers\n",
    "print(num_classes)"
   ],
   "id": "107083a87bfe968f",
   "outputs": [
    {
     "name": "stdout",
     "output_type": "stream",
     "text": [
      "4\n"
     ]
    }
   ],
   "execution_count": 5
  },
  {
   "metadata": {
    "ExecuteTime": {
     "end_time": "2025-03-27T16:30:56.925230Z",
     "start_time": "2025-03-27T16:30:56.911438Z"
    }
   },
   "cell_type": "code",
   "source": [
    "label_encoder = LabelEncoder()\n",
    "y_train_encoded = label_encoder.fit_transform(y_train)\n",
    "y_val_encoded = label_encoder.fit_transform(y_val)\n",
    "y_test_encoded = label_encoder.fit_transform(y_test)\n",
    "y_train_onehot = to_categorical(y_train_encoded, num_classes=num_classes)\n",
    "y_val_onehot = to_categorical(y_val_encoded, num_classes=num_classes)\n",
    "y_test_onehot = to_categorical(y_test_encoded, num_classes=num_classes)"
   ],
   "id": "fbe3d8897565f4a7",
   "outputs": [],
   "execution_count": 6
  },
  {
   "metadata": {
    "ExecuteTime": {
     "end_time": "2025-03-27T16:33:21.647089Z",
     "start_time": "2025-03-27T16:33:21.615535Z"
    }
   },
   "cell_type": "code",
   "source": [
    "BATCH_SIZE = 32\n",
    "dataset_creator = DatasetCreator()\n",
    "# TODO: add shuffle = True\n",
    "train_dataset = dataset_creator.create_dataset_with_features(X_train, y_train_onehot, num_aug=3, batch_size=BATCH_SIZE)\n",
    "val_dataset = dataset_creator.create_dataset_with_features(X_val, y_val_onehot, batch_size=BATCH_SIZE)\n",
    "test_dataset = dataset_creator.create_dataset_with_features(X_test, y_test_onehot, batch_size=BATCH_SIZE)"
   ],
   "id": "931f564da905c84d",
   "outputs": [],
   "execution_count": 8
  },
  {
   "metadata": {
    "ExecuteTime": {
     "end_time": "2025-03-27T16:33:51.779865Z",
     "start_time": "2025-03-27T16:33:51.737170Z"
    }
   },
   "cell_type": "code",
   "source": [
    "# svc = SVC()\n",
    "# svc.fit(X_train, y_train)"
   ],
   "id": "90a9d3e1988da274",
   "outputs": [
    {
     "ename": "TypeError",
     "evalue": "BaseLibSVM.fit() missing 1 required positional argument: 'y'",
     "output_type": "error",
     "traceback": [
      "\u001B[1;31m---------------------------------------------------------------------------\u001B[0m",
      "\u001B[1;31mTypeError\u001B[0m                                 Traceback (most recent call last)",
      "Cell \u001B[1;32mIn[10], line 2\u001B[0m\n\u001B[0;32m      1\u001B[0m svc \u001B[38;5;241m=\u001B[39m SVC()\n\u001B[1;32m----> 2\u001B[0m \u001B[43msvc\u001B[49m\u001B[38;5;241;43m.\u001B[39;49m\u001B[43mfit\u001B[49m\u001B[43m(\u001B[49m\u001B[43mtrain_dataset\u001B[49m\u001B[43m(\u001B[49m\u001B[43m)\u001B[49m\u001B[43m)\u001B[49m\n",
      "\u001B[1;31mTypeError\u001B[0m: BaseLibSVM.fit() missing 1 required positional argument: 'y'"
     ]
    }
   ],
   "execution_count": 10
  },
  {
   "metadata": {},
   "cell_type": "code",
   "outputs": [],
   "execution_count": null,
   "source": "# y_pred = svc.predict(X_test, y_test)",
   "id": "b98b540092bb7278"
  },
  {
   "metadata": {},
   "cell_type": "code",
   "outputs": [],
   "execution_count": null,
   "source": [
    "# stats = ModelStatistics(save_name=f\"svc_signer_test_{len(y_test)}\", save_dir=\"signer/plots\")\n",
    "# stats.print_accuracy(y_test, y_pred)\n",
    "# stats.plot_confusion_matrix(y_test, y_pred, save=True, plot=True)"
   ],
   "id": "374f709d5e515120"
  }
 ],
 "metadata": {
  "kernelspec": {
   "display_name": "Python 3",
   "language": "python",
   "name": "python3"
  },
  "language_info": {
   "codemirror_mode": {
    "name": "ipython",
    "version": 2
   },
   "file_extension": ".py",
   "mimetype": "text/x-python",
   "name": "python",
   "nbconvert_exporter": "python",
   "pygments_lexer": "ipython2",
   "version": "2.7.6"
  }
 },
 "nbformat": 4,
 "nbformat_minor": 5
}
