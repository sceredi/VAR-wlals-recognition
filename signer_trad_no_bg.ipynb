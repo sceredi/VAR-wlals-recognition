{
 "cells": [
  {
   "cell_type": "code",
   "id": "initial_id",
   "metadata": {
    "collapsed": true,
    "ExecuteTime": {
     "end_time": "2025-03-30T14:01:04.657012Z",
     "start_time": "2025-03-30T14:01:02.082687Z"
    }
   },
   "source": [
    "import itertools\n",
    "import xgboost as xgb\n",
    "from sklearn.preprocessing import LabelEncoder\n",
    "from tqdm import tqdm\n",
    "\n",
    "from handcrafted.app.dataset.dataset_loader import DatasetLoader\n",
    "from handcrafted.app.dataset.utils.dataset_creator import DatasetCreator\n",
    "from handcrafted.app.dataset.utils.frames_splitter import FramesSplitter\n",
    "from handcrafted.app.model.model_statistics import ModelStatistics"
   ],
   "outputs": [
    {
     "name": "stderr",
     "output_type": "stream",
     "text": [
      "2025-03-30 16:01:02.942016: I tensorflow/core/util/port.cc:113] oneDNN custom operations are on. You may see slightly different numerical results due to floating-point round-off errors from different computation orders. To turn them off, set the environment variable `TF_ENABLE_ONEDNN_OPTS=0`.\n",
      "2025-03-30 16:01:02.943544: I external/local_tsl/tsl/cuda/cudart_stub.cc:31] Could not find cuda drivers on your machine, GPU will not be used.\n",
      "2025-03-30 16:01:02.967464: E external/local_xla/xla/stream_executor/cuda/cuda_dnn.cc:9261] Unable to register cuDNN factory: Attempting to register factory for plugin cuDNN when one has already been registered\n",
      "2025-03-30 16:01:02.967547: E external/local_xla/xla/stream_executor/cuda/cuda_fft.cc:607] Unable to register cuFFT factory: Attempting to register factory for plugin cuFFT when one has already been registered\n",
      "2025-03-30 16:01:02.968619: E external/local_xla/xla/stream_executor/cuda/cuda_blas.cc:1515] Unable to register cuBLAS factory: Attempting to register factory for plugin cuBLAS when one has already been registered\n",
      "2025-03-30 16:01:02.975007: I external/local_tsl/tsl/cuda/cudart_stub.cc:31] Could not find cuda drivers on your machine, GPU will not be used.\n",
      "2025-03-30 16:01:02.975422: I tensorflow/core/platform/cpu_feature_guard.cc:182] This TensorFlow binary is optimized to use available CPU instructions in performance-critical operations.\n",
      "To enable the following instructions: AVX2 AVX512F AVX512_VNNI AVX512_BF16 FMA, in other operations, rebuild TensorFlow with the appropriate compiler flags.\n",
      "2025-03-30 16:01:03.623536: W tensorflow/compiler/tf2tensorrt/utils/py_utils.cc:38] TF-TRT Warning: Could not find TensorRT\n"
     ]
    }
   ],
   "execution_count": 1
  },
  {
   "cell_type": "code",
   "id": "1f091fd4fd7fd7f8",
   "metadata": {
    "ExecuteTime": {
     "end_time": "2025-03-30T14:01:13.419222Z",
     "start_time": "2025-03-30T14:01:04.662910Z"
    }
   },
   "source": [
    "loader = DatasetLoader(directory=\"./data/frames_no_bg/\")"
   ],
   "outputs": [
    {
     "name": "stderr",
     "output_type": "stream",
     "text": [
      "7047it [00:08, 805.16it/s] \n"
     ]
    }
   ],
   "execution_count": 2
  },
  {
   "cell_type": "code",
   "id": "67198a3f4fbcc8c1",
   "metadata": {
    "ExecuteTime": {
     "end_time": "2025-03-30T14:01:13.518254Z",
     "start_time": "2025-03-30T14:01:13.516001Z"
    }
   },
   "source": [
    "num_signers = 8\n",
    "if num_signers == -1:\n",
    "    signers = loader.signers\n",
    "    num_signers = loader.num_signers\n",
    "else:\n",
    "    signers = dict(itertools.islice(loader.signers.items(), num_signers))\n",
    "splitter = FramesSplitter(signers, val_split=0.3, test_split=0.3, frames_split=0.1, seed=42)"
   ],
   "outputs": [],
   "execution_count": 3
  },
  {
   "cell_type": "code",
   "id": "99bffccbd218b30c",
   "metadata": {
    "ExecuteTime": {
     "end_time": "2025-03-30T14:01:13.638069Z",
     "start_time": "2025-03-30T14:01:13.561253Z"
    }
   },
   "source": [
    "X_train, y_train, X_val, y_val, X_test, y_test = splitter.split(X_content=lambda f: f)"
   ],
   "outputs": [
    {
     "name": "stderr",
     "output_type": "stream",
     "text": [
      "100%|██████████| 8/8 [00:00<00:00, 156.02it/s]\n"
     ]
    }
   ],
   "execution_count": 4
  },
  {
   "cell_type": "code",
   "id": "107083a87bfe968f",
   "metadata": {
    "ExecuteTime": {
     "end_time": "2025-03-30T14:01:13.647961Z",
     "start_time": "2025-03-30T14:01:13.645814Z"
    }
   },
   "source": [
    "# Get the total of different labels\n",
    "num_classes = num_signers\n",
    "print(num_classes)"
   ],
   "outputs": [
    {
     "name": "stdout",
     "output_type": "stream",
     "text": [
      "8\n"
     ]
    }
   ],
   "execution_count": 5
  },
  {
   "cell_type": "code",
   "id": "fbe3d8897565f4a7",
   "metadata": {
    "ExecuteTime": {
     "end_time": "2025-03-30T14:01:13.695783Z",
     "start_time": "2025-03-30T14:01:13.691390Z"
    }
   },
   "source": [
    "label_encoder = LabelEncoder()\n",
    "y_train_encoded = label_encoder.fit_transform(y_train)\n",
    "y_val_encoded = label_encoder.fit_transform(y_val)\n",
    "y_test_encoded = label_encoder.fit_transform(y_test)"
   ],
   "outputs": [],
   "execution_count": 6
  },
  {
   "cell_type": "code",
   "id": "931f564da905c84d",
   "metadata": {
    "ExecuteTime": {
     "end_time": "2025-03-30T14:01:13.780053Z",
     "start_time": "2025-03-30T14:01:13.740645Z"
    }
   },
   "source": [
    "BATCH_SIZE = 512\n",
    "dataset_creator = DatasetCreator()\n",
    "# TODO: add shuffle = True\n",
    "train_dataset = dataset_creator.create_custom_dataset(X_train, y_train_encoded, batch_size=BATCH_SIZE)\n",
    "val_dataset = dataset_creator.create_custom_dataset(X_val, y_val_encoded, batch_size=BATCH_SIZE)\n",
    "test_dataset = dataset_creator.create_custom_dataset(X_test, y_test_encoded, batch_size=BATCH_SIZE)\n"
   ],
   "outputs": [
    {
     "name": "stderr",
     "output_type": "stream",
     "text": [
      "100%|██████████| 18/18 [00:00<00:00, 310689.19it/s]\n",
      "100%|██████████| 8/8 [00:00<00:00, 294337.12it/s]\n",
      "100%|██████████| 12/12 [00:00<00:00, 396312.19it/s]\n"
     ]
    }
   ],
   "execution_count": 7
  },
  {
   "cell_type": "code",
   "id": "44c26ae96458cfaf",
   "metadata": {
    "ExecuteTime": {
     "end_time": "2025-03-30T14:01:13.838610Z",
     "start_time": "2025-03-30T14:01:13.835780Z"
    }
   },
   "source": [
    "xgb_params = {\n",
    "    \"objective\":\"multi:softmax\",\n",
    "    \"num_class\":num_classes,\n",
    "    \"eval_metric\":\"mlogloss\",\n",
    "    \"max_depth\":6,\n",
    "    \"learning_rate\":0.1,\n",
    "    \"n_estimators\":100,\n",
    "    \"subsample\":0.8,\n",
    "    \"colsample_bytree\":0.8,\n",
    "    \"gamma\":0,\n",
    "    \"min_child_weight\":1,\n",
    "    \"reg_lambda\":1,\n",
    "    \"reg_alpha\":0,\n",
    "    \"tree_method\":\"hist\", # Change to \"gpu_hist\" for GPU acceleration\n",
    "    # \"device\":\"cuda\", # Use GPU\n",
    "}"
   ],
   "outputs": [],
   "execution_count": 9
  },
  {
   "cell_type": "code",
   "id": "ffcafd541c2b8a3e",
   "metadata": {
    "ExecuteTime": {
     "end_time": "2025-03-30T14:33:49.568128Z",
     "start_time": "2025-03-30T14:01:13.930384Z"
    }
   },
   "source": [
    "xgb_model = None\n",
    "for train_batch in tqdm(val_dataset):\n",
    "    X_batch, y_batch = train_batch.load(num_aug=3, shuffle=True)\n",
    "    dtrain = xgb.DMatrix(X_batch, label=y_batch)\n",
    "    xgb_model = xgb.train(params=xgb_params, dtrain=dtrain, num_boost_round=10, xgb_model=xgb_model)"
   ],
   "outputs": [
    {
     "name": "stderr",
     "output_type": "stream",
     "text": [
      "  0%|          | 0/8 [00:00<?, ?it/s]/home/simone/uni-lab/VAR/wlasl-recognition/.venv/lib/python3.10/site-packages/xgboost/training.py:183: UserWarning: [16:04:42] WARNING: /workspace/src/learner.cc:738: \n",
      "Parameters: { \"n_estimators\" } are not used.\n",
      "\n",
      "  bst.update(dtrain, iteration=i, fobj=obj)\n",
      " 12%|█▎        | 1/8 [04:10<29:11, 250.18s/it]/home/simone/uni-lab/VAR/wlasl-recognition/.venv/lib/python3.10/site-packages/xgboost/training.py:183: UserWarning: [16:08:50] WARNING: /workspace/src/learner.cc:738: \n",
      "Parameters: { \"n_estimators\" } are not used.\n",
      "\n",
      "  bst.update(dtrain, iteration=i, fobj=obj)\n",
      " 25%|██▌       | 2/8 [08:20<25:00, 250.03s/it]/home/simone/uni-lab/VAR/wlasl-recognition/.venv/lib/python3.10/site-packages/xgboost/training.py:183: UserWarning: [16:13:01] WARNING: /workspace/src/learner.cc:738: \n",
      "Parameters: { \"n_estimators\" } are not used.\n",
      "\n",
      "  bst.update(dtrain, iteration=i, fobj=obj)\n",
      " 38%|███▊      | 3/8 [12:31<20:52, 250.52s/it]/home/simone/uni-lab/VAR/wlasl-recognition/.venv/lib/python3.10/site-packages/xgboost/training.py:183: UserWarning: [16:17:13] WARNING: /workspace/src/learner.cc:738: \n",
      "Parameters: { \"n_estimators\" } are not used.\n",
      "\n",
      "  bst.update(dtrain, iteration=i, fobj=obj)\n",
      " 50%|█████     | 4/8 [16:40<16:39, 249.85s/it]/home/simone/uni-lab/VAR/wlasl-recognition/.venv/lib/python3.10/site-packages/xgboost/training.py:183: UserWarning: [16:21:19] WARNING: /workspace/src/learner.cc:738: \n",
      "Parameters: { \"n_estimators\" } are not used.\n",
      "\n",
      "  bst.update(dtrain, iteration=i, fobj=obj)\n",
      " 62%|██████▎   | 5/8 [20:51<12:30, 250.26s/it]/home/simone/uni-lab/VAR/wlasl-recognition/.venv/lib/python3.10/site-packages/xgboost/training.py:183: UserWarning: [16:25:32] WARNING: /workspace/src/learner.cc:738: \n",
      "Parameters: { \"n_estimators\" } are not used.\n",
      "\n",
      "  bst.update(dtrain, iteration=i, fobj=obj)\n",
      " 75%|███████▌  | 6/8 [25:04<08:22, 251.48s/it]/home/simone/uni-lab/VAR/wlasl-recognition/.venv/lib/python3.10/site-packages/xgboost/training.py:183: UserWarning: [16:29:45] WARNING: /workspace/src/learner.cc:738: \n",
      "Parameters: { \"n_estimators\" } are not used.\n",
      "\n",
      "  bst.update(dtrain, iteration=i, fobj=obj)\n",
      " 88%|████████▊ | 7/8 [29:15<04:11, 251.15s/it]/home/simone/uni-lab/VAR/wlasl-recognition/.venv/lib/python3.10/site-packages/xgboost/training.py:183: UserWarning: [16:33:13] WARNING: /workspace/src/learner.cc:738: \n",
      "Parameters: { \"n_estimators\" } are not used.\n",
      "\n",
      "  bst.update(dtrain, iteration=i, fobj=obj)\n",
      "100%|██████████| 8/8 [32:35<00:00, 244.45s/it]\n"
     ]
    }
   ],
   "execution_count": 11
  },
  {
   "cell_type": "code",
   "id": "e4741d3f0bd140a9",
   "metadata": {
    "ExecuteTime": {
     "end_time": "2025-03-30T14:43:19.308181Z",
     "start_time": "2025-03-30T14:33:49.700245Z"
    }
   },
   "source": [
    "y_pred = []\n",
    "y_test_full = []\n",
    "for test_batch in tqdm(test_dataset):\n",
    "    X_batch, y_batch = test_batch.load(num_aug=0, shuffle=True)\n",
    "    y_test_full.extend(y_batch)\n",
    "    dtest = xgb.DMatrix(X_batch)\n",
    "    y_pred_batch = xgb_model.predict(dtest)\n",
    "    y_pred.extend(y_pred_batch)"
   ],
   "outputs": [
    {
     "name": "stderr",
     "output_type": "stream",
     "text": [
      "100%|██████████| 12/12 [09:29<00:00, 47.47s/it]\n"
     ]
    }
   ],
   "execution_count": 13
  },
  {
   "cell_type": "code",
   "id": "374f709d5e515120",
   "metadata": {
    "ExecuteTime": {
     "end_time": "2025-03-30T14:43:19.601082Z",
     "start_time": "2025-03-30T14:43:19.328106Z"
    }
   },
   "source": [
    "stats = ModelStatistics(save_name=f\"svc_signer_test_{len(y_test_full)}\", save_dir=\"signer/plots\")\n",
    "stats.print_accuracy(y_test_full, y_pred)\n",
    "stats.plot_confusion_matrix(y_test_full, y_pred, save=True, plot=True)"
   ],
   "outputs": [
    {
     "name": "stdout",
     "output_type": "stream",
     "text": [
      "Accuracy: 96.53%\n",
      "Confusion matrix saved at signer/plots/svc_signer_test_5674.png\n"
     ]
    },
    {
     "data": {
      "text/plain": [
       "<Figure size 1000x700 with 2 Axes>"
      ],
      "image/png": "[encoded data removed]"
     },
     "metadata": {},
     "output_type": "display_data"
    }
   ],
   "execution_count": 14
  }
 ],
 "metadata": {
  "kernelspec": {
   "display_name": "Python 3",
   "language": "python",
   "name": "python3"
  },
  "language_info": {
   "codemirror_mode": {
    "name": "ipython",
    "version": 2
   },
   "file_extension": ".py",
   "mimetype": "text/x-python",
   "name": "python",
   "nbconvert_exporter": "python",
   "pygments_lexer": "ipython2",
   "version": "2.7.6"
  }
 },
 "nbformat": 4,
 "nbformat_minor": 5
}
