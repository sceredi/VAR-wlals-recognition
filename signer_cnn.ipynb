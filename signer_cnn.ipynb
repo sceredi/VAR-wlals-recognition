{
 "cells": [
  {
   "cell_type": "code",
   "id": "initial_id",
   "metadata": {
    "collapsed": true
   },
   "source": [
    "import os\n",
    "\n",
    "from app.dataset.dataset import Dataset\n",
    "from app.dataset.utils.dataset_splitter import SignerDatasetSplitter\n",
    "from app.features.plotter.frames_plotter import plot_frames\n",
    "from app.model.model_statistics import ModelStatistics\n",
    "from tensorflow import keras\n",
    "from tensorflow.keras import layers\n",
    "from tensorflow.keras.utils import to_categorical\n",
    "from sklearn.preprocessing import LabelEncoder\n",
    "\n",
    "import numpy as np\n",
    "dataset = Dataset(\"data/WLASL_v0.3.json\")\n",
    "n_videos = 2000"
   ],
   "outputs": [],
   "execution_count": null
  },
  {
   "cell_type": "code",
   "id": "2eceac37ba5196c7",
   "metadata": {},
   "source": [
    "videos = dataset.videos\n",
    "len(videos)"
   ],
   "outputs": [],
   "execution_count": null
  },
  {
   "cell_type": "code",
   "id": "e00c46ba0fe05019",
   "metadata": {},
   "source": [
    "signers = [video.signer_id for video in videos]\n",
    "len(signers)"
   ],
   "outputs": [],
   "execution_count": null
  },
  {
   "cell_type": "code",
   "id": "143c8313cd6a5a02",
   "metadata": {},
   "source": [
    "splitter = SignerDatasetSplitter(videos[:n_videos], frames_split=0.01, extract_features=False)\n",
    "train_frames, val_frames, test_frames = splitter.train_test_split(test_size=0.2, val_size=0.2, random_state=42)\n",
    "augmented_train_frames = splitter.apply_data_augmentation(train_frames, num_augmentations=0)"
   ],
   "outputs": [],
   "execution_count": null
  },
  {
   "cell_type": "code",
   "id": "f377f23674e65e36",
   "metadata": {},
   "source": [
    "print(len(train_frames))\n",
    "print(len(augmented_train_frames))\n",
    "print(len(val_frames))\n",
    "print(len(test_frames))"
   ],
   "outputs": [],
   "execution_count": null
  },
  {
   "cell_type": "code",
   "id": "22d6b9192a02be40",
   "metadata": {},
   "source": [
    "plot_frames([signer_frame.frame for signer_frame in augmented_train_frames[:30]])"
   ],
   "outputs": [],
   "execution_count": null
  },
  {
   "metadata": {},
   "cell_type": "code",
   "source": [
    "X_train = [signer_frame.frame for signer_frame in augmented_train_frames]\n",
    "y_train = [signer_frame.signer_id for signer_frame in augmented_train_frames]\n",
    "X_val = [signer_frame.frame for signer_frame in val_frames]\n",
    "y_val = [signer_frame.signer_id for signer_frame in val_frames]\n",
    "X_test = [signer_frame.frame for signer_frame in test_frames]\n",
    "y_test = [signer_frame.signer_id for signer_frame in test_frames]"
   ],
   "id": "84305ae3b885951d",
   "outputs": [],
   "execution_count": null
  },
  {
   "metadata": {},
   "cell_type": "code",
   "source": [
    "# Get the total of different labels\n",
    "num_classes = len(set(y_train) | set(y_val) | set(y_test))\n",
    "print(num_classes)"
   ],
   "id": "512dded188c3f4f2",
   "outputs": [],
   "execution_count": null
  },
  {
   "metadata": {},
   "cell_type": "code",
   "source": [
    "X_train = np.array(X_train)/255.0\n",
    "X_val = np.array(X_val)/255.0\n",
    "X_test = np.array(X_test)/255.0"
   ],
   "id": "e133d489c62319e1",
   "outputs": [],
   "execution_count": null
  },
  {
   "metadata": {},
   "cell_type": "code",
   "source": "print('Range originale: [',np.min(X_train),';',np.max(X_train),']')",
   "id": "8154cb84315d4cff",
   "outputs": [],
   "execution_count": null
  },
  {
   "metadata": {},
   "cell_type": "code",
   "source": [
    "X_train = (X_train*2)-1\n",
    "X_val = (X_val*2)-1\n",
    "X_test = (X_test*2)-1"
   ],
   "id": "6fc2b7913fc2a7f5",
   "outputs": [],
   "execution_count": null
  },
  {
   "metadata": {},
   "cell_type": "code",
   "source": "print('Range rimappato: [',np.min(X_train),';',np.max(X_train),']')",
   "id": "49105b385e440b3d",
   "outputs": [],
   "execution_count": null
  },
  {
   "metadata": {},
   "cell_type": "code",
   "source": [
    "X_train = X_train.astype('float32')\n",
    "X_val = X_val.astype('float32')\n",
    "X_test = X_test.astype('float32')"
   ],
   "id": "e8ad5266f365db33",
   "outputs": [],
   "execution_count": null
  },
  {
   "metadata": {},
   "cell_type": "code",
   "source": [
    "print(X_train.shape)\n",
    "print(len(y_train))\n",
    "print(len(X_val))\n",
    "print(len(y_val))\n",
    "print(len(X_test))\n",
    "print(len(y_test))"
   ],
   "id": "a4d84a4b3bc9224f",
   "outputs": [],
   "execution_count": null
  },
  {
   "metadata": {},
   "cell_type": "code",
   "source": "print(X_train[0].shape)",
   "id": "b347c10973859fb9",
   "outputs": [],
   "execution_count": null
  },
  {
   "metadata": {},
   "cell_type": "code",
   "source": "print(X_train.dtype)",
   "id": "a0f137bf0fe83d18",
   "outputs": [],
   "execution_count": null
  },
  {
   "metadata": {},
   "cell_type": "code",
   "source": [
    "# Assuming y_train contains person IDs\n",
    "label_encoder = LabelEncoder()\n",
    "y_train_encoded = label_encoder.fit_transform(y_train)  # Convert IDs to class indices\n",
    "y_val_encoded = label_encoder.fit_transform(y_val)\n",
    "y_test_encoded = label_encoder.fit_transform(y_test)"
   ],
   "id": "ee86eab78b92dff5",
   "outputs": [],
   "execution_count": null
  },
  {
   "metadata": {},
   "cell_type": "code",
   "source": [
    "y_train_onehot = to_categorical(y_train_encoded, num_classes=num_classes)\n",
    "y_val_onehot = to_categorical(y_val_encoded, num_classes=num_classes)\n",
    "y_test_onehot = to_categorical(y_test_encoded, num_classes=num_classes)"
   ],
   "id": "142cc3c16ad8220a",
   "outputs": [],
   "execution_count": null
  },
  {
   "metadata": {},
   "cell_type": "code",
   "source": [
    "def build_vggface():\n",
    "  model=keras.Sequential(\n",
    "          [\n",
    "              layers.Input(shape=(224,224,3),name='input'),\n",
    "              layers.Conv2D(filters=64, kernel_size=3,padding='same', activation='relu',name='conv1_1-relu1_1'),\n",
    "              layers.Conv2D(filters=64, kernel_size=3,padding='same', activation='relu',name='conv1_2-relu1_2'),\n",
    "              layers.MaxPooling2D(pool_size=2, strides=2,name='pool1'),\n",
    "              layers.Conv2D(filters=128, kernel_size=3,padding='same', activation='relu',name='conv2_1-relu2_1'),\n",
    "              layers.Conv2D(filters=128, kernel_size=3,padding='same', activation='relu',name='conv2_2-relu2_2'),\n",
    "              layers.MaxPooling2D(pool_size=2, strides=2,name='pool2'),\n",
    "              layers.Conv2D(filters=256, kernel_size=3,padding='same', activation='relu',name='conv3_1-relu3_1'),\n",
    "              layers.Conv2D(filters=256, kernel_size=3,padding='same', activation='relu',name='conv3_2-relu3_2'),\n",
    "              layers.Conv2D(filters=256, kernel_size=3,padding='same', activation='relu',name='conv3_3-relu3_3'),\n",
    "              layers.MaxPooling2D(pool_size=2, strides=2,name='pool3'),\n",
    "              layers.Conv2D(filters=512, kernel_size=3,padding='same', activation='relu',name='conv4_1-relu4_1'),\n",
    "              layers.Conv2D(filters=512, kernel_size=3,padding='same', activation='relu',name='conv4_2-relu4_2'),\n",
    "              layers.Conv2D(filters=512, kernel_size=3,padding='same', activation='relu',name='conv4_3-relu4_3'),\n",
    "              layers.MaxPooling2D(pool_size=2, strides=2,name='pool4'),\n",
    "              layers.Conv2D(filters=512, kernel_size=3,padding='same', activation='relu',name='conv5_1-relu5_1'),\n",
    "              layers.Conv2D(filters=512, kernel_size=3,padding='same', activation='relu',name='conv5_2-relu5_2'),\n",
    "              layers.Conv2D(filters=512, kernel_size=3,padding='same', activation='relu',name='conv5_3-relu5_3'),\n",
    "              layers.MaxPooling2D(pool_size=2, strides=2,name='pool5'),\n",
    "              layers.Conv2D(filters=4096, kernel_size=7, activation='relu',name='fc6-relu6'),\n",
    "              layers.Dropout(0.5,name='do6'),\n",
    "              layers.Conv2D(filters=4096, kernel_size=1, activation='relu',name='fc7-relu7'),\n",
    "              layers.Dropout(0.5,name='do7'),\n",
    "              layers.Conv2D(filters=num_classes, kernel_size=1,activation='softmax',name='fc8-prob'),\n",
    "              layers.Flatten(name='flatten'),\n",
    "          ]\n",
    "        )\n",
    "\n",
    "  return model"
   ],
   "id": "64ea3771b588ceac",
   "outputs": [],
   "execution_count": null
  },
  {
   "metadata": {},
   "cell_type": "code",
   "source": [
    "model=build_vggface()\n",
    "model.summary()\n",
    "keras.utils.plot_model(model,show_shapes=True, show_layer_names=True)\n",
    "# model.load_weights('vgg_face_weights.h5')"
   ],
   "id": "36d7089950371713",
   "outputs": [],
   "execution_count": null
  },
  {
   "metadata": {},
   "cell_type": "code",
   "source": [
    "checkpoint_filepath = \"model.ckpt\"\n",
    "model_checkpoint = keras.callbacks.ModelCheckpoint(\n",
    "    filepath=os.path.join(checkpoint_filepath, 'model_{epoch:02d}.weights.h5'),\n",
    "    save_weights_only=True,\n",
    "    save_best_only=True,\n",
    "    monitor='val_loss',\n",
    "    mode='min',\n",
    ")\n",
    "\n",
    "early_stopping = keras.callbacks.EarlyStopping(\n",
    "    monitor='val_loss',\n",
    "    mode='min',\n",
    "    patience=50,\n",
    "    restore_best_weights=True\n",
    ")\n",
    "\n",
    "model.compile(\n",
    "    loss = keras.losses.CategoricalCrossentropy(),\n",
    "    optimizer='adam',\n",
    "    metrics=['accuracy']\n",
    ")"
   ],
   "id": "26c26e9321725718",
   "outputs": [],
   "execution_count": null
  },
  {
   "metadata": {
    "jupyter": {
     "is_executing": true
    }
   },
   "cell_type": "code",
   "source": [
    "model.fit(\n",
    "    X_train,\n",
    "    y_train_onehot,\n",
    "    batch_size=128,\n",
    "    epochs=10,\n",
    "    validation_data=(X_val, y_val_onehot),\n",
    "    verbose=1,\n",
    ")"
   ],
   "id": "5943f14d7e471b9b",
   "outputs": [],
   "execution_count": null
  },
  {
   "metadata": {},
   "cell_type": "code",
   "source": "test_loss, test_acc = model.evaluate(X_test, y_test_onehot)",
   "id": "f3d2c84020bd65e9",
   "outputs": [],
   "execution_count": null
  },
  {
   "metadata": {},
   "cell_type": "code",
   "source": "y_pred = model.predict(X_test)",
   "id": "2c64193ce7e96752",
   "outputs": [],
   "execution_count": null
  },
  {
   "metadata": {},
   "cell_type": "code",
   "source": "stats = ModelStatistics(save_name=f\"svc_{n_videos}_signer_test_{len(y_test)}\", save_dir=\"signer/plots\")",
   "id": "b2362eba15dcb29d",
   "outputs": [],
   "execution_count": null
  },
  {
   "metadata": {},
   "cell_type": "code",
   "source": "stats.print_accuracy(y_test_onehot, y_pred)",
   "id": "3468e8111c55c858",
   "outputs": [],
   "execution_count": null
  },
  {
   "metadata": {},
   "cell_type": "code",
   "source": "stats.plot_confusion_matrix(y_test, y_pred, save=True, plot=True",
   "id": "4f685e18dd024fee",
   "outputs": [],
   "execution_count": null
  }
 ],
 "metadata": {
  "kernelspec": {
   "display_name": "Python 3",
   "language": "python",
   "name": "python3"
  },
  "language_info": {
   "codemirror_mode": {
    "name": "ipython",
    "version": 2
   },
   "file_extension": ".py",
   "mimetype": "text/x-python",
   "name": "python",
   "nbconvert_exporter": "python",
   "pygments_lexer": "ipython2",
   "version": "2.7.6"
  }
 },
 "nbformat": 4,
 "nbformat_minor": 5
}
